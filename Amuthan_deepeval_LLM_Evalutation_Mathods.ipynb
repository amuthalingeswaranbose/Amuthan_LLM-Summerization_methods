{
  "nbformat": 4,
  "nbformat_minor": 0,
  "metadata": {
    "colab": {
      "provenance": [],
      "collapsed_sections": [
        "H0M6r3MOr_LM",
        "w4CiCqJAtxSC",
        "A2zFrlbDtxSC"
      ],
      "authorship_tag": "ABX9TyNObOmkJrsoLGO2v3QBojJm",
      "include_colab_link": true
    },
    "kernelspec": {
      "name": "python3",
      "display_name": "Python 3"
    },
    "language_info": {
      "name": "python"
    },
    "widgets": {
      "application/vnd.jupyter.widget-state+json": {
        "2ada85ef6b80408e9f363b4607d7bacb": {
          "model_module": "@jupyter-widgets/output",
          "model_name": "OutputModel",
          "model_module_version": "1.0.0",
          "state": {
            "_dom_classes": [],
            "_model_module": "@jupyter-widgets/output",
            "_model_module_version": "1.0.0",
            "_model_name": "OutputModel",
            "_view_count": null,
            "_view_module": "@jupyter-widgets/output",
            "_view_module_version": "1.0.0",
            "_view_name": "OutputView",
            "layout": "IPY_MODEL_23c05bb58cd1482c88808a76af87fdbf",
            "msg_id": "",
            "outputs": [
              {
                "output_type": "display_data",
                "data": {
                  "text/plain": "\u001b[32m⠋\u001b[0m ✨ 🍰 ✨ You're using DeepEval's latest Summarization Metric (using azure-openai-chat)! This may take a minute...\n",
                  "text/html": "<pre style=\"white-space:pre;overflow-x:auto;line-height:normal;font-family:Menlo,'DejaVu Sans Mono',consolas,'Courier New',monospace\"><span style=\"color: #008000; text-decoration-color: #008000\">⠋</span> ✨ 🍰 ✨ You're using DeepEval's latest Summarization Metric (using azure-openai-chat)! This may take a minute...\n</pre>\n"
                },
                "metadata": {}
              }
            ]
          }
        },
        "23c05bb58cd1482c88808a76af87fdbf": {
          "model_module": "@jupyter-widgets/base",
          "model_name": "LayoutModel",
          "model_module_version": "1.2.0",
          "state": {
            "_model_module": "@jupyter-widgets/base",
            "_model_module_version": "1.2.0",
            "_model_name": "LayoutModel",
            "_view_count": null,
            "_view_module": "@jupyter-widgets/base",
            "_view_module_version": "1.2.0",
            "_view_name": "LayoutView",
            "align_content": null,
            "align_items": null,
            "align_self": null,
            "border": null,
            "bottom": null,
            "display": null,
            "flex": null,
            "flex_flow": null,
            "grid_area": null,
            "grid_auto_columns": null,
            "grid_auto_flow": null,
            "grid_auto_rows": null,
            "grid_column": null,
            "grid_gap": null,
            "grid_row": null,
            "grid_template_areas": null,
            "grid_template_columns": null,
            "grid_template_rows": null,
            "height": null,
            "justify_content": null,
            "justify_items": null,
            "left": null,
            "margin": null,
            "max_height": null,
            "max_width": null,
            "min_height": null,
            "min_width": null,
            "object_fit": null,
            "object_position": null,
            "order": null,
            "overflow": null,
            "overflow_x": null,
            "overflow_y": null,
            "padding": null,
            "right": null,
            "top": null,
            "visibility": null,
            "width": null
          }
        },
        "661415e64fea408ba4fa410da5df5ed6": {
          "model_module": "@jupyter-widgets/output",
          "model_name": "OutputModel",
          "model_module_version": "1.0.0",
          "state": {
            "_dom_classes": [],
            "_model_module": "@jupyter-widgets/output",
            "_model_module_version": "1.0.0",
            "_model_name": "OutputModel",
            "_view_count": null,
            "_view_module": "@jupyter-widgets/output",
            "_view_module_version": "1.0.0",
            "_view_name": "OutputView",
            "layout": "IPY_MODEL_ee067a7f9eea4172a9dca5c9966d97b7",
            "msg_id": "",
            "outputs": [
              {
                "output_type": "display_data",
                "data": {
                  "text/plain": "\u001b[32m⠧\u001b[0m ✨ 🍰 ✨ You're using DeepEval's latest Summarization Metric (using azure-openai-chat)! This may take a minute...\n",
                  "text/html": "<pre style=\"white-space:pre;overflow-x:auto;line-height:normal;font-family:Menlo,'DejaVu Sans Mono',consolas,'Courier New',monospace\"><span style=\"color: #008000; text-decoration-color: #008000\">⠧</span> ✨ 🍰 ✨ You're using DeepEval's latest Summarization Metric (using azure-openai-chat)! This may take a minute...\n</pre>\n"
                },
                "metadata": {}
              }
            ]
          }
        },
        "ee067a7f9eea4172a9dca5c9966d97b7": {
          "model_module": "@jupyter-widgets/base",
          "model_name": "LayoutModel",
          "model_module_version": "1.2.0",
          "state": {
            "_model_module": "@jupyter-widgets/base",
            "_model_module_version": "1.2.0",
            "_model_name": "LayoutModel",
            "_view_count": null,
            "_view_module": "@jupyter-widgets/base",
            "_view_module_version": "1.2.0",
            "_view_name": "LayoutView",
            "align_content": null,
            "align_items": null,
            "align_self": null,
            "border": null,
            "bottom": null,
            "display": null,
            "flex": null,
            "flex_flow": null,
            "grid_area": null,
            "grid_auto_columns": null,
            "grid_auto_flow": null,
            "grid_auto_rows": null,
            "grid_column": null,
            "grid_gap": null,
            "grid_row": null,
            "grid_template_areas": null,
            "grid_template_columns": null,
            "grid_template_rows": null,
            "height": null,
            "justify_content": null,
            "justify_items": null,
            "left": null,
            "margin": null,
            "max_height": null,
            "max_width": null,
            "min_height": null,
            "min_width": null,
            "object_fit": null,
            "object_position": null,
            "order": null,
            "overflow": null,
            "overflow_x": null,
            "overflow_y": null,
            "padding": null,
            "right": null,
            "top": null,
            "visibility": null,
            "width": null
          }
        },
        "90c9a619eab04ac9af5e7f7ca8ed594b": {
          "model_module": "@jupyter-widgets/output",
          "model_name": "OutputModel",
          "model_module_version": "1.0.0",
          "state": {
            "_dom_classes": [],
            "_model_module": "@jupyter-widgets/output",
            "_model_module_version": "1.0.0",
            "_model_name": "OutputModel",
            "_view_count": null,
            "_view_module": "@jupyter-widgets/output",
            "_view_module_version": "1.0.0",
            "_view_name": "OutputView",
            "layout": "IPY_MODEL_d328d300d2ec41e7a14dc7c832ad0f43",
            "msg_id": "",
            "outputs": [
              {
                "output_type": "display_data",
                "data": {
                  "text/plain": "\u001b[32m⠼\u001b[0m Evaluating testcases...\n",
                  "text/html": "<pre style=\"white-space:pre;overflow-x:auto;line-height:normal;font-family:Menlo,'DejaVu Sans Mono',consolas,'Courier New',monospace\"><span style=\"color: #008000; text-decoration-color: #008000\">⠼</span> Evaluating testcases...\n</pre>\n"
                },
                "metadata": {}
              }
            ]
          }
        },
        "d328d300d2ec41e7a14dc7c832ad0f43": {
          "model_module": "@jupyter-widgets/base",
          "model_name": "LayoutModel",
          "model_module_version": "1.2.0",
          "state": {
            "_model_module": "@jupyter-widgets/base",
            "_model_module_version": "1.2.0",
            "_model_name": "LayoutModel",
            "_view_count": null,
            "_view_module": "@jupyter-widgets/base",
            "_view_module_version": "1.2.0",
            "_view_name": "LayoutView",
            "align_content": null,
            "align_items": null,
            "align_self": null,
            "border": null,
            "bottom": null,
            "display": null,
            "flex": null,
            "flex_flow": null,
            "grid_area": null,
            "grid_auto_columns": null,
            "grid_auto_flow": null,
            "grid_auto_rows": null,
            "grid_column": null,
            "grid_gap": null,
            "grid_row": null,
            "grid_template_areas": null,
            "grid_template_columns": null,
            "grid_template_rows": null,
            "height": null,
            "justify_content": null,
            "justify_items": null,
            "left": null,
            "margin": null,
            "max_height": null,
            "max_width": null,
            "min_height": null,
            "min_width": null,
            "object_fit": null,
            "object_position": null,
            "order": null,
            "overflow": null,
            "overflow_x": null,
            "overflow_y": null,
            "padding": null,
            "right": null,
            "top": null,
            "visibility": null,
            "width": null
          }
        },
        "1f67735423be4667b6283a47eb8afb6a": {
          "model_module": "@jupyter-widgets/output",
          "model_name": "OutputModel",
          "model_module_version": "1.0.0",
          "state": {
            "_dom_classes": [],
            "_model_module": "@jupyter-widgets/output",
            "_model_module_version": "1.0.0",
            "_model_name": "OutputModel",
            "_view_count": null,
            "_view_module": "@jupyter-widgets/output",
            "_view_module_version": "1.0.0",
            "_view_name": "OutputView",
            "layout": "IPY_MODEL_e235f52aecaf4a678ccce40c57374f29",
            "msg_id": "",
            "outputs": [
              {
                "output_type": "display_data",
                "data": {
                  "text/plain": "\u001b[32m⠸\u001b[0m ✨ 🍰 ✨ You're using DeepEval's latest Summarization Metric (using azure-openai-chat)! This may take a minute...\n",
                  "text/html": "<pre style=\"white-space:pre;overflow-x:auto;line-height:normal;font-family:Menlo,'DejaVu Sans Mono',consolas,'Courier New',monospace\"><span style=\"color: #008000; text-decoration-color: #008000\">⠸</span> ✨ 🍰 ✨ You're using DeepEval's latest Summarization Metric (using azure-openai-chat)! This may take a minute...\n</pre>\n"
                },
                "metadata": {}
              }
            ]
          }
        },
        "e235f52aecaf4a678ccce40c57374f29": {
          "model_module": "@jupyter-widgets/base",
          "model_name": "LayoutModel",
          "model_module_version": "1.2.0",
          "state": {
            "_model_module": "@jupyter-widgets/base",
            "_model_module_version": "1.2.0",
            "_model_name": "LayoutModel",
            "_view_count": null,
            "_view_module": "@jupyter-widgets/base",
            "_view_module_version": "1.2.0",
            "_view_name": "LayoutView",
            "align_content": null,
            "align_items": null,
            "align_self": null,
            "border": null,
            "bottom": null,
            "display": null,
            "flex": null,
            "flex_flow": null,
            "grid_area": null,
            "grid_auto_columns": null,
            "grid_auto_flow": null,
            "grid_auto_rows": null,
            "grid_column": null,
            "grid_gap": null,
            "grid_row": null,
            "grid_template_areas": null,
            "grid_template_columns": null,
            "grid_template_rows": null,
            "height": null,
            "justify_content": null,
            "justify_items": null,
            "left": null,
            "margin": null,
            "max_height": null,
            "max_width": null,
            "min_height": null,
            "min_width": null,
            "object_fit": null,
            "object_position": null,
            "order": null,
            "overflow": null,
            "overflow_x": null,
            "overflow_y": null,
            "padding": null,
            "right": null,
            "top": null,
            "visibility": null,
            "width": null
          }
        },
        "f32da75ecf3d4bb4b717dadc548692ed": {
          "model_module": "@jupyter-widgets/output",
          "model_name": "OutputModel",
          "model_module_version": "1.0.0",
          "state": {
            "_dom_classes": [],
            "_model_module": "@jupyter-widgets/output",
            "_model_module_version": "1.0.0",
            "_model_name": "OutputModel",
            "_view_count": null,
            "_view_module": "@jupyter-widgets/output",
            "_view_module_version": "1.0.0",
            "_view_name": "OutputView",
            "layout": "IPY_MODEL_7fd3adf016504003b1ae591f6177f83d",
            "msg_id": "",
            "outputs": [
              {
                "output_type": "display_data",
                "data": {
                  "text/plain": "\u001b[32m⠸\u001b[0m ✨ 🍰 ✨ You're using DeepEval's latest Summarization Metric (using azure-openai-chat)! This may take a minute...\n",
                  "text/html": "<pre style=\"white-space:pre;overflow-x:auto;line-height:normal;font-family:Menlo,'DejaVu Sans Mono',consolas,'Courier New',monospace\"><span style=\"color: #008000; text-decoration-color: #008000\">⠸</span> ✨ 🍰 ✨ You're using DeepEval's latest Summarization Metric (using azure-openai-chat)! This may take a minute...\n</pre>\n"
                },
                "metadata": {}
              }
            ]
          }
        },
        "7fd3adf016504003b1ae591f6177f83d": {
          "model_module": "@jupyter-widgets/base",
          "model_name": "LayoutModel",
          "model_module_version": "1.2.0",
          "state": {
            "_model_module": "@jupyter-widgets/base",
            "_model_module_version": "1.2.0",
            "_model_name": "LayoutModel",
            "_view_count": null,
            "_view_module": "@jupyter-widgets/base",
            "_view_module_version": "1.2.0",
            "_view_name": "LayoutView",
            "align_content": null,
            "align_items": null,
            "align_self": null,
            "border": null,
            "bottom": null,
            "display": null,
            "flex": null,
            "flex_flow": null,
            "grid_area": null,
            "grid_auto_columns": null,
            "grid_auto_flow": null,
            "grid_auto_rows": null,
            "grid_column": null,
            "grid_gap": null,
            "grid_row": null,
            "grid_template_areas": null,
            "grid_template_columns": null,
            "grid_template_rows": null,
            "height": null,
            "justify_content": null,
            "justify_items": null,
            "left": null,
            "margin": null,
            "max_height": null,
            "max_width": null,
            "min_height": null,
            "min_width": null,
            "object_fit": null,
            "object_position": null,
            "order": null,
            "overflow": null,
            "overflow_x": null,
            "overflow_y": null,
            "padding": null,
            "right": null,
            "top": null,
            "visibility": null,
            "width": null
          }
        },
        "56cb691221ff451bb164afad96bdf4c0": {
          "model_module": "@jupyter-widgets/output",
          "model_name": "OutputModel",
          "model_module_version": "1.0.0",
          "state": {
            "_dom_classes": [],
            "_model_module": "@jupyter-widgets/output",
            "_model_module_version": "1.0.0",
            "_model_name": "OutputModel",
            "_view_count": null,
            "_view_module": "@jupyter-widgets/output",
            "_view_module_version": "1.0.0",
            "_view_name": "OutputView",
            "layout": "IPY_MODEL_2f7d69c325fa45148bb18086402dff7e",
            "msg_id": "",
            "outputs": [
              {
                "output_type": "display_data",
                "data": {
                  "text/plain": "\u001b[32m⠴\u001b[0m ✨ 🍰 ✨ You're using DeepEval's latest Summarization Metric (using azure-openai-chat)! This may take a minute...\n",
                  "text/html": "<pre style=\"white-space:pre;overflow-x:auto;line-height:normal;font-family:Menlo,'DejaVu Sans Mono',consolas,'Courier New',monospace\"><span style=\"color: #008000; text-decoration-color: #008000\">⠴</span> ✨ 🍰 ✨ You're using DeepEval's latest Summarization Metric (using azure-openai-chat)! This may take a minute...\n</pre>\n"
                },
                "metadata": {}
              }
            ]
          }
        },
        "2f7d69c325fa45148bb18086402dff7e": {
          "model_module": "@jupyter-widgets/base",
          "model_name": "LayoutModel",
          "model_module_version": "1.2.0",
          "state": {
            "_model_module": "@jupyter-widgets/base",
            "_model_module_version": "1.2.0",
            "_model_name": "LayoutModel",
            "_view_count": null,
            "_view_module": "@jupyter-widgets/base",
            "_view_module_version": "1.2.0",
            "_view_name": "LayoutView",
            "align_content": null,
            "align_items": null,
            "align_self": null,
            "border": null,
            "bottom": null,
            "display": null,
            "flex": null,
            "flex_flow": null,
            "grid_area": null,
            "grid_auto_columns": null,
            "grid_auto_flow": null,
            "grid_auto_rows": null,
            "grid_column": null,
            "grid_gap": null,
            "grid_row": null,
            "grid_template_areas": null,
            "grid_template_columns": null,
            "grid_template_rows": null,
            "height": null,
            "justify_content": null,
            "justify_items": null,
            "left": null,
            "margin": null,
            "max_height": null,
            "max_width": null,
            "min_height": null,
            "min_width": null,
            "object_fit": null,
            "object_position": null,
            "order": null,
            "overflow": null,
            "overflow_x": null,
            "overflow_y": null,
            "padding": null,
            "right": null,
            "top": null,
            "visibility": null,
            "width": null
          }
        },
        "58bb0b11b77c4d48b99b76787e6d7c02": {
          "model_module": "@jupyter-widgets/output",
          "model_name": "OutputModel",
          "model_module_version": "1.0.0",
          "state": {
            "_dom_classes": [],
            "_model_module": "@jupyter-widgets/output",
            "_model_module_version": "1.0.0",
            "_model_name": "OutputModel",
            "_view_count": null,
            "_view_module": "@jupyter-widgets/output",
            "_view_module_version": "1.0.0",
            "_view_name": "OutputView",
            "layout": "IPY_MODEL_676aacab4b514aeb88978fff33e79274",
            "msg_id": "",
            "outputs": [
              {
                "output_type": "display_data",
                "data": {
                  "text/plain": "\u001b[32m⠋\u001b[0m Evaluating testcases...\n",
                  "text/html": "<pre style=\"white-space:pre;overflow-x:auto;line-height:normal;font-family:Menlo,'DejaVu Sans Mono',consolas,'Courier New',monospace\"><span style=\"color: #008000; text-decoration-color: #008000\">⠋</span> Evaluating testcases...\n</pre>\n"
                },
                "metadata": {}
              }
            ]
          }
        },
        "676aacab4b514aeb88978fff33e79274": {
          "model_module": "@jupyter-widgets/base",
          "model_name": "LayoutModel",
          "model_module_version": "1.2.0",
          "state": {
            "_model_module": "@jupyter-widgets/base",
            "_model_module_version": "1.2.0",
            "_model_name": "LayoutModel",
            "_view_count": null,
            "_view_module": "@jupyter-widgets/base",
            "_view_module_version": "1.2.0",
            "_view_name": "LayoutView",
            "align_content": null,
            "align_items": null,
            "align_self": null,
            "border": null,
            "bottom": null,
            "display": null,
            "flex": null,
            "flex_flow": null,
            "grid_area": null,
            "grid_auto_columns": null,
            "grid_auto_flow": null,
            "grid_auto_rows": null,
            "grid_column": null,
            "grid_gap": null,
            "grid_row": null,
            "grid_template_areas": null,
            "grid_template_columns": null,
            "grid_template_rows": null,
            "height": null,
            "justify_content": null,
            "justify_items": null,
            "left": null,
            "margin": null,
            "max_height": null,
            "max_width": null,
            "min_height": null,
            "min_width": null,
            "object_fit": null,
            "object_position": null,
            "order": null,
            "overflow": null,
            "overflow_x": null,
            "overflow_y": null,
            "padding": null,
            "right": null,
            "top": null,
            "visibility": null,
            "width": null
          }
        },
        "9f1256877a1146e59488c57c678f90a0": {
          "model_module": "@jupyter-widgets/output",
          "model_name": "OutputModel",
          "model_module_version": "1.0.0",
          "state": {
            "_dom_classes": [],
            "_model_module": "@jupyter-widgets/output",
            "_model_module_version": "1.0.0",
            "_model_name": "OutputModel",
            "_view_count": null,
            "_view_module": "@jupyter-widgets/output",
            "_view_module_version": "1.0.0",
            "_view_name": "OutputView",
            "layout": "IPY_MODEL_dc617cdb2e0046eb86b48aee945ffa57",
            "msg_id": "",
            "outputs": [
              {
                "output_type": "display_data",
                "data": {
                  "text/plain": "\u001b[32m⠋\u001b[0m ✨ 🍰 ✨ You're using DeepEval's latest Summarization Metric (using azure-openai-chat)! This may take a minute...\n",
                  "text/html": "<pre style=\"white-space:pre;overflow-x:auto;line-height:normal;font-family:Menlo,'DejaVu Sans Mono',consolas,'Courier New',monospace\"><span style=\"color: #008000; text-decoration-color: #008000\">⠋</span> ✨ 🍰 ✨ You're using DeepEval's latest Summarization Metric (using azure-openai-chat)! This may take a minute...\n</pre>\n"
                },
                "metadata": {}
              }
            ]
          }
        },
        "dc617cdb2e0046eb86b48aee945ffa57": {
          "model_module": "@jupyter-widgets/base",
          "model_name": "LayoutModel",
          "model_module_version": "1.2.0",
          "state": {
            "_model_module": "@jupyter-widgets/base",
            "_model_module_version": "1.2.0",
            "_model_name": "LayoutModel",
            "_view_count": null,
            "_view_module": "@jupyter-widgets/base",
            "_view_module_version": "1.2.0",
            "_view_name": "LayoutView",
            "align_content": null,
            "align_items": null,
            "align_self": null,
            "border": null,
            "bottom": null,
            "display": null,
            "flex": null,
            "flex_flow": null,
            "grid_area": null,
            "grid_auto_columns": null,
            "grid_auto_flow": null,
            "grid_auto_rows": null,
            "grid_column": null,
            "grid_gap": null,
            "grid_row": null,
            "grid_template_areas": null,
            "grid_template_columns": null,
            "grid_template_rows": null,
            "height": null,
            "justify_content": null,
            "justify_items": null,
            "left": null,
            "margin": null,
            "max_height": null,
            "max_width": null,
            "min_height": null,
            "min_width": null,
            "object_fit": null,
            "object_position": null,
            "order": null,
            "overflow": null,
            "overflow_x": null,
            "overflow_y": null,
            "padding": null,
            "right": null,
            "top": null,
            "visibility": null,
            "width": null
          }
        },
        "38517a990df14ef49813b3629dad0708": {
          "model_module": "@jupyter-widgets/output",
          "model_name": "OutputModel",
          "model_module_version": "1.0.0",
          "state": {
            "_dom_classes": [],
            "_model_module": "@jupyter-widgets/output",
            "_model_module_version": "1.0.0",
            "_model_name": "OutputModel",
            "_view_count": null,
            "_view_module": "@jupyter-widgets/output",
            "_view_module_version": "1.0.0",
            "_view_name": "OutputView",
            "layout": "IPY_MODEL_7b0ad1649d934455aa06fa01a1ee15ab",
            "msg_id": "",
            "outputs": [
              {
                "output_type": "display_data",
                "data": {
                  "text/plain": "\u001b[32m⠏\u001b[0m ✨ 🍰 ✨ You're using DeepEval's latest Summarization Metric (using azure-openai-chat)! This may take a minute...\n",
                  "text/html": "<pre style=\"white-space:pre;overflow-x:auto;line-height:normal;font-family:Menlo,'DejaVu Sans Mono',consolas,'Courier New',monospace\"><span style=\"color: #008000; text-decoration-color: #008000\">⠏</span> ✨ 🍰 ✨ You're using DeepEval's latest Summarization Metric (using azure-openai-chat)! This may take a minute...\n</pre>\n"
                },
                "metadata": {}
              }
            ]
          }
        },
        "7b0ad1649d934455aa06fa01a1ee15ab": {
          "model_module": "@jupyter-widgets/base",
          "model_name": "LayoutModel",
          "model_module_version": "1.2.0",
          "state": {
            "_model_module": "@jupyter-widgets/base",
            "_model_module_version": "1.2.0",
            "_model_name": "LayoutModel",
            "_view_count": null,
            "_view_module": "@jupyter-widgets/base",
            "_view_module_version": "1.2.0",
            "_view_name": "LayoutView",
            "align_content": null,
            "align_items": null,
            "align_self": null,
            "border": null,
            "bottom": null,
            "display": null,
            "flex": null,
            "flex_flow": null,
            "grid_area": null,
            "grid_auto_columns": null,
            "grid_auto_flow": null,
            "grid_auto_rows": null,
            "grid_column": null,
            "grid_gap": null,
            "grid_row": null,
            "grid_template_areas": null,
            "grid_template_columns": null,
            "grid_template_rows": null,
            "height": null,
            "justify_content": null,
            "justify_items": null,
            "left": null,
            "margin": null,
            "max_height": null,
            "max_width": null,
            "min_height": null,
            "min_width": null,
            "object_fit": null,
            "object_position": null,
            "order": null,
            "overflow": null,
            "overflow_x": null,
            "overflow_y": null,
            "padding": null,
            "right": null,
            "top": null,
            "visibility": null,
            "width": null
          }
        },
        "07d339a84b764d0dbba4d19521d6eef9": {
          "model_module": "@jupyter-widgets/output",
          "model_name": "OutputModel",
          "model_module_version": "1.0.0",
          "state": {
            "_dom_classes": [],
            "_model_module": "@jupyter-widgets/output",
            "_model_module_version": "1.0.0",
            "_model_name": "OutputModel",
            "_view_count": null,
            "_view_module": "@jupyter-widgets/output",
            "_view_module_version": "1.0.0",
            "_view_name": "OutputView",
            "layout": "IPY_MODEL_b931d9a6e880499f97ac4f7df82f469c",
            "msg_id": "",
            "outputs": [
              {
                "output_type": "display_data",
                "data": {
                  "text/plain": "\u001b[32m⠼\u001b[0m ✨ 🍰 ✨ You're using DeepEval's latest Summarization Metric (using azure-openai-chat)! This may take a minute...\n",
                  "text/html": "<pre style=\"white-space:pre;overflow-x:auto;line-height:normal;font-family:Menlo,'DejaVu Sans Mono',consolas,'Courier New',monospace\"><span style=\"color: #008000; text-decoration-color: #008000\">⠼</span> ✨ 🍰 ✨ You're using DeepEval's latest Summarization Metric (using azure-openai-chat)! This may take a minute...\n</pre>\n"
                },
                "metadata": {}
              }
            ]
          }
        },
        "b931d9a6e880499f97ac4f7df82f469c": {
          "model_module": "@jupyter-widgets/base",
          "model_name": "LayoutModel",
          "model_module_version": "1.2.0",
          "state": {
            "_model_module": "@jupyter-widgets/base",
            "_model_module_version": "1.2.0",
            "_model_name": "LayoutModel",
            "_view_count": null,
            "_view_module": "@jupyter-widgets/base",
            "_view_module_version": "1.2.0",
            "_view_name": "LayoutView",
            "align_content": null,
            "align_items": null,
            "align_self": null,
            "border": null,
            "bottom": null,
            "display": null,
            "flex": null,
            "flex_flow": null,
            "grid_area": null,
            "grid_auto_columns": null,
            "grid_auto_flow": null,
            "grid_auto_rows": null,
            "grid_column": null,
            "grid_gap": null,
            "grid_row": null,
            "grid_template_areas": null,
            "grid_template_columns": null,
            "grid_template_rows": null,
            "height": null,
            "justify_content": null,
            "justify_items": null,
            "left": null,
            "margin": null,
            "max_height": null,
            "max_width": null,
            "min_height": null,
            "min_width": null,
            "object_fit": null,
            "object_position": null,
            "order": null,
            "overflow": null,
            "overflow_x": null,
            "overflow_y": null,
            "padding": null,
            "right": null,
            "top": null,
            "visibility": null,
            "width": null
          }
        },
        "3df7ebcb861e42d79ffd392c725d258a": {
          "model_module": "@jupyter-widgets/output",
          "model_name": "OutputModel",
          "model_module_version": "1.0.0",
          "state": {
            "_dom_classes": [],
            "_model_module": "@jupyter-widgets/output",
            "_model_module_version": "1.0.0",
            "_model_name": "OutputModel",
            "_view_count": null,
            "_view_module": "@jupyter-widgets/output",
            "_view_module_version": "1.0.0",
            "_view_name": "OutputView",
            "layout": "IPY_MODEL_1ad2d6022d484b3f92db2c6914a129db",
            "msg_id": "",
            "outputs": [
              {
                "output_type": "display_data",
                "data": {
                  "text/plain": "\u001b[32m⠇\u001b[0m Evaluating testcases...\n",
                  "text/html": "<pre style=\"white-space:pre;overflow-x:auto;line-height:normal;font-family:Menlo,'DejaVu Sans Mono',consolas,'Courier New',monospace\"><span style=\"color: #008000; text-decoration-color: #008000\">⠇</span> Evaluating testcases...\n</pre>\n"
                },
                "metadata": {}
              }
            ]
          }
        },
        "1ad2d6022d484b3f92db2c6914a129db": {
          "model_module": "@jupyter-widgets/base",
          "model_name": "LayoutModel",
          "model_module_version": "1.2.0",
          "state": {
            "_model_module": "@jupyter-widgets/base",
            "_model_module_version": "1.2.0",
            "_model_name": "LayoutModel",
            "_view_count": null,
            "_view_module": "@jupyter-widgets/base",
            "_view_module_version": "1.2.0",
            "_view_name": "LayoutView",
            "align_content": null,
            "align_items": null,
            "align_self": null,
            "border": null,
            "bottom": null,
            "display": null,
            "flex": null,
            "flex_flow": null,
            "grid_area": null,
            "grid_auto_columns": null,
            "grid_auto_flow": null,
            "grid_auto_rows": null,
            "grid_column": null,
            "grid_gap": null,
            "grid_row": null,
            "grid_template_areas": null,
            "grid_template_columns": null,
            "grid_template_rows": null,
            "height": null,
            "justify_content": null,
            "justify_items": null,
            "left": null,
            "margin": null,
            "max_height": null,
            "max_width": null,
            "min_height": null,
            "min_width": null,
            "object_fit": null,
            "object_position": null,
            "order": null,
            "overflow": null,
            "overflow_x": null,
            "overflow_y": null,
            "padding": null,
            "right": null,
            "top": null,
            "visibility": null,
            "width": null
          }
        },
        "abc6cd415e4f4b34abad5d58935b9592": {
          "model_module": "@jupyter-widgets/output",
          "model_name": "OutputModel",
          "model_module_version": "1.0.0",
          "state": {
            "_dom_classes": [],
            "_model_module": "@jupyter-widgets/output",
            "_model_module_version": "1.0.0",
            "_model_name": "OutputModel",
            "_view_count": null,
            "_view_module": "@jupyter-widgets/output",
            "_view_module_version": "1.0.0",
            "_view_name": "OutputView",
            "layout": "IPY_MODEL_ff4f73e86b9941bdb221a45116ee05ce",
            "msg_id": "",
            "outputs": [
              {
                "output_type": "display_data",
                "data": {
                  "text/plain": "\u001b[32m⠧\u001b[0m ✨ 🍰 ✨ You're using DeepEval's latest Summarization Metric (using azure-openai-chat)! This may take a minute...\n",
                  "text/html": "<pre style=\"white-space:pre;overflow-x:auto;line-height:normal;font-family:Menlo,'DejaVu Sans Mono',consolas,'Courier New',monospace\"><span style=\"color: #008000; text-decoration-color: #008000\">⠧</span> ✨ 🍰 ✨ You're using DeepEval's latest Summarization Metric (using azure-openai-chat)! This may take a minute...\n</pre>\n"
                },
                "metadata": {}
              }
            ]
          }
        },
        "ff4f73e86b9941bdb221a45116ee05ce": {
          "model_module": "@jupyter-widgets/base",
          "model_name": "LayoutModel",
          "model_module_version": "1.2.0",
          "state": {
            "_model_module": "@jupyter-widgets/base",
            "_model_module_version": "1.2.0",
            "_model_name": "LayoutModel",
            "_view_count": null,
            "_view_module": "@jupyter-widgets/base",
            "_view_module_version": "1.2.0",
            "_view_name": "LayoutView",
            "align_content": null,
            "align_items": null,
            "align_self": null,
            "border": null,
            "bottom": null,
            "display": null,
            "flex": null,
            "flex_flow": null,
            "grid_area": null,
            "grid_auto_columns": null,
            "grid_auto_flow": null,
            "grid_auto_rows": null,
            "grid_column": null,
            "grid_gap": null,
            "grid_row": null,
            "grid_template_areas": null,
            "grid_template_columns": null,
            "grid_template_rows": null,
            "height": null,
            "justify_content": null,
            "justify_items": null,
            "left": null,
            "margin": null,
            "max_height": null,
            "max_width": null,
            "min_height": null,
            "min_width": null,
            "object_fit": null,
            "object_position": null,
            "order": null,
            "overflow": null,
            "overflow_x": null,
            "overflow_y": null,
            "padding": null,
            "right": null,
            "top": null,
            "visibility": null,
            "width": null
          }
        },
        "5861c51337d14401894163dc202efc3b": {
          "model_module": "@jupyter-widgets/output",
          "model_name": "OutputModel",
          "model_module_version": "1.0.0",
          "state": {
            "_dom_classes": [],
            "_model_module": "@jupyter-widgets/output",
            "_model_module_version": "1.0.0",
            "_model_name": "OutputModel",
            "_view_count": null,
            "_view_module": "@jupyter-widgets/output",
            "_view_module_version": "1.0.0",
            "_view_name": "OutputView",
            "layout": "IPY_MODEL_e3fe0705f9a4467385a4381b3d9a0d10",
            "msg_id": "",
            "outputs": [
              {
                "output_type": "display_data",
                "data": {
                  "text/plain": "\u001b[32m⠇\u001b[0m ✨ 🍰 ✨ You're using DeepEval's latest Summarization Metric (using azure-openai-chat)! This may take a minute...\n",
                  "text/html": "<pre style=\"white-space:pre;overflow-x:auto;line-height:normal;font-family:Menlo,'DejaVu Sans Mono',consolas,'Courier New',monospace\"><span style=\"color: #008000; text-decoration-color: #008000\">⠇</span> ✨ 🍰 ✨ You're using DeepEval's latest Summarization Metric (using azure-openai-chat)! This may take a minute...\n</pre>\n"
                },
                "metadata": {}
              }
            ]
          }
        },
        "e3fe0705f9a4467385a4381b3d9a0d10": {
          "model_module": "@jupyter-widgets/base",
          "model_name": "LayoutModel",
          "model_module_version": "1.2.0",
          "state": {
            "_model_module": "@jupyter-widgets/base",
            "_model_module_version": "1.2.0",
            "_model_name": "LayoutModel",
            "_view_count": null,
            "_view_module": "@jupyter-widgets/base",
            "_view_module_version": "1.2.0",
            "_view_name": "LayoutView",
            "align_content": null,
            "align_items": null,
            "align_self": null,
            "border": null,
            "bottom": null,
            "display": null,
            "flex": null,
            "flex_flow": null,
            "grid_area": null,
            "grid_auto_columns": null,
            "grid_auto_flow": null,
            "grid_auto_rows": null,
            "grid_column": null,
            "grid_gap": null,
            "grid_row": null,
            "grid_template_areas": null,
            "grid_template_columns": null,
            "grid_template_rows": null,
            "height": null,
            "justify_content": null,
            "justify_items": null,
            "left": null,
            "margin": null,
            "max_height": null,
            "max_width": null,
            "min_height": null,
            "min_width": null,
            "object_fit": null,
            "object_position": null,
            "order": null,
            "overflow": null,
            "overflow_x": null,
            "overflow_y": null,
            "padding": null,
            "right": null,
            "top": null,
            "visibility": null,
            "width": null
          }
        },
        "51c6a77d59804c51997dbc01ec1cc139": {
          "model_module": "@jupyter-widgets/output",
          "model_name": "OutputModel",
          "model_module_version": "1.0.0",
          "state": {
            "_dom_classes": [],
            "_model_module": "@jupyter-widgets/output",
            "_model_module_version": "1.0.0",
            "_model_name": "OutputModel",
            "_view_count": null,
            "_view_module": "@jupyter-widgets/output",
            "_view_module_version": "1.0.0",
            "_view_name": "OutputView",
            "layout": "IPY_MODEL_5971ac047766407994e5350aa2ec7932",
            "msg_id": "",
            "outputs": [
              {
                "output_type": "display_data",
                "data": {
                  "text/plain": "\u001b[32m⠋\u001b[0m ✨ 🍰 ✨ You're using DeepEval's latest Summarization Metric (using azure-openai-chat)! This may take a minute...\n",
                  "text/html": "<pre style=\"white-space:pre;overflow-x:auto;line-height:normal;font-family:Menlo,'DejaVu Sans Mono',consolas,'Courier New',monospace\"><span style=\"color: #008000; text-decoration-color: #008000\">⠋</span> ✨ 🍰 ✨ You're using DeepEval's latest Summarization Metric (using azure-openai-chat)! This may take a minute...\n</pre>\n"
                },
                "metadata": {}
              }
            ]
          }
        },
        "5971ac047766407994e5350aa2ec7932": {
          "model_module": "@jupyter-widgets/base",
          "model_name": "LayoutModel",
          "model_module_version": "1.2.0",
          "state": {
            "_model_module": "@jupyter-widgets/base",
            "_model_module_version": "1.2.0",
            "_model_name": "LayoutModel",
            "_view_count": null,
            "_view_module": "@jupyter-widgets/base",
            "_view_module_version": "1.2.0",
            "_view_name": "LayoutView",
            "align_content": null,
            "align_items": null,
            "align_self": null,
            "border": null,
            "bottom": null,
            "display": null,
            "flex": null,
            "flex_flow": null,
            "grid_area": null,
            "grid_auto_columns": null,
            "grid_auto_flow": null,
            "grid_auto_rows": null,
            "grid_column": null,
            "grid_gap": null,
            "grid_row": null,
            "grid_template_areas": null,
            "grid_template_columns": null,
            "grid_template_rows": null,
            "height": null,
            "justify_content": null,
            "justify_items": null,
            "left": null,
            "margin": null,
            "max_height": null,
            "max_width": null,
            "min_height": null,
            "min_width": null,
            "object_fit": null,
            "object_position": null,
            "order": null,
            "overflow": null,
            "overflow_x": null,
            "overflow_y": null,
            "padding": null,
            "right": null,
            "top": null,
            "visibility": null,
            "width": null
          }
        },
        "017f74d38ae047e9a00fbfa5e0884bc0": {
          "model_module": "@jupyter-widgets/output",
          "model_name": "OutputModel",
          "model_module_version": "1.0.0",
          "state": {
            "_dom_classes": [],
            "_model_module": "@jupyter-widgets/output",
            "_model_module_version": "1.0.0",
            "_model_name": "OutputModel",
            "_view_count": null,
            "_view_module": "@jupyter-widgets/output",
            "_view_module_version": "1.0.0",
            "_view_name": "OutputView",
            "layout": "IPY_MODEL_7a0d722f484f4151a00739f68c0062ea",
            "msg_id": "",
            "outputs": [
              {
                "output_type": "display_data",
                "data": {
                  "text/plain": "\u001b[32m⠧\u001b[0m Evaluating testcases...\n",
                  "text/html": "<pre style=\"white-space:pre;overflow-x:auto;line-height:normal;font-family:Menlo,'DejaVu Sans Mono',consolas,'Courier New',monospace\"><span style=\"color: #008000; text-decoration-color: #008000\">⠧</span> Evaluating testcases...\n</pre>\n"
                },
                "metadata": {}
              }
            ]
          }
        },
        "7a0d722f484f4151a00739f68c0062ea": {
          "model_module": "@jupyter-widgets/base",
          "model_name": "LayoutModel",
          "model_module_version": "1.2.0",
          "state": {
            "_model_module": "@jupyter-widgets/base",
            "_model_module_version": "1.2.0",
            "_model_name": "LayoutModel",
            "_view_count": null,
            "_view_module": "@jupyter-widgets/base",
            "_view_module_version": "1.2.0",
            "_view_name": "LayoutView",
            "align_content": null,
            "align_items": null,
            "align_self": null,
            "border": null,
            "bottom": null,
            "display": null,
            "flex": null,
            "flex_flow": null,
            "grid_area": null,
            "grid_auto_columns": null,
            "grid_auto_flow": null,
            "grid_auto_rows": null,
            "grid_column": null,
            "grid_gap": null,
            "grid_row": null,
            "grid_template_areas": null,
            "grid_template_columns": null,
            "grid_template_rows": null,
            "height": null,
            "justify_content": null,
            "justify_items": null,
            "left": null,
            "margin": null,
            "max_height": null,
            "max_width": null,
            "min_height": null,
            "min_width": null,
            "object_fit": null,
            "object_position": null,
            "order": null,
            "overflow": null,
            "overflow_x": null,
            "overflow_y": null,
            "padding": null,
            "right": null,
            "top": null,
            "visibility": null,
            "width": null
          }
        },
        "d3beddc34ecb45ce8febd65390a5afd8": {
          "model_module": "@jupyter-widgets/output",
          "model_name": "OutputModel",
          "model_module_version": "1.0.0",
          "state": {
            "_dom_classes": [],
            "_model_module": "@jupyter-widgets/output",
            "_model_module_version": "1.0.0",
            "_model_name": "OutputModel",
            "_view_count": null,
            "_view_module": "@jupyter-widgets/output",
            "_view_module_version": "1.0.0",
            "_view_name": "OutputView",
            "layout": "IPY_MODEL_78ea4325149644dd830e2348e9581d04",
            "msg_id": "",
            "outputs": [
              {
                "output_type": "display_data",
                "data": {
                  "text/plain": "\u001b[32m⠴\u001b[0m ✨ 🍰 ✨ You're using DeepEval's latest Summarization Metric (using azure-openai-chat)! This may take a minute...\n",
                  "text/html": "<pre style=\"white-space:pre;overflow-x:auto;line-height:normal;font-family:Menlo,'DejaVu Sans Mono',consolas,'Courier New',monospace\"><span style=\"color: #008000; text-decoration-color: #008000\">⠴</span> ✨ 🍰 ✨ You're using DeepEval's latest Summarization Metric (using azure-openai-chat)! This may take a minute...\n</pre>\n"
                },
                "metadata": {}
              }
            ]
          }
        },
        "78ea4325149644dd830e2348e9581d04": {
          "model_module": "@jupyter-widgets/base",
          "model_name": "LayoutModel",
          "model_module_version": "1.2.0",
          "state": {
            "_model_module": "@jupyter-widgets/base",
            "_model_module_version": "1.2.0",
            "_model_name": "LayoutModel",
            "_view_count": null,
            "_view_module": "@jupyter-widgets/base",
            "_view_module_version": "1.2.0",
            "_view_name": "LayoutView",
            "align_content": null,
            "align_items": null,
            "align_self": null,
            "border": null,
            "bottom": null,
            "display": null,
            "flex": null,
            "flex_flow": null,
            "grid_area": null,
            "grid_auto_columns": null,
            "grid_auto_flow": null,
            "grid_auto_rows": null,
            "grid_column": null,
            "grid_gap": null,
            "grid_row": null,
            "grid_template_areas": null,
            "grid_template_columns": null,
            "grid_template_rows": null,
            "height": null,
            "justify_content": null,
            "justify_items": null,
            "left": null,
            "margin": null,
            "max_height": null,
            "max_width": null,
            "min_height": null,
            "min_width": null,
            "object_fit": null,
            "object_position": null,
            "order": null,
            "overflow": null,
            "overflow_x": null,
            "overflow_y": null,
            "padding": null,
            "right": null,
            "top": null,
            "visibility": null,
            "width": null
          }
        },
        "4c4e3336ef4a45dbbb7d34e009c7ab7b": {
          "model_module": "@jupyter-widgets/output",
          "model_name": "OutputModel",
          "model_module_version": "1.0.0",
          "state": {
            "_dom_classes": [],
            "_model_module": "@jupyter-widgets/output",
            "_model_module_version": "1.0.0",
            "_model_name": "OutputModel",
            "_view_count": null,
            "_view_module": "@jupyter-widgets/output",
            "_view_module_version": "1.0.0",
            "_view_name": "OutputView",
            "layout": "IPY_MODEL_7a48a73687704c79a3654b74dbc158ea",
            "msg_id": "",
            "outputs": [
              {
                "output_type": "display_data",
                "data": {
                  "text/plain": "\u001b[32m⠙\u001b[0m ✨ 🍰 ✨ You're using DeepEval's latest Summarization Metric (using azure-openai-chat)! This may take a minute...\n",
                  "text/html": "<pre style=\"white-space:pre;overflow-x:auto;line-height:normal;font-family:Menlo,'DejaVu Sans Mono',consolas,'Courier New',monospace\"><span style=\"color: #008000; text-decoration-color: #008000\">⠙</span> ✨ 🍰 ✨ You're using DeepEval's latest Summarization Metric (using azure-openai-chat)! This may take a minute...\n</pre>\n"
                },
                "metadata": {}
              }
            ]
          }
        },
        "7a48a73687704c79a3654b74dbc158ea": {
          "model_module": "@jupyter-widgets/base",
          "model_name": "LayoutModel",
          "model_module_version": "1.2.0",
          "state": {
            "_model_module": "@jupyter-widgets/base",
            "_model_module_version": "1.2.0",
            "_model_name": "LayoutModel",
            "_view_count": null,
            "_view_module": "@jupyter-widgets/base",
            "_view_module_version": "1.2.0",
            "_view_name": "LayoutView",
            "align_content": null,
            "align_items": null,
            "align_self": null,
            "border": null,
            "bottom": null,
            "display": null,
            "flex": null,
            "flex_flow": null,
            "grid_area": null,
            "grid_auto_columns": null,
            "grid_auto_flow": null,
            "grid_auto_rows": null,
            "grid_column": null,
            "grid_gap": null,
            "grid_row": null,
            "grid_template_areas": null,
            "grid_template_columns": null,
            "grid_template_rows": null,
            "height": null,
            "justify_content": null,
            "justify_items": null,
            "left": null,
            "margin": null,
            "max_height": null,
            "max_width": null,
            "min_height": null,
            "min_width": null,
            "object_fit": null,
            "object_position": null,
            "order": null,
            "overflow": null,
            "overflow_x": null,
            "overflow_y": null,
            "padding": null,
            "right": null,
            "top": null,
            "visibility": null,
            "width": null
          }
        },
        "0282030f754044c5ac71fc6b407143ca": {
          "model_module": "@jupyter-widgets/output",
          "model_name": "OutputModel",
          "model_module_version": "1.0.0",
          "state": {
            "_dom_classes": [],
            "_model_module": "@jupyter-widgets/output",
            "_model_module_version": "1.0.0",
            "_model_name": "OutputModel",
            "_view_count": null,
            "_view_module": "@jupyter-widgets/output",
            "_view_module_version": "1.0.0",
            "_view_name": "OutputView",
            "layout": "IPY_MODEL_4caf9ee7b2984ea8b557d18ba3e6c8bf",
            "msg_id": "",
            "outputs": [
              {
                "output_type": "display_data",
                "data": {
                  "text/plain": "\u001b[32m⠦\u001b[0m ✨ 🍰 ✨ You're using DeepEval's latest Summarization Metric (using azure-openai-chat)! This may take a minute...\n",
                  "text/html": "<pre style=\"white-space:pre;overflow-x:auto;line-height:normal;font-family:Menlo,'DejaVu Sans Mono',consolas,'Courier New',monospace\"><span style=\"color: #008000; text-decoration-color: #008000\">⠦</span> ✨ 🍰 ✨ You're using DeepEval's latest Summarization Metric (using azure-openai-chat)! This may take a minute...\n</pre>\n"
                },
                "metadata": {}
              }
            ]
          }
        },
        "4caf9ee7b2984ea8b557d18ba3e6c8bf": {
          "model_module": "@jupyter-widgets/base",
          "model_name": "LayoutModel",
          "model_module_version": "1.2.0",
          "state": {
            "_model_module": "@jupyter-widgets/base",
            "_model_module_version": "1.2.0",
            "_model_name": "LayoutModel",
            "_view_count": null,
            "_view_module": "@jupyter-widgets/base",
            "_view_module_version": "1.2.0",
            "_view_name": "LayoutView",
            "align_content": null,
            "align_items": null,
            "align_self": null,
            "border": null,
            "bottom": null,
            "display": null,
            "flex": null,
            "flex_flow": null,
            "grid_area": null,
            "grid_auto_columns": null,
            "grid_auto_flow": null,
            "grid_auto_rows": null,
            "grid_column": null,
            "grid_gap": null,
            "grid_row": null,
            "grid_template_areas": null,
            "grid_template_columns": null,
            "grid_template_rows": null,
            "height": null,
            "justify_content": null,
            "justify_items": null,
            "left": null,
            "margin": null,
            "max_height": null,
            "max_width": null,
            "min_height": null,
            "min_width": null,
            "object_fit": null,
            "object_position": null,
            "order": null,
            "overflow": null,
            "overflow_x": null,
            "overflow_y": null,
            "padding": null,
            "right": null,
            "top": null,
            "visibility": null,
            "width": null
          }
        },
        "18260da7b7be4576aa7ec8cdeb842214": {
          "model_module": "@jupyter-widgets/output",
          "model_name": "OutputModel",
          "model_module_version": "1.0.0",
          "state": {
            "_dom_classes": [],
            "_model_module": "@jupyter-widgets/output",
            "_model_module_version": "1.0.0",
            "_model_name": "OutputModel",
            "_view_count": null,
            "_view_module": "@jupyter-widgets/output",
            "_view_module_version": "1.0.0",
            "_view_name": "OutputView",
            "layout": "IPY_MODEL_0c4d3c6fef5e436aac471fb74d55cda8",
            "msg_id": "",
            "outputs": [
              {
                "output_type": "display_data",
                "data": {
                  "text/plain": "\u001b[32m⠇\u001b[0m Evaluating testcases...\n",
                  "text/html": "<pre style=\"white-space:pre;overflow-x:auto;line-height:normal;font-family:Menlo,'DejaVu Sans Mono',consolas,'Courier New',monospace\"><span style=\"color: #008000; text-decoration-color: #008000\">⠇</span> Evaluating testcases...\n</pre>\n"
                },
                "metadata": {}
              }
            ]
          }
        },
        "0c4d3c6fef5e436aac471fb74d55cda8": {
          "model_module": "@jupyter-widgets/base",
          "model_name": "LayoutModel",
          "model_module_version": "1.2.0",
          "state": {
            "_model_module": "@jupyter-widgets/base",
            "_model_module_version": "1.2.0",
            "_model_name": "LayoutModel",
            "_view_count": null,
            "_view_module": "@jupyter-widgets/base",
            "_view_module_version": "1.2.0",
            "_view_name": "LayoutView",
            "align_content": null,
            "align_items": null,
            "align_self": null,
            "border": null,
            "bottom": null,
            "display": null,
            "flex": null,
            "flex_flow": null,
            "grid_area": null,
            "grid_auto_columns": null,
            "grid_auto_flow": null,
            "grid_auto_rows": null,
            "grid_column": null,
            "grid_gap": null,
            "grid_row": null,
            "grid_template_areas": null,
            "grid_template_columns": null,
            "grid_template_rows": null,
            "height": null,
            "justify_content": null,
            "justify_items": null,
            "left": null,
            "margin": null,
            "max_height": null,
            "max_width": null,
            "min_height": null,
            "min_width": null,
            "object_fit": null,
            "object_position": null,
            "order": null,
            "overflow": null,
            "overflow_x": null,
            "overflow_y": null,
            "padding": null,
            "right": null,
            "top": null,
            "visibility": null,
            "width": null
          }
        },
        "f7bc38a9cfd94897861bc6d1fd5aef07": {
          "model_module": "@jupyter-widgets/output",
          "model_name": "OutputModel",
          "model_module_version": "1.0.0",
          "state": {
            "_dom_classes": [],
            "_model_module": "@jupyter-widgets/output",
            "_model_module_version": "1.0.0",
            "_model_name": "OutputModel",
            "_view_count": null,
            "_view_module": "@jupyter-widgets/output",
            "_view_module_version": "1.0.0",
            "_view_name": "OutputView",
            "layout": "IPY_MODEL_26604b43a89a48008e2b34a40471e41e",
            "msg_id": "",
            "outputs": [
              {
                "output_type": "display_data",
                "data": {
                  "text/plain": "\u001b[32m⠧\u001b[0m ✨ 🍰 ✨ You're using DeepEval's latest Summarization Metric (using azure-openai-chat)! This may take a minute...\n",
                  "text/html": "<pre style=\"white-space:pre;overflow-x:auto;line-height:normal;font-family:Menlo,'DejaVu Sans Mono',consolas,'Courier New',monospace\"><span style=\"color: #008000; text-decoration-color: #008000\">⠧</span> ✨ 🍰 ✨ You're using DeepEval's latest Summarization Metric (using azure-openai-chat)! This may take a minute...\n</pre>\n"
                },
                "metadata": {}
              }
            ]
          }
        },
        "26604b43a89a48008e2b34a40471e41e": {
          "model_module": "@jupyter-widgets/base",
          "model_name": "LayoutModel",
          "model_module_version": "1.2.0",
          "state": {
            "_model_module": "@jupyter-widgets/base",
            "_model_module_version": "1.2.0",
            "_model_name": "LayoutModel",
            "_view_count": null,
            "_view_module": "@jupyter-widgets/base",
            "_view_module_version": "1.2.0",
            "_view_name": "LayoutView",
            "align_content": null,
            "align_items": null,
            "align_self": null,
            "border": null,
            "bottom": null,
            "display": null,
            "flex": null,
            "flex_flow": null,
            "grid_area": null,
            "grid_auto_columns": null,
            "grid_auto_flow": null,
            "grid_auto_rows": null,
            "grid_column": null,
            "grid_gap": null,
            "grid_row": null,
            "grid_template_areas": null,
            "grid_template_columns": null,
            "grid_template_rows": null,
            "height": null,
            "justify_content": null,
            "justify_items": null,
            "left": null,
            "margin": null,
            "max_height": null,
            "max_width": null,
            "min_height": null,
            "min_width": null,
            "object_fit": null,
            "object_position": null,
            "order": null,
            "overflow": null,
            "overflow_x": null,
            "overflow_y": null,
            "padding": null,
            "right": null,
            "top": null,
            "visibility": null,
            "width": null
          }
        },
        "daa65efeaea049708e5772f0a012be8b": {
          "model_module": "@jupyter-widgets/output",
          "model_name": "OutputModel",
          "model_module_version": "1.0.0",
          "state": {
            "_dom_classes": [],
            "_model_module": "@jupyter-widgets/output",
            "_model_module_version": "1.0.0",
            "_model_name": "OutputModel",
            "_view_count": null,
            "_view_module": "@jupyter-widgets/output",
            "_view_module_version": "1.0.0",
            "_view_name": "OutputView",
            "layout": "IPY_MODEL_7bc186e01843495b8cc21f3bde356823",
            "msg_id": "",
            "outputs": [
              {
                "output_type": "display_data",
                "data": {
                  "text/plain": "\u001b[32m⠴\u001b[0m ✨ 🍰 ✨ You're using DeepEval's latest Summarization Metric (using azure-openai-chat)! This may take a minute...\n",
                  "text/html": "<pre style=\"white-space:pre;overflow-x:auto;line-height:normal;font-family:Menlo,'DejaVu Sans Mono',consolas,'Courier New',monospace\"><span style=\"color: #008000; text-decoration-color: #008000\">⠴</span> ✨ 🍰 ✨ You're using DeepEval's latest Summarization Metric (using azure-openai-chat)! This may take a minute...\n</pre>\n"
                },
                "metadata": {}
              }
            ]
          }
        },
        "7bc186e01843495b8cc21f3bde356823": {
          "model_module": "@jupyter-widgets/base",
          "model_name": "LayoutModel",
          "model_module_version": "1.2.0",
          "state": {
            "_model_module": "@jupyter-widgets/base",
            "_model_module_version": "1.2.0",
            "_model_name": "LayoutModel",
            "_view_count": null,
            "_view_module": "@jupyter-widgets/base",
            "_view_module_version": "1.2.0",
            "_view_name": "LayoutView",
            "align_content": null,
            "align_items": null,
            "align_self": null,
            "border": null,
            "bottom": null,
            "display": null,
            "flex": null,
            "flex_flow": null,
            "grid_area": null,
            "grid_auto_columns": null,
            "grid_auto_flow": null,
            "grid_auto_rows": null,
            "grid_column": null,
            "grid_gap": null,
            "grid_row": null,
            "grid_template_areas": null,
            "grid_template_columns": null,
            "grid_template_rows": null,
            "height": null,
            "justify_content": null,
            "justify_items": null,
            "left": null,
            "margin": null,
            "max_height": null,
            "max_width": null,
            "min_height": null,
            "min_width": null,
            "object_fit": null,
            "object_position": null,
            "order": null,
            "overflow": null,
            "overflow_x": null,
            "overflow_y": null,
            "padding": null,
            "right": null,
            "top": null,
            "visibility": null,
            "width": null
          }
        },
        "2f81d9e3ad12415489ab056b9d7a977a": {
          "model_module": "@jupyter-widgets/output",
          "model_name": "OutputModel",
          "model_module_version": "1.0.0",
          "state": {
            "_dom_classes": [],
            "_model_module": "@jupyter-widgets/output",
            "_model_module_version": "1.0.0",
            "_model_name": "OutputModel",
            "_view_count": null,
            "_view_module": "@jupyter-widgets/output",
            "_view_module_version": "1.0.0",
            "_view_name": "OutputView",
            "layout": "IPY_MODEL_3125bf2b83344d86b6c637562b234726",
            "msg_id": "",
            "outputs": [
              {
                "output_type": "display_data",
                "data": {
                  "text/plain": "\u001b[32m⠏\u001b[0m ✨ 🍰 ✨ You're using DeepEval's latest Summarization Metric (using azure-openai-chat)! This may take a minute...\n",
                  "text/html": "<pre style=\"white-space:pre;overflow-x:auto;line-height:normal;font-family:Menlo,'DejaVu Sans Mono',consolas,'Courier New',monospace\"><span style=\"color: #008000; text-decoration-color: #008000\">⠏</span> ✨ 🍰 ✨ You're using DeepEval's latest Summarization Metric (using azure-openai-chat)! This may take a minute...\n</pre>\n"
                },
                "metadata": {}
              }
            ]
          }
        },
        "3125bf2b83344d86b6c637562b234726": {
          "model_module": "@jupyter-widgets/base",
          "model_name": "LayoutModel",
          "model_module_version": "1.2.0",
          "state": {
            "_model_module": "@jupyter-widgets/base",
            "_model_module_version": "1.2.0",
            "_model_name": "LayoutModel",
            "_view_count": null,
            "_view_module": "@jupyter-widgets/base",
            "_view_module_version": "1.2.0",
            "_view_name": "LayoutView",
            "align_content": null,
            "align_items": null,
            "align_self": null,
            "border": null,
            "bottom": null,
            "display": null,
            "flex": null,
            "flex_flow": null,
            "grid_area": null,
            "grid_auto_columns": null,
            "grid_auto_flow": null,
            "grid_auto_rows": null,
            "grid_column": null,
            "grid_gap": null,
            "grid_row": null,
            "grid_template_areas": null,
            "grid_template_columns": null,
            "grid_template_rows": null,
            "height": null,
            "justify_content": null,
            "justify_items": null,
            "left": null,
            "margin": null,
            "max_height": null,
            "max_width": null,
            "min_height": null,
            "min_width": null,
            "object_fit": null,
            "object_position": null,
            "order": null,
            "overflow": null,
            "overflow_x": null,
            "overflow_y": null,
            "padding": null,
            "right": null,
            "top": null,
            "visibility": null,
            "width": null
          }
        },
        "0c8106c6cad14ba4b08a29a408ee4271": {
          "model_module": "@jupyter-widgets/output",
          "model_name": "OutputModel",
          "model_module_version": "1.0.0",
          "state": {
            "_dom_classes": [],
            "_model_module": "@jupyter-widgets/output",
            "_model_module_version": "1.0.0",
            "_model_name": "OutputModel",
            "_view_count": null,
            "_view_module": "@jupyter-widgets/output",
            "_view_module_version": "1.0.0",
            "_view_name": "OutputView",
            "layout": "IPY_MODEL_eaed34037f584faf9db75fd3811d5c7b",
            "msg_id": "",
            "outputs": [
              {
                "output_type": "display_data",
                "data": {
                  "text/plain": "\u001b[32m⠙\u001b[0m Evaluating testcases...\n",
                  "text/html": "<pre style=\"white-space:pre;overflow-x:auto;line-height:normal;font-family:Menlo,'DejaVu Sans Mono',consolas,'Courier New',monospace\"><span style=\"color: #008000; text-decoration-color: #008000\">⠙</span> Evaluating testcases...\n</pre>\n"
                },
                "metadata": {}
              }
            ]
          }
        },
        "eaed34037f584faf9db75fd3811d5c7b": {
          "model_module": "@jupyter-widgets/base",
          "model_name": "LayoutModel",
          "model_module_version": "1.2.0",
          "state": {
            "_model_module": "@jupyter-widgets/base",
            "_model_module_version": "1.2.0",
            "_model_name": "LayoutModel",
            "_view_count": null,
            "_view_module": "@jupyter-widgets/base",
            "_view_module_version": "1.2.0",
            "_view_name": "LayoutView",
            "align_content": null,
            "align_items": null,
            "align_self": null,
            "border": null,
            "bottom": null,
            "display": null,
            "flex": null,
            "flex_flow": null,
            "grid_area": null,
            "grid_auto_columns": null,
            "grid_auto_flow": null,
            "grid_auto_rows": null,
            "grid_column": null,
            "grid_gap": null,
            "grid_row": null,
            "grid_template_areas": null,
            "grid_template_columns": null,
            "grid_template_rows": null,
            "height": null,
            "justify_content": null,
            "justify_items": null,
            "left": null,
            "margin": null,
            "max_height": null,
            "max_width": null,
            "min_height": null,
            "min_width": null,
            "object_fit": null,
            "object_position": null,
            "order": null,
            "overflow": null,
            "overflow_x": null,
            "overflow_y": null,
            "padding": null,
            "right": null,
            "top": null,
            "visibility": null,
            "width": null
          }
        },
        "af0a3feb7d21459d85af412118f69a5a": {
          "model_module": "@jupyter-widgets/output",
          "model_name": "OutputModel",
          "model_module_version": "1.0.0",
          "state": {
            "_dom_classes": [],
            "_model_module": "@jupyter-widgets/output",
            "_model_module_version": "1.0.0",
            "_model_name": "OutputModel",
            "_view_count": null,
            "_view_module": "@jupyter-widgets/output",
            "_view_module_version": "1.0.0",
            "_view_name": "OutputView",
            "layout": "IPY_MODEL_6d65ae7dc7b54b7bbfdc1ff46a556309",
            "msg_id": "",
            "outputs": [
              {
                "output_type": "display_data",
                "data": {
                  "text/plain": "\u001b[32m⠋\u001b[0m ✨ 🍰 ✨ You're using DeepEval's latest Summarization Metric (using azure-openai-chat)! This may take a minute...\n",
                  "text/html": "<pre style=\"white-space:pre;overflow-x:auto;line-height:normal;font-family:Menlo,'DejaVu Sans Mono',consolas,'Courier New',monospace\"><span style=\"color: #008000; text-decoration-color: #008000\">⠋</span> ✨ 🍰 ✨ You're using DeepEval's latest Summarization Metric (using azure-openai-chat)! This may take a minute...\n</pre>\n"
                },
                "metadata": {}
              }
            ]
          }
        },
        "6d65ae7dc7b54b7bbfdc1ff46a556309": {
          "model_module": "@jupyter-widgets/base",
          "model_name": "LayoutModel",
          "model_module_version": "1.2.0",
          "state": {
            "_model_module": "@jupyter-widgets/base",
            "_model_module_version": "1.2.0",
            "_model_name": "LayoutModel",
            "_view_count": null,
            "_view_module": "@jupyter-widgets/base",
            "_view_module_version": "1.2.0",
            "_view_name": "LayoutView",
            "align_content": null,
            "align_items": null,
            "align_self": null,
            "border": null,
            "bottom": null,
            "display": null,
            "flex": null,
            "flex_flow": null,
            "grid_area": null,
            "grid_auto_columns": null,
            "grid_auto_flow": null,
            "grid_auto_rows": null,
            "grid_column": null,
            "grid_gap": null,
            "grid_row": null,
            "grid_template_areas": null,
            "grid_template_columns": null,
            "grid_template_rows": null,
            "height": null,
            "justify_content": null,
            "justify_items": null,
            "left": null,
            "margin": null,
            "max_height": null,
            "max_width": null,
            "min_height": null,
            "min_width": null,
            "object_fit": null,
            "object_position": null,
            "order": null,
            "overflow": null,
            "overflow_x": null,
            "overflow_y": null,
            "padding": null,
            "right": null,
            "top": null,
            "visibility": null,
            "width": null
          }
        }
      }
    }
  },
  "cells": [
    {
      "cell_type": "markdown",
      "metadata": {
        "id": "view-in-github",
        "colab_type": "text"
      },
      "source": [
        "<a href=\"https://colab.research.google.com/github/amuthalingeswaranbose/Amuthan_LLM-Summerization_methods/blob/main/Amuthan_deepeval_LLM_Evalutation_Mathods.ipynb\" target=\"_parent\"><img src=\"https://colab.research.google.com/assets/colab-badge.svg\" alt=\"Open In Colab\"/></a>"
      ]
    },
    {
      "cell_type": "markdown",
      "source": [
        "# deepeval\n",
        "\n",
        "\n"
      ],
      "metadata": {
        "id": "rHmAQPhpGDGE"
      }
    },
    {
      "cell_type": "markdown",
      "source": [
        "## Install"
      ],
      "metadata": {
        "id": "iz1zOHJ4FxCJ"
      }
    },
    {
      "cell_type": "code",
      "execution_count": 1,
      "metadata": {
        "id": "zV5Sk2jtoxqo",
        "colab": {
          "base_uri": "https://localhost:8080/"
        },
        "outputId": "6c8ffd2e-308e-4ae1-e335-16c821976abf"
      },
      "outputs": [
        {
          "output_type": "stream",
          "name": "stdout",
          "text": [
            "Requirement already satisfied: deepeval in /usr/local/lib/python3.10/dist-packages (0.20.53)\n",
            "Requirement already satisfied: requests in /usr/local/lib/python3.10/dist-packages (from deepeval) (2.31.0)\n",
            "Requirement already satisfied: tqdm in /usr/local/lib/python3.10/dist-packages (from deepeval) (4.66.1)\n",
            "Requirement already satisfied: transformers in /usr/local/lib/python3.10/dist-packages (from deepeval) (4.35.2)\n",
            "Requirement already satisfied: pytest in /usr/local/lib/python3.10/dist-packages (from deepeval) (7.4.4)\n",
            "Requirement already satisfied: tabulate in /usr/local/lib/python3.10/dist-packages (from deepeval) (0.9.0)\n",
            "Requirement already satisfied: sentence-transformers in /usr/local/lib/python3.10/dist-packages (from deepeval) (2.2.2)\n",
            "Requirement already satisfied: typer in /usr/local/lib/python3.10/dist-packages (from deepeval) (0.9.0)\n",
            "Requirement already satisfied: rich in /usr/local/lib/python3.10/dist-packages (from deepeval) (13.7.0)\n",
            "Requirement already satisfied: protobuf==4.25.1 in /usr/local/lib/python3.10/dist-packages (from deepeval) (4.25.1)\n",
            "Requirement already satisfied: pydantic in /usr/local/lib/python3.10/dist-packages (from deepeval) (1.10.14)\n",
            "Requirement already satisfied: sentry-sdk in /usr/local/lib/python3.10/dist-packages (from deepeval) (1.39.2)\n",
            "Requirement already satisfied: pytest-xdist in /usr/local/lib/python3.10/dist-packages (from deepeval) (3.5.0)\n",
            "Requirement already satisfied: portalocker in /usr/local/lib/python3.10/dist-packages (from deepeval) (2.8.2)\n",
            "Requirement already satisfied: langchain in /usr/local/lib/python3.10/dist-packages (from deepeval) (0.1.3)\n",
            "Requirement already satisfied: langchain-core in /usr/local/lib/python3.10/dist-packages (from deepeval) (0.1.15)\n",
            "Requirement already satisfied: langchain-openai in /usr/local/lib/python3.10/dist-packages (from deepeval) (0.0.3)\n",
            "Requirement already satisfied: rouge-score==0.1.2 in /usr/local/lib/python3.10/dist-packages (from deepeval) (0.1.2)\n",
            "Requirement already satisfied: nltk==3.8.1 in /usr/local/lib/python3.10/dist-packages (from deepeval) (3.8.1)\n",
            "Requirement already satisfied: ragas in /usr/local/lib/python3.10/dist-packages (from deepeval) (0.0.22)\n",
            "Requirement already satisfied: click in /usr/local/lib/python3.10/dist-packages (from nltk==3.8.1->deepeval) (8.1.7)\n",
            "Requirement already satisfied: joblib in /usr/local/lib/python3.10/dist-packages (from nltk==3.8.1->deepeval) (1.3.2)\n",
            "Requirement already satisfied: regex>=2021.8.3 in /usr/local/lib/python3.10/dist-packages (from nltk==3.8.1->deepeval) (2023.6.3)\n",
            "Requirement already satisfied: absl-py in /usr/local/lib/python3.10/dist-packages (from rouge-score==0.1.2->deepeval) (1.4.0)\n",
            "Requirement already satisfied: numpy in /usr/local/lib/python3.10/dist-packages (from rouge-score==0.1.2->deepeval) (1.23.5)\n",
            "Requirement already satisfied: six>=1.14.0 in /usr/local/lib/python3.10/dist-packages (from rouge-score==0.1.2->deepeval) (1.16.0)\n",
            "Requirement already satisfied: PyYAML>=5.3 in /usr/local/lib/python3.10/dist-packages (from langchain->deepeval) (6.0.1)\n",
            "Requirement already satisfied: SQLAlchemy<3,>=1.4 in /usr/local/lib/python3.10/dist-packages (from langchain->deepeval) (2.0.24)\n",
            "Requirement already satisfied: aiohttp<4.0.0,>=3.8.3 in /usr/local/lib/python3.10/dist-packages (from langchain->deepeval) (3.9.1)\n",
            "Requirement already satisfied: async-timeout<5.0.0,>=4.0.0 in /usr/local/lib/python3.10/dist-packages (from langchain->deepeval) (4.0.3)\n",
            "Requirement already satisfied: dataclasses-json<0.7,>=0.5.7 in /usr/local/lib/python3.10/dist-packages (from langchain->deepeval) (0.6.3)\n",
            "Requirement already satisfied: jsonpatch<2.0,>=1.33 in /usr/local/lib/python3.10/dist-packages (from langchain->deepeval) (1.33)\n",
            "Requirement already satisfied: langchain-community<0.1,>=0.0.14 in /usr/local/lib/python3.10/dist-packages (from langchain->deepeval) (0.0.15)\n",
            "Requirement already satisfied: langsmith<0.1,>=0.0.83 in /usr/local/lib/python3.10/dist-packages (from langchain->deepeval) (0.0.83)\n",
            "Requirement already satisfied: tenacity<9.0.0,>=8.1.0 in /usr/local/lib/python3.10/dist-packages (from langchain->deepeval) (8.2.3)\n",
            "Requirement already satisfied: anyio<5,>=3 in /usr/local/lib/python3.10/dist-packages (from langchain-core->deepeval) (3.7.1)\n",
            "Requirement already satisfied: packaging<24.0,>=23.2 in /usr/local/lib/python3.10/dist-packages (from langchain-core->deepeval) (23.2)\n",
            "Requirement already satisfied: typing-extensions>=4.2.0 in /usr/local/lib/python3.10/dist-packages (from pydantic->deepeval) (4.9.0)\n",
            "Requirement already satisfied: charset-normalizer<4,>=2 in /usr/local/lib/python3.10/dist-packages (from requests->deepeval) (3.3.2)\n",
            "Requirement already satisfied: idna<4,>=2.5 in /usr/local/lib/python3.10/dist-packages (from requests->deepeval) (3.6)\n",
            "Requirement already satisfied: urllib3<3,>=1.21.1 in /usr/local/lib/python3.10/dist-packages (from requests->deepeval) (2.0.7)\n",
            "Requirement already satisfied: certifi>=2017.4.17 in /usr/local/lib/python3.10/dist-packages (from requests->deepeval) (2023.11.17)\n",
            "Requirement already satisfied: openai<2.0.0,>=1.6.1 in /usr/local/lib/python3.10/dist-packages (from langchain-openai->deepeval) (1.9.0)\n",
            "Requirement already satisfied: tiktoken<0.6.0,>=0.5.2 in /usr/local/lib/python3.10/dist-packages (from langchain-openai->deepeval) (0.5.2)\n",
            "Requirement already satisfied: iniconfig in /usr/local/lib/python3.10/dist-packages (from pytest->deepeval) (2.0.0)\n",
            "Requirement already satisfied: pluggy<2.0,>=0.12 in /usr/local/lib/python3.10/dist-packages (from pytest->deepeval) (1.3.0)\n",
            "Requirement already satisfied: exceptiongroup>=1.0.0rc8 in /usr/local/lib/python3.10/dist-packages (from pytest->deepeval) (1.2.0)\n",
            "Requirement already satisfied: tomli>=1.0.0 in /usr/local/lib/python3.10/dist-packages (from pytest->deepeval) (2.0.1)\n",
            "Requirement already satisfied: execnet>=1.1 in /usr/local/lib/python3.10/dist-packages (from pytest-xdist->deepeval) (2.0.2)\n",
            "Requirement already satisfied: datasets in /usr/local/lib/python3.10/dist-packages (from ragas->deepeval) (2.16.1)\n",
            "Requirement already satisfied: pysbd>=0.3.4 in /usr/local/lib/python3.10/dist-packages (from ragas->deepeval) (0.3.4)\n",
            "Requirement already satisfied: nest-asyncio in /usr/local/lib/python3.10/dist-packages (from ragas->deepeval) (1.6.0)\n",
            "Requirement already satisfied: markdown-it-py>=2.2.0 in /usr/local/lib/python3.10/dist-packages (from rich->deepeval) (3.0.0)\n",
            "Requirement already satisfied: pygments<3.0.0,>=2.13.0 in /usr/local/lib/python3.10/dist-packages (from rich->deepeval) (2.16.1)\n",
            "Requirement already satisfied: torch>=1.6.0 in /usr/local/lib/python3.10/dist-packages (from sentence-transformers->deepeval) (2.1.0+cu121)\n",
            "Requirement already satisfied: torchvision in /usr/local/lib/python3.10/dist-packages (from sentence-transformers->deepeval) (0.16.0+cu121)\n",
            "Requirement already satisfied: scikit-learn in /usr/local/lib/python3.10/dist-packages (from sentence-transformers->deepeval) (1.2.2)\n",
            "Requirement already satisfied: scipy in /usr/local/lib/python3.10/dist-packages (from sentence-transformers->deepeval) (1.11.4)\n",
            "Requirement already satisfied: sentencepiece in /usr/local/lib/python3.10/dist-packages (from sentence-transformers->deepeval) (0.1.99)\n",
            "Requirement already satisfied: huggingface-hub>=0.4.0 in /usr/local/lib/python3.10/dist-packages (from sentence-transformers->deepeval) (0.20.3)\n",
            "Requirement already satisfied: filelock in /usr/local/lib/python3.10/dist-packages (from transformers->deepeval) (3.13.1)\n",
            "Requirement already satisfied: tokenizers<0.19,>=0.14 in /usr/local/lib/python3.10/dist-packages (from transformers->deepeval) (0.15.1)\n",
            "Requirement already satisfied: safetensors>=0.3.1 in /usr/local/lib/python3.10/dist-packages (from transformers->deepeval) (0.4.1)\n",
            "Requirement already satisfied: attrs>=17.3.0 in /usr/local/lib/python3.10/dist-packages (from aiohttp<4.0.0,>=3.8.3->langchain->deepeval) (23.2.0)\n",
            "Requirement already satisfied: multidict<7.0,>=4.5 in /usr/local/lib/python3.10/dist-packages (from aiohttp<4.0.0,>=3.8.3->langchain->deepeval) (6.0.4)\n",
            "Requirement already satisfied: yarl<2.0,>=1.0 in /usr/local/lib/python3.10/dist-packages (from aiohttp<4.0.0,>=3.8.3->langchain->deepeval) (1.9.4)\n",
            "Requirement already satisfied: frozenlist>=1.1.1 in /usr/local/lib/python3.10/dist-packages (from aiohttp<4.0.0,>=3.8.3->langchain->deepeval) (1.4.1)\n",
            "Requirement already satisfied: aiosignal>=1.1.2 in /usr/local/lib/python3.10/dist-packages (from aiohttp<4.0.0,>=3.8.3->langchain->deepeval) (1.3.1)\n",
            "Requirement already satisfied: sniffio>=1.1 in /usr/local/lib/python3.10/dist-packages (from anyio<5,>=3->langchain-core->deepeval) (1.3.0)\n",
            "Requirement already satisfied: marshmallow<4.0.0,>=3.18.0 in /usr/local/lib/python3.10/dist-packages (from dataclasses-json<0.7,>=0.5.7->langchain->deepeval) (3.20.2)\n",
            "Requirement already satisfied: typing-inspect<1,>=0.4.0 in /usr/local/lib/python3.10/dist-packages (from dataclasses-json<0.7,>=0.5.7->langchain->deepeval) (0.9.0)\n",
            "Requirement already satisfied: fsspec>=2023.5.0 in /usr/local/lib/python3.10/dist-packages (from huggingface-hub>=0.4.0->sentence-transformers->deepeval) (2023.6.0)\n",
            "Requirement already satisfied: jsonpointer>=1.9 in /usr/local/lib/python3.10/dist-packages (from jsonpatch<2.0,>=1.33->langchain->deepeval) (2.4)\n",
            "Requirement already satisfied: mdurl~=0.1 in /usr/local/lib/python3.10/dist-packages (from markdown-it-py>=2.2.0->rich->deepeval) (0.1.2)\n",
            "Requirement already satisfied: distro<2,>=1.7.0 in /usr/lib/python3/dist-packages (from openai<2.0.0,>=1.6.1->langchain-openai->deepeval) (1.7.0)\n",
            "Requirement already satisfied: httpx<1,>=0.23.0 in /usr/local/lib/python3.10/dist-packages (from openai<2.0.0,>=1.6.1->langchain-openai->deepeval) (0.26.0)\n",
            "Requirement already satisfied: greenlet!=0.4.17 in /usr/local/lib/python3.10/dist-packages (from SQLAlchemy<3,>=1.4->langchain->deepeval) (3.0.3)\n",
            "Requirement already satisfied: sympy in /usr/local/lib/python3.10/dist-packages (from torch>=1.6.0->sentence-transformers->deepeval) (1.12)\n",
            "Requirement already satisfied: networkx in /usr/local/lib/python3.10/dist-packages (from torch>=1.6.0->sentence-transformers->deepeval) (3.2.1)\n",
            "Requirement already satisfied: jinja2 in /usr/local/lib/python3.10/dist-packages (from torch>=1.6.0->sentence-transformers->deepeval) (3.1.3)\n",
            "Requirement already satisfied: triton==2.1.0 in /usr/local/lib/python3.10/dist-packages (from torch>=1.6.0->sentence-transformers->deepeval) (2.1.0)\n",
            "Requirement already satisfied: pyarrow>=8.0.0 in /usr/local/lib/python3.10/dist-packages (from datasets->ragas->deepeval) (10.0.1)\n",
            "Requirement already satisfied: pyarrow-hotfix in /usr/local/lib/python3.10/dist-packages (from datasets->ragas->deepeval) (0.6)\n",
            "Requirement already satisfied: dill<0.3.8,>=0.3.0 in /usr/local/lib/python3.10/dist-packages (from datasets->ragas->deepeval) (0.3.7)\n",
            "Requirement already satisfied: pandas in /usr/local/lib/python3.10/dist-packages (from datasets->ragas->deepeval) (1.5.3)\n",
            "Requirement already satisfied: xxhash in /usr/local/lib/python3.10/dist-packages (from datasets->ragas->deepeval) (3.4.1)\n",
            "Requirement already satisfied: multiprocess in /usr/local/lib/python3.10/dist-packages (from datasets->ragas->deepeval) (0.70.15)\n",
            "Requirement already satisfied: threadpoolctl>=2.0.0 in /usr/local/lib/python3.10/dist-packages (from scikit-learn->sentence-transformers->deepeval) (3.2.0)\n",
            "Requirement already satisfied: pillow!=8.3.*,>=5.3.0 in /usr/local/lib/python3.10/dist-packages (from torchvision->sentence-transformers->deepeval) (9.4.0)\n",
            "Requirement already satisfied: httpcore==1.* in /usr/local/lib/python3.10/dist-packages (from httpx<1,>=0.23.0->openai<2.0.0,>=1.6.1->langchain-openai->deepeval) (1.0.2)\n",
            "Requirement already satisfied: h11<0.15,>=0.13 in /usr/local/lib/python3.10/dist-packages (from httpcore==1.*->httpx<1,>=0.23.0->openai<2.0.0,>=1.6.1->langchain-openai->deepeval) (0.14.0)\n",
            "Requirement already satisfied: mypy-extensions>=0.3.0 in /usr/local/lib/python3.10/dist-packages (from typing-inspect<1,>=0.4.0->dataclasses-json<0.7,>=0.5.7->langchain->deepeval) (1.0.0)\n",
            "Requirement already satisfied: MarkupSafe>=2.0 in /usr/local/lib/python3.10/dist-packages (from jinja2->torch>=1.6.0->sentence-transformers->deepeval) (2.1.4)\n",
            "Requirement already satisfied: python-dateutil>=2.8.1 in /usr/local/lib/python3.10/dist-packages (from pandas->datasets->ragas->deepeval) (2.8.2)\n",
            "Requirement already satisfied: pytz>=2020.1 in /usr/local/lib/python3.10/dist-packages (from pandas->datasets->ragas->deepeval) (2023.3.post1)\n",
            "Requirement already satisfied: mpmath>=0.19 in /usr/local/lib/python3.10/dist-packages (from sympy->torch>=1.6.0->sentence-transformers->deepeval) (1.3.0)\n"
          ]
        }
      ],
      "source": [
        "!pip install -U deepeval"
      ]
    },
    {
      "cell_type": "code",
      "source": [
        "Article_Dict = {\n",
        "    \"Articles_3.3.4\":{\n",
        "        \"input\": \"\"\"A review of the clinical studies evaluating the use of miconazole nitrate and hydrocortisone cream in the treatment of skin infections due to dermatophytes or Candida species was conducted. Of the total 8 publications, 3 were randomized, double\u0002blind, active-controlled studies (Björnberg and Tegner, 1986; Taplin, 1976; Mertens et al, 1976). The sample sizes across the included studies varied from 19 subjects to 157 subjects. Efficacy results from the 2 randomized, double-blind studies comparing miconazole-hydrocortisone cream with the individual components (Mertens et al, 1976; Taplin, 1976) showed that nearly all subjects treated with miconazole-hydrocortisone or miconazole alone were negative for fungus or dermatophytes by the end of treatment (28/28 subjects in the study by Mertens and 65/66 subjects in the study by Taplin were negative) compared with a small proportion of subjects treated with hydrocortisone alone (2/13 subjects in the study by Mertens and 4/33 subjects in the study by Taplin). The randomized, double-blind study comparing miconazole-hydrocortisone cream with miconazole cream (Björnberg and Tegner, 1986) showed that clinical response to miconazole-hydrocortisone was significantly better compared with miconazole alone (21/24 subjects clinically cured with miconazole-hydrocortisone versus 11/24 subjects with miconazole alone). Results from the open-label, single-arm studies are supportive for the efficacy of miconazole-hydrocortisone with the 2 largest of these studies in 157 and 107 subjects (Aussems and Van Cutsem, 1974; Clinical Research Report R 14 899/1 NL, 1985) showing clinical cure rates of 89% and 91%, respectively, in dermatophyte or yeast infections.\"\"\",\n",
        "        \"actual_output\": \"\"\"The eight clinical studies are evaluating the effectiveness of miconazole nitrate and hydrocortisone treatment in various skin conditions such as mycotic lesions, tinea cruris, tinea pedis, dermatomycoses, and inflammatory skin infections of bacterial or mycotic origin. Aussems and Cutsem (1974) studied mycotic lesions of the skin. Tinea cruris and tinea pedis were the focus of Bjonberg et al (1986) and Taplin et al (1976). The Clinical Progress Report (1971) examined skin or nail lesions of apparent mycotic origin, while the Clinical Research Report (1985) looked into various dermatomycoses. Inflamed skin infections of bacterial or mycotic origin were researched by Clinical Progress Reports (1973) and Boar et al (1980). Taplin et al (1976) also studied acute, moderate to severe symptomatic tinea corporis and tinea cruris. Lastly, inflamed skin infections were the subject of Mertens et al (1976). Mycotic lesions of the skin were studied by Aussems and Cutsem (1974) on a population range of 157 patients aged between four days to ten years, resulting in a cure rate of 83% after a median treatment duration of 4 weeks, with only one patient reporting adverse reactions. Tinea cruris and tinea pedis were examined by Bjonberg et al (1986) and Taplin et al (1976) on a combined population of 125 patients aged between 16 to 65 years and 18 to 28 years respectively, with a cure rate of 21/26 lesions within one month with the combination treatment, and no side effects reported in both studies. Skin or nail lesions of apparent mycotic origin were investigated in a Clinical Progress Report (1971) on 30 out-patients aged between 6-68 years, with 21 patients completely cured after one to four weeks. Various dermatomycoses were studied in a Clinical Research Report (1985) on 107 patients aged between 1 and 77 years, with a cure rate of 95.3% and no reported side effects. Inflamed skin infections of bacterial or mycotic origin were examined by Clinical Progress Reports (1973) and Boar et al (1980) on a combined population of 55 patients aged between 8 and 87 years and 17 and 59 years respectively, with a cure rate of 97% and 95% respectively, and no side effects reported in both studies. Acute, moderate to severe symptomatic tinea corporis and tinea cruris were studied by Taplin et al (1976) on 99 male patients aged between 18 and 28 years, with the combination treatment proving superior to Miconazole alone. Inflamed skin infections were investigated by Mertens et al (1976) on 63 patients with a median age of 30 years, with all patients in the Daktacort and miconazole groups testing negative for fungi at the end of the trial, and the Daktacort and miconazole treatments proving significantly superior to hydrocortisone. All studies concluded that miconazole cream is effective in treating various types of cutaneous mycoses, with high cure rates and good tolerability reported. However, some studies found that other treatments, such as sertaconazole and eberconazole, showed superior efficacy in certain conditions or provided a quicker onset of action. A few studies reported that miconazole was not fully effective in treating tinea capitis or was less well-tolerated due to the smell of the formulation. No serious adverse effects were reported in any of the studies.\"\"\"\n",
        "    },\n",
        "    \"Articles_3.3.8\":{\n",
        "        \"input\": \"\"\"Of the reviewed articles, 16 clinical studies and a pooled analysis of 7 clinical studies were identified that described the use of miconazole nitrate cream in the treatment of skin infections due to dermatophytes or yeasts, and other fungi. Of these, 4 were single-arm studies, 10 described randomized, controlled studies, 1 was a nonrandomized comparative study, 1 was a nonrandomized controlled study, and 1 was a randomized comparison of 2 different dosage regimens of miconazole nitrate cream. The 17 studies showed that miconazole nitrate cream is an effective treatment for the indications specified in the CCDS (August 2015), as evidenced by improvements in clinical signs and symptoms and high rates of mycologic cure after completion of treatment. In a pooled analysis (Clinical Progress Report R 14 889/48, 1973) of 7 randomized, placebo-controlled studies in 488 efficacy-evaluable subjects with superficial cutaneous dermatophyte and yeast infections, excellent to good response was achieved by 78.4% subjects treated with miconazole 2% cream compared with 21% of subjects who received placebo. In the 2 largest randomized, double-blind, active-controlled studies with miconazole 2% cream, efficacy rates were similar between miconazole 2% cream and eberconazole 1% cream (Repiso Montero et al, 2006) and between miconazole 2% cream and sertaconazole 2% cream (Alomar et al, 1992). In 360 subjects with dermatophyte infections, Repiso Montero et al (2006) showed clinical efficacy (effective response rate) of 75.0% with miconazole and 76.1% with eberconazole. The mycologic cure rates were 84.1% with miconazole and 87.0% with eberconazole. In 569 evaluable subjects with superficial infections of mycotic etiology, Alomar et al (1992) showed similar results in end-of-study (7 days after the end of treatment) negative KOH microscopic examination rates between miconazole and sertaconazole (95.7% with miconazole and 98.0% with sertaconazole); however, the rates of negative cultures were significantly different between treatments (91.7% with miconazole and 98.6% with sertaconazole, p<0.0001). The data presented support the indications of miconazole nitrate cream to treat skin infections due to dermatophytes or yeasts, and other fungi as specified in the CCDS (August 2015).\"\"\",\n",
        "        \"actual_output\": \"\"\"4The 16 clinical studies are evaluating the efficacy and safety of various treatments, including miconazole, sertaconazole, and Daktarin cream, in managing different fungal skin conditions such as superficial cutaneous mycosis, erythrasma, superficial fungal infections of the skin, tinea capitis, tinea pedis, and cutaneous dermatophytosis. Alomar et al (1992) and a Clinical Research Report (1987) have both conducted studies on superficial cutaneous mycosis. Research on superficial fungal infections of the skin and erythrasma has been carried out by Clayton et al (1979), a Clinical Research Report (1973), and Dogliotti et al (1977). Duncan et al (1975), Edwards et al (1978), and Ortiz et al (1978) have all contributed to the study of tinea pedis and tinea versicolor. Dermatophytoses have been studied by Ghaninejad et al (2009), Nolting et al (1995), Repiso Montero et al (2006), and Sharma et al (2011). Manohar et al (1976) and Mulay et al (1975) have researched dermatophytoses, candidiasis of skin, and tinea versicolor. Lastly, research on tinea capitis has been conducted by Shetsiruli et al (1974) and Wright et al (1986). Superficial cutaneous mycosis was studied in a population range of 631 patients aged between 18 and 70 years, with a cure rate of 95.6% for Sertaconazole, 88% for Miconazole, 84.8% for Daktarin cream once daily, and 88.6% for Daktarin cream twice daily. Both drugs demonstrated excellent safety, with no systemic adverse effects reported (Alomar et al, 1992; Clinical Research Report, 1987). Superficial fungal infections of the skin and erythrasma were studied in a population range of 112 patients aged between 18 and 70 years, and 525 patients in seven well-controlled studies. The incidence of side effects was significantly higher in the haloprogin group, but the cream preparation containing 2.0 percent miconazole nitrate was significantly more effective than the placebo cream (Clayton et al, 1979; Clinical Research Report, 1973). Superficial cutaneous dermatophyte and yeast infections were studied in a population range of 79 black children aged between 2 to 12 years, with both agents being well tolerated, indicating good safety results (Dogliotti et al, 1977). Tinea pedis and tinea versicolor were studied in a population range of 105 healthy men aged between 19 to 46 years, 329 patients, 100 patients with tinea pedis and 50 patients with tinea versicolor, with a cure rate of 63% for the Miconazole group, 18% for the Control group, an average symptom cure rate of 79%, 90% for tinea pedis, and 100% for tinea versicolor. No adverse effects were noted in either treatment group (Duncan et al, 1975; Edwards et al, 1978; Ortiz et al, 1978). Dermatophytosis was studied in a population range of 100 adults aged over 18 years, 653 patients aged 18 years or over, and 260 patients aged between 18-70 years, with a significantly higher cure rate for Sertaconazole by day 15, 76.1% for Eberconazole, 75.0% for Miconazole, and 62.3% for Sertaconazole. Both drugs were well tolerated and the adverse events were mild to moderate in severity and disappeared with continued therapy (Ghaninejad et al, 2009; Repiso Montero et al, 2006; Sharma et al, 2011). Dermatophytoses, candidiasis of skin, and tinea versicolor were studied in a population range of 116 patients aged between 16-45 years, and 105 patients, with a cure rate of 94.6% and 66% respectively. The study reported no adverse side effects with the use of miconazole cream (Manohar et al, 1976; Mulay et al, 1975). Dermatophytoses were studied in a population range of 214 outpatients aged between 12 and 95 years, with no adverse events reported by the patients during treatment with either the combination or the miconazole monopreparation (Nolting et al, 1995). Tinea capitis was studied in a population range of 138 patients, with a cure rate of 90% (Shetsiruli et al, 1974). All studies concluded that miconazole cream is effective in treating various types of cutaneous mycoses, with high cure rates and good tolerability. However, some studies found that other treatments, such as sertaconazole and eberconazole, showed superior efficacy in certain conditions or had a faster onset of action. A few studies reported that miconazole was not fully effective in treating tinea capitis or that it was less well tolerated than other treatments. All studies reported excellent safety profiles for miconazole, with few or no adverse effects reported.\"\"\"\n",
        "    },\n",
        "    \"Articles_5.5.1\":{\n",
        "        \"input\": \"\"\"The efficacy of flunarizine compared with placebo for migraine prophylaxis in children with classic or common migraine was evaluated in 2 placebo-controlled studies in 118 subjects. Flunarizine 5 mg/day for 12 weeks resulted in statistically significant decreases in migraine attack frequency from baseline. Additionally, comparison of migraine frequency at the end of study showed statistically significantly fewer migraines with flunarizine versus placebo. Treatment with flunarizine also produced significant reductions from baseline in the duration of migraine attacks. The efficacy of flunarizine for migraine prophylaxis in children was compared with topiramate, propranolol, dihydroergotamine, amitriptyline, cyproheptadine, and    acetylsalicylic acid across 5 active-controlled studies in 278 subjects.The randomized, double-blind study by Lütschg and Vassella (1990) showed that 4-month treatment with flunarizine 5 to 10 mg/day or propranolol 30 to 120 mg/day produced similar reductions in the frequency of migraine attacks (76.4% flunarizine vs 73.3% propranolol) in children with simple or classic migraine. However, flunarizine had no effect on the duration or intensity of migraine attacks, whereas propranolol showed a decrease in migraine intensity. Similarly, the 4-month, open-label, active-controlled study by Hirfanoglu et al (1987) in children with migraine with or without aura showed a 71.5% reduction in migraine frequency with flunarizine 5 to 10 mg/day; corresponding reductions with amitriptyline 0.5 mg/kg/day, cyproheptadine 0.2 mg/kg/day, and propranolol 10 to 40 mg/day were 80.1%, 78.8%, and 68.2%, respectively. The 6-month non-randomized comparator study by Topcu et al (2014) reported significant decreases in PedMIDAS scores with flunarizine 5 to 10 mg/day, topiramate 1 to 2 mg/kg/day, and propranolol 20 to 40 mg/day, although reductions with topiramate and propranolol were significantly greater compared with flunarizine. Lastra Martinez et al (1990) found similar efficacy with flunarizine (10 mg/day) and dihydroergotamine (3 doses of 1.5 mg/day per week after Week 3) (79% and 87% subjects with improvement, respectively) in migraine frequency, intensity, and duration in children with classic or common migraine. In a prospective, double-blind study in children with classic or uncomplicated migraine, there were no significant differences between flunarizine 5 to 10 mg/day and acetylsalicylic acid 100 to 200 mg/day in reduction of migraine attack frequency or symptoms. An additional study compared the efficacy of flunarizine with flunarizine combined with behavioral therapy in 90 children with migraine.Flunarizine, at doses of 0.2 mg/kg/day up to 10 mg/day, administered for 3 months was found to be more effective when combined with behavioral therapy versus monotherapy, as shown by significantly lower PedMIDAS scores.Four non-controlled open-label studies in 263 subjects are supportive for the efficacy of flunarizine for prevention of migraine in children. An open-label study of flunarizine 10 mg/day administered for 8 weeks to 200 children and adolescents with migraine found a significant decrease in migraine attack frequency and severity. Boccia et al (2006) reported significantly decreased migraine frequency at 1 and 2 months after daily administration of flunarizine 5 mg in children with migraine. Similarly, Guidetti reported in children with common or classic migraine a significant decrease in migraine frequency after 1 month of treatment with flunarizine 5 mg/day, which was maintained after 6 months of treatment. Visudtibhan et al (2004) found that 66.7% of children administered flunarizine 5 to 10 mg/day had a decrease in migraine frequency. Overall, the reviewed efficacy data from studies of flunarizine in adults and children with migraine support the authorized indication of flunarizine in Vietnam for the maintenance treatment of migraine, when other treatments are ineffective or poorly tolerated. The reviewed studies provide evidence supporting the safety of flunarizine in children with migraine. Adverse events reported with flunarizine in 2 placebo-controlled studies with children included drowsiness, weight gain, GI complaints, and fatigue; there were no SAEs reported. Flunarizine had no effect on routine laboratory assessments, blood pressure, or electroencephalogram measurements. Adverse events with flunarizine across the 6 active\u0002controlled studies included drowsiness, paresthesia, increased appetite, weight gain, increased fatigue, shortness of breath, concentration disorders, and stomach pain. No SAEs or cases of EPS were observed. No AEs were reported with flunarizine in non-controlled open-label studies.\"\"\",\n",
        "        \"actual_output\": \"\"\"The following 10 clinical studies evaluate the effectiveness of various treatments, including flunarizine, propranolol, and acetylsalicylic acid, in managing migraine conditions in children and adolescents. Boccia et al (2006) conducted a randomized, placebo-controlled, double-blind study. Chen et al (2014) carried out a randomized controlled study, while Hirfanoglu et al (2009) performed a controlled clinical trial. Lutschg et al (1990) executed a randomized double-blind study. Both Martinez et al (1990) and Pothmann et al (1987) undertook double-blind studies. Prospective studies were conducted by Min et al (2012), Topcu et al (2014), and Visudtibhan et al (2004). The type of study conducted by Guidetti et al (1987) was not specified. Boccia et al (2006) in their randomized, placebo-controlled, double-blind study found that Flunarizine significantly decreased the gastrointestinal symptoms with no relevant side-effects reported in a population of 50 children with migraines, although the age range was not specified. Chen et al (2014) in a randomized controlled study involving 90 pediatric patients with migraines aged between 8-14 years, found that a combination of behavioral therapy and pharmacological treatment had better efficacy, however, the efficacy and safety were not specified. In a controlled clinical trial, Hirfanoglu et al (2009) found that all four drugs decreased the frequency, duration, and severity of headaches in 77 children with migraines, aged 12.98 ± 3.11 years, but no drug was found to be superior in terms of reducing cytokine levels. Lutschg et al (1990) in a randomized double-blind study involving 33 children aged 3 to 15 years, found that both drugs reduced the number of migraine attacks, but temporary side effects occurred in some patients leading to the termination of treatment in two patients. In a double-blind study, Martinez et al (1990) and Pothmann et al (1987) found significant improvement in the frequency, intensity, and duration of crises in 80 children aged between 7 and 17 years, but side effects were reported in both groups, which were mild and temporary. In a prospective study, Min et al (2012), Topcu et al (2014), and Visudtibhan et al (2004) found that the frequency and degree of headaches were significantly decreased after therapy in 288 children and adolescents with migraines, aged between 6 and 17 years, and that Flunarizine for migraine prophylactic treatment is effective and safe, although some side effects such as dizziness, lack of attention, and palpitations were reported with topiramate treatment. Lastly, Guidetti et al (1987) in a study with unspecified design involving 13 children (4 girls and 9 boys) between the ages of 10 and 13 years with severe migraines, found a significant decrease in attack frequency and that Flunarizine has no serious side effects and is trouble-free for courses of 2 months. All studies concluded that flunarizine is effective in reducing the frequency and severity of migraines in children. It was also found to be safe with minimal side effects, most commonly increased fatigue. Some studies found flunarizine to be more effective when combined with other treatments, such as behavioral therapy or other prophylactic drugs. However, one study found that flunarizine was less effective than topiramate and propranolol in reducing the PedMIDAS scores, a measure of migraine severity. Another study found that flunarizine was less effective in children with vegetative lability. Despite these differences, the overall consensus is that flunarizine is a beneficial treatment for pediatric migraines.\"\"\"\n",
        "    }\n",
        "}"
      ],
      "metadata": {
        "id": "YE67o1TldNAx"
      },
      "execution_count": 2,
      "outputs": []
    },
    {
      "cell_type": "code",
      "source": [
        "artc_in = \"\"\n",
        "artact_out = \"\"\n",
        "\n",
        "# print(\"Please Enter the Article Number(3.3.4, 3.3.8, 5.5.1):\")\n",
        "artc_number = input(\"Please Enter the Article Number(3.3.4, 3.3.8, 5.5.1):\")\n",
        "\n",
        "print(f\"Article Number: Articles_{artc_number}\")\n",
        "\n",
        "artc_in = Article_Dict[f'Articles_{artc_number}']['input']\n",
        "artact_out = Article_Dict[f'Articles_{artc_number}']['actual_output']\n",
        "\n",
        "print(f\"Article Input: {artc_in}\")\n",
        "print(f\"length: {len(artc_in)}\")\n",
        "print(f\"Article Output: {artact_out}\")\n",
        "print(f\"length: {len(artact_out)}\")"
      ],
      "metadata": {
        "colab": {
          "base_uri": "https://localhost:8080/"
        },
        "id": "Rn3HgIK0erJX",
        "outputId": "c8982f6f-4235-4d3f-df63-847894709475"
      },
      "execution_count": 3,
      "outputs": [
        {
          "output_type": "stream",
          "name": "stdout",
          "text": [
            "Please Enter the Article Number(3.3.4, 3.3.8, 5.5.1):5.5.1\n",
            "Article Number: Articles_5.5.1\n",
            "Article Input: The efficacy of flunarizine compared with placebo for migraine prophylaxis in children with classic or common migraine was evaluated in 2 placebo-controlled studies in 118 subjects. Flunarizine 5 mg/day for 12 weeks resulted in statistically significant decreases in migraine attack frequency from baseline. Additionally, comparison of migraine frequency at the end of study showed statistically significantly fewer migraines with flunarizine versus placebo. Treatment with flunarizine also produced significant reductions from baseline in the duration of migraine attacks. The efficacy of flunarizine for migraine prophylaxis in children was compared with topiramate, propranolol, dihydroergotamine, amitriptyline, cyproheptadine, and    acetylsalicylic acid across 5 active-controlled studies in 278 subjects.The randomized, double-blind study by Lütschg and Vassella (1990) showed that 4-month treatment with flunarizine 5 to 10 mg/day or propranolol 30 to 120 mg/day produced similar reductions in the frequency of migraine attacks (76.4% flunarizine vs 73.3% propranolol) in children with simple or classic migraine. However, flunarizine had no effect on the duration or intensity of migraine attacks, whereas propranolol showed a decrease in migraine intensity. Similarly, the 4-month, open-label, active-controlled study by Hirfanoglu et al (1987) in children with migraine with or without aura showed a 71.5% reduction in migraine frequency with flunarizine 5 to 10 mg/day; corresponding reductions with amitriptyline 0.5 mg/kg/day, cyproheptadine 0.2 mg/kg/day, and propranolol 10 to 40 mg/day were 80.1%, 78.8%, and 68.2%, respectively. The 6-month non-randomized comparator study by Topcu et al (2014) reported significant decreases in PedMIDAS scores with flunarizine 5 to 10 mg/day, topiramate 1 to 2 mg/kg/day, and propranolol 20 to 40 mg/day, although reductions with topiramate and propranolol were significantly greater compared with flunarizine. Lastra Martinez et al (1990) found similar efficacy with flunarizine (10 mg/day) and dihydroergotamine (3 doses of 1.5 mg/day per week after Week 3) (79% and 87% subjects with improvement, respectively) in migraine frequency, intensity, and duration in children with classic or common migraine. In a prospective, double-blind study in children with classic or uncomplicated migraine, there were no significant differences between flunarizine 5 to 10 mg/day and acetylsalicylic acid 100 to 200 mg/day in reduction of migraine attack frequency or symptoms. An additional study compared the efficacy of flunarizine with flunarizine combined with behavioral therapy in 90 children with migraine.Flunarizine, at doses of 0.2 mg/kg/day up to 10 mg/day, administered for 3 months was found to be more effective when combined with behavioral therapy versus monotherapy, as shown by significantly lower PedMIDAS scores.Four non-controlled open-label studies in 263 subjects are supportive for the efficacy of flunarizine for prevention of migraine in children. An open-label study of flunarizine 10 mg/day administered for 8 weeks to 200 children and adolescents with migraine found a significant decrease in migraine attack frequency and severity. Boccia et al (2006) reported significantly decreased migraine frequency at 1 and 2 months after daily administration of flunarizine 5 mg in children with migraine. Similarly, Guidetti reported in children with common or classic migraine a significant decrease in migraine frequency after 1 month of treatment with flunarizine 5 mg/day, which was maintained after 6 months of treatment. Visudtibhan et al (2004) found that 66.7% of children administered flunarizine 5 to 10 mg/day had a decrease in migraine frequency. Overall, the reviewed efficacy data from studies of flunarizine in adults and children with migraine support the authorized indication of flunarizine in Vietnam for the maintenance treatment of migraine, when other treatments are ineffective or poorly tolerated. The reviewed studies provide evidence supporting the safety of flunarizine in children with migraine. Adverse events reported with flunarizine in 2 placebo-controlled studies with children included drowsiness, weight gain, GI complaints, and fatigue; there were no SAEs reported. Flunarizine had no effect on routine laboratory assessments, blood pressure, or electroencephalogram measurements. Adverse events with flunarizine across the 6 active\u0002controlled studies included drowsiness, paresthesia, increased appetite, weight gain, increased fatigue, shortness of breath, concentration disorders, and stomach pain. No SAEs or cases of EPS were observed. No AEs were reported with flunarizine in non-controlled open-label studies.\n",
            "length: 4715\n",
            "Article Output: The following 10 clinical studies evaluate the effectiveness of various treatments, including flunarizine, propranolol, and acetylsalicylic acid, in managing migraine conditions in children and adolescents. Boccia et al (2006) conducted a randomized, placebo-controlled, double-blind study. Chen et al (2014) carried out a randomized controlled study, while Hirfanoglu et al (2009) performed a controlled clinical trial. Lutschg et al (1990) executed a randomized double-blind study. Both Martinez et al (1990) and Pothmann et al (1987) undertook double-blind studies. Prospective studies were conducted by Min et al (2012), Topcu et al (2014), and Visudtibhan et al (2004). The type of study conducted by Guidetti et al (1987) was not specified. Boccia et al (2006) in their randomized, placebo-controlled, double-blind study found that Flunarizine significantly decreased the gastrointestinal symptoms with no relevant side-effects reported in a population of 50 children with migraines, although the age range was not specified. Chen et al (2014) in a randomized controlled study involving 90 pediatric patients with migraines aged between 8-14 years, found that a combination of behavioral therapy and pharmacological treatment had better efficacy, however, the efficacy and safety were not specified. In a controlled clinical trial, Hirfanoglu et al (2009) found that all four drugs decreased the frequency, duration, and severity of headaches in 77 children with migraines, aged 12.98 ± 3.11 years, but no drug was found to be superior in terms of reducing cytokine levels. Lutschg et al (1990) in a randomized double-blind study involving 33 children aged 3 to 15 years, found that both drugs reduced the number of migraine attacks, but temporary side effects occurred in some patients leading to the termination of treatment in two patients. In a double-blind study, Martinez et al (1990) and Pothmann et al (1987) found significant improvement in the frequency, intensity, and duration of crises in 80 children aged between 7 and 17 years, but side effects were reported in both groups, which were mild and temporary. In a prospective study, Min et al (2012), Topcu et al (2014), and Visudtibhan et al (2004) found that the frequency and degree of headaches were significantly decreased after therapy in 288 children and adolescents with migraines, aged between 6 and 17 years, and that Flunarizine for migraine prophylactic treatment is effective and safe, although some side effects such as dizziness, lack of attention, and palpitations were reported with topiramate treatment. Lastly, Guidetti et al (1987) in a study with unspecified design involving 13 children (4 girls and 9 boys) between the ages of 10 and 13 years with severe migraines, found a significant decrease in attack frequency and that Flunarizine has no serious side effects and is trouble-free for courses of 2 months. All studies concluded that flunarizine is effective in reducing the frequency and severity of migraines in children. It was also found to be safe with minimal side effects, most commonly increased fatigue. Some studies found flunarizine to be more effective when combined with other treatments, such as behavioral therapy or other prophylactic drugs. However, one study found that flunarizine was less effective than topiramate and propranolol in reducing the PedMIDAS scores, a measure of migraine severity. Another study found that flunarizine was less effective in children with vegetative lability. Despite these differences, the overall consensus is that flunarizine is a beneficial treatment for pediatric migraines.\n",
            "length: 3622\n"
          ]
        }
      ]
    },
    {
      "cell_type": "markdown",
      "source": [
        "# 1. Summarization"
      ],
      "metadata": {
        "id": "YTiVIu8msj58"
      }
    },
    {
      "cell_type": "markdown",
      "source": [
        "## 1.1. Orginal - Summarization"
      ],
      "metadata": {
        "id": "Xk5MjSlqo97-"
      }
    },
    {
      "cell_type": "markdown",
      "source": [
        "### *1.1.1. Missing Values*"
      ],
      "metadata": {
        "id": "H0M6r3MOr_LM"
      }
    },
    {
      "cell_type": "code",
      "source": [
        "from deepeval import evaluate\n",
        "from deepeval.metrics import SummarizationMetric\n",
        "from deepeval.test_case import LLMTestCase\n",
        "\n",
        "# For AzureChatOepnAI\n",
        "from langchain_openai import AzureChatOpenAI\n",
        "\n",
        "custom_azure_openai_model = AzureChatOpenAI(\n",
        "    openai_api_version='2023-03-15-preview',\n",
        "    azure_deployment='gpt4-test',\n",
        "    azure_endpoint='https://pharma-ml-gpt4.openai.azure.com/',\n",
        "    openai_api_key='105a50f735f64837afc9259228b5a913',\n",
        ")\n",
        "\n",
        "# answer_relevancy_metric = AnswerRelevancyMetric(model=custom_azure_openai_model)\n",
        "\n",
        "test_case = LLMTestCase(input=artc_in, actual_output=artact_out)\n",
        "\n",
        "metric = SummarizationMetric(\n",
        "    threshold=0.5,\n",
        "    model=custom_azure_openai_model,\n",
        "    # model=\"gpt-4\",\n",
        "    assessment_questions=[\n",
        "        \"Is the inclusion score based on a percentage of 'yes' answers?\",\n",
        "        \"Does the score ensure the summary's accuracy with the source?\",\n",
        "        \"Does a higher score mean a more comprehensive summary?\"\n",
        "    ]\n",
        ")\n",
        "\n",
        "metric.measure(test_case)\n",
        "print(f\"metric.measure(test_case): {metric.measure(test_case)}\")\n",
        "print(f\"metric.score: {metric.score}\")\n",
        "\n",
        "# or evaluate test cases in bulk\n",
        "val = evaluate([test_case], [metric])\n",
        "print(f\"eval: {eval}\")"
      ],
      "metadata": {
        "colab": {
          "base_uri": "https://localhost:8080/",
          "height": 1000,
          "referenced_widgets": [
            "2ada85ef6b80408e9f363b4607d7bacb",
            "23c05bb58cd1482c88808a76af87fdbf",
            "661415e64fea408ba4fa410da5df5ed6",
            "ee067a7f9eea4172a9dca5c9966d97b7",
            "90c9a619eab04ac9af5e7f7ca8ed594b",
            "d328d300d2ec41e7a14dc7c832ad0f43",
            "1f67735423be4667b6283a47eb8afb6a",
            "e235f52aecaf4a678ccce40c57374f29"
          ]
        },
        "id": "quW-Z2JtGI3N",
        "outputId": "4ec3222c-5a29-4de8-dde4-73e1616361ed"
      },
      "execution_count": 4,
      "outputs": [
        {
          "output_type": "display_data",
          "data": {
            "text/plain": [
              "Output()"
            ],
            "application/vnd.jupyter.widget-view+json": {
              "version_major": 2,
              "version_minor": 0,
              "model_id": "2ada85ef6b80408e9f363b4607d7bacb"
            }
          },
          "metadata": {}
        },
        {
          "output_type": "display_data",
          "data": {
            "text/plain": [],
            "text/html": [
              "<pre style=\"white-space:pre;overflow-x:auto;line-height:normal;font-family:Menlo,'DejaVu Sans Mono',consolas,'Courier New',monospace\"></pre>\n"
            ]
          },
          "metadata": {}
        },
        {
          "output_type": "display_data",
          "data": {
            "text/plain": [
              "\n"
            ],
            "text/html": [
              "<pre style=\"white-space:pre;overflow-x:auto;line-height:normal;font-family:Menlo,'DejaVu Sans Mono',consolas,'Courier New',monospace\">\n",
              "</pre>\n"
            ]
          },
          "metadata": {}
        },
        {
          "output_type": "display_data",
          "data": {
            "text/plain": [
              "Output()"
            ],
            "application/vnd.jupyter.widget-view+json": {
              "version_major": 2,
              "version_minor": 0,
              "model_id": "661415e64fea408ba4fa410da5df5ed6"
            }
          },
          "metadata": {}
        },
        {
          "output_type": "display_data",
          "data": {
            "text/plain": [],
            "text/html": [
              "<pre style=\"white-space:pre;overflow-x:auto;line-height:normal;font-family:Menlo,'DejaVu Sans Mono',consolas,'Courier New',monospace\"></pre>\n"
            ]
          },
          "metadata": {}
        },
        {
          "output_type": "display_data",
          "data": {
            "text/plain": [
              "\n"
            ],
            "text/html": [
              "<pre style=\"white-space:pre;overflow-x:auto;line-height:normal;font-family:Menlo,'DejaVu Sans Mono',consolas,'Courier New',monospace\">\n",
              "</pre>\n"
            ]
          },
          "metadata": {}
        },
        {
          "output_type": "display_data",
          "data": {
            "text/plain": [
              "Output()"
            ],
            "application/vnd.jupyter.widget-view+json": {
              "version_major": 2,
              "version_minor": 0,
              "model_id": "90c9a619eab04ac9af5e7f7ca8ed594b"
            }
          },
          "metadata": {}
        },
        {
          "output_type": "display_data",
          "data": {
            "text/plain": [
              "Output()"
            ],
            "application/vnd.jupyter.widget-view+json": {
              "version_major": 2,
              "version_minor": 0,
              "model_id": "1f67735423be4667b6283a47eb8afb6a"
            }
          },
          "metadata": {}
        },
        {
          "output_type": "stream",
          "name": "stdout",
          "text": [
            "metric.measure(test_case): 0.6000000000000001\n",
            "metric.score: 0.6000000000000001\n"
          ]
        },
        {
          "output_type": "display_data",
          "data": {
            "text/plain": [],
            "text/html": [
              "<pre style=\"white-space:pre;overflow-x:auto;line-height:normal;font-family:Menlo,'DejaVu Sans Mono',consolas,'Courier New',monospace\"></pre>\n"
            ]
          },
          "metadata": {}
        },
        {
          "output_type": "display_data",
          "data": {
            "text/plain": [
              "\n"
            ],
            "text/html": [
              "<pre style=\"white-space:pre;overflow-x:auto;line-height:normal;font-family:Menlo,'DejaVu Sans Mono',consolas,'Courier New',monospace\">\n",
              "</pre>\n"
            ]
          },
          "metadata": {}
        },
        {
          "output_type": "display_data",
          "data": {
            "text/plain": [
              "\n"
            ],
            "text/html": [
              "<pre style=\"white-space:pre;overflow-x:auto;line-height:normal;font-family:Menlo,'DejaVu Sans Mono',consolas,'Courier New',monospace\">\n",
              "</pre>\n"
            ]
          },
          "metadata": {}
        },
        {
          "output_type": "display_data",
          "data": {
            "text/plain": [
              "======================================================================\n"
            ],
            "text/html": [
              "<pre style=\"white-space:pre;overflow-x:auto;line-height:normal;font-family:Menlo,'DejaVu Sans Mono',consolas,'Courier New',monospace\">======================================================================\n",
              "</pre>\n"
            ]
          },
          "metadata": {}
        },
        {
          "output_type": "display_data",
          "data": {
            "text/plain": [
              "\n"
            ],
            "text/html": [
              "<pre style=\"white-space:pre;overflow-x:auto;line-height:normal;font-family:Menlo,'DejaVu Sans Mono',consolas,'Courier New',monospace\">\n",
              "</pre>\n"
            ]
          },
          "metadata": {}
        },
        {
          "output_type": "display_data",
          "data": {
            "text/plain": [
              "Metrics Summary\n"
            ],
            "text/html": [
              "<pre style=\"white-space:pre;overflow-x:auto;line-height:normal;font-family:Menlo,'DejaVu Sans Mono',consolas,'Courier New',monospace\">Metrics Summary\n",
              "</pre>\n"
            ]
          },
          "metadata": {}
        },
        {
          "output_type": "display_data",
          "data": {
            "text/plain": [
              "\n"
            ],
            "text/html": [
              "<pre style=\"white-space:pre;overflow-x:auto;line-height:normal;font-family:Menlo,'DejaVu Sans Mono',consolas,'Courier New',monospace\">\n",
              "</pre>\n"
            ]
          },
          "metadata": {}
        },
        {
          "output_type": "display_data",
          "data": {
            "text/plain": [
              "  - ❌ Summarization (score: 0.4, threshold: 0.5, evaluation model: azure-openai-chat, reason: None)\n"
            ],
            "text/html": [
              "<pre style=\"white-space:pre;overflow-x:auto;line-height:normal;font-family:Menlo,'DejaVu Sans Mono',consolas,'Courier New',monospace\">  - ❌ Summarization (score: 0.4, threshold: 0.5, evaluation model: azure-openai-chat, reason: None)\n",
              "</pre>\n"
            ]
          },
          "metadata": {}
        },
        {
          "output_type": "display_data",
          "data": {
            "text/plain": [
              "      - Alignment (score: 0.4)\n"
            ],
            "text/html": [
              "<pre style=\"white-space:pre;overflow-x:auto;line-height:normal;font-family:Menlo,'DejaVu Sans Mono',consolas,'Courier New',monospace\">      - Alignment (score: 0.4)\n",
              "</pre>\n"
            ]
          },
          "metadata": {}
        },
        {
          "output_type": "display_data",
          "data": {
            "text/plain": [
              "      - Inclusion (score: 1.0)\n"
            ],
            "text/html": [
              "<pre style=\"white-space:pre;overflow-x:auto;line-height:normal;font-family:Menlo,'DejaVu Sans Mono',consolas,'Courier New',monospace\">      - Inclusion (score: 1.0)\n",
              "</pre>\n"
            ]
          },
          "metadata": {}
        },
        {
          "output_type": "display_data",
          "data": {
            "text/plain": [
              "\n"
            ],
            "text/html": [
              "<pre style=\"white-space:pre;overflow-x:auto;line-height:normal;font-family:Menlo,'DejaVu Sans Mono',consolas,'Courier New',monospace\">\n",
              "</pre>\n"
            ]
          },
          "metadata": {}
        },
        {
          "output_type": "display_data",
          "data": {
            "text/plain": [
              "For test case:\n"
            ],
            "text/html": [
              "<pre style=\"white-space:pre;overflow-x:auto;line-height:normal;font-family:Menlo,'DejaVu Sans Mono',consolas,'Courier New',monospace\">For test case:\n",
              "</pre>\n"
            ]
          },
          "metadata": {}
        },
        {
          "output_type": "display_data",
          "data": {
            "text/plain": [
              "\n"
            ],
            "text/html": [
              "<pre style=\"white-space:pre;overflow-x:auto;line-height:normal;font-family:Menlo,'DejaVu Sans Mono',consolas,'Courier New',monospace\">\n",
              "</pre>\n"
            ]
          },
          "metadata": {}
        },
        {
          "output_type": "display_data",
          "data": {
            "text/plain": [
              "  - input: The efficacy of flunarizine compared with placebo for migraine prophylaxis in children with classic or \n",
              "common migraine was evaluated in 2 placebo-controlled studies in 118 subjects. Flunarizine 5 mg/day for 12 weeks \n",
              "resulted in statistically significant decreases in migraine attack frequency from baseline. Additionally, \n",
              "comparison of migraine frequency at the end of study showed statistically significantly fewer migraines with \n",
              "flunarizine versus placebo. Treatment with flunarizine also produced significant reductions from baseline in the \n",
              "duration of migraine attacks. The efficacy of flunarizine for migraine prophylaxis in children was compared with \n",
              "topiramate, propranolol, dihydroergotamine, amitriptyline, cyproheptadine, and    acetylsalicylic acid across 5 \n",
              "active-controlled studies in 278 subjects.The randomized, double-blind study by Lütschg and Vassella (1990) showed \n",
              "that 4-month treatment with flunarizine 5 to 10 mg/day or propranolol 30 to 120 mg/day produced similar reductions \n",
              "in the frequency of migraine attacks (76.4% flunarizine vs 73.3% propranolol) in children with simple or classic \n",
              "migraine. However, flunarizine had no effect on the duration or intensity of migraine attacks, whereas propranolol \n",
              "showed a decrease in migraine intensity. Similarly, the 4-month, open-label, active-controlled study by Hirfanoglu \n",
              "et al (1987) in children with migraine with or without aura showed a 71.5% reduction in migraine frequency with \n",
              "flunarizine 5 to 10 mg/day; corresponding reductions with amitriptyline 0.5 mg/kg/day, cyproheptadine 0.2 \n",
              "mg/kg/day, and propranolol 10 to 40 mg/day were 80.1%, 78.8%, and 68.2%, respectively. The 6-month non-randomized \n",
              "comparator study by Topcu et al (2014) reported significant decreases in PedMIDAS scores with flunarizine 5 to 10 \n",
              "mg/day, topiramate 1 to 2 mg/kg/day, and propranolol 20 to 40 mg/day, although reductions with topiramate and \n",
              "propranolol were significantly greater compared with flunarizine. Lastra Martinez et al (1990) found similar \n",
              "efficacy with flunarizine (10 mg/day) and dihydroergotamine (3 doses of 1.5 mg/day per week after Week 3) (79% and \n",
              "87% subjects with improvement, respectively) in migraine frequency, intensity, and duration in children with \n",
              "classic or common migraine. In a prospective, double-blind study in children with classic or uncomplicated \n",
              "migraine, there were no significant differences between flunarizine 5 to 10 mg/day and acetylsalicylic acid 100 to \n",
              "200 mg/day in reduction of migraine attack frequency or symptoms. An additional study compared the efficacy of \n",
              "flunarizine with flunarizine combined with behavioral therapy in 90 children with migraine.Flunarizine, at doses of\n",
              "0.2 mg/kg/day up to 10 mg/day, administered for 3 months was found to be more effective when combined with \n",
              "behavioral therapy versus monotherapy, as shown by significantly lower PedMIDAS scores.Four non-controlled \n",
              "open-label studies in 263 subjects are supportive for the efficacy of flunarizine for prevention of migraine in \n",
              "children. An open-label study of flunarizine 10 mg/day administered for 8 weeks to 200 children and adolescents \n",
              "with migraine found a significant decrease in migraine attack frequency and severity. Boccia et al (2006) reported \n",
              "significantly decreased migraine frequency at 1 and 2 months after daily administration of flunarizine 5 mg in \n",
              "children with migraine. Similarly, Guidetti reported in children with common or classic migraine a significant \n",
              "decrease in migraine frequency after 1 month of treatment with flunarizine 5 mg/day, which was maintained after 6 \n",
              "months of treatment. Visudtibhan et al (2004) found that 66.7% of children administered flunarizine 5 to 10 mg/day \n",
              "had a decrease in migraine frequency. Overall, the reviewed efficacy data from studies of flunarizine in adults and\n",
              "children with migraine support the authorized indication of flunarizine in Vietnam for the maintenance treatment of\n",
              "migraine, when other treatments are ineffective or poorly tolerated. The reviewed studies provide evidence \n",
              "supporting the safety of flunarizine in children with migraine. Adverse events reported with flunarizine in 2 \n",
              "placebo-controlled studies with children included drowsiness, weight gain, GI complaints, and fatigue; there were \n",
              "no SAEs reported. Flunarizine had no effect on routine laboratory assessments, blood pressure, or \n",
              "electroencephalogram measurements. Adverse events with flunarizine across the 6 active\u0002controlled studies included \n",
              "drowsiness, paresthesia, increased appetite, weight gain, increased fatigue, shortness of breath, concentration \n",
              "disorders, and stomach pain. No SAEs or cases of EPS were observed. No AEs were reported with flunarizine in \n",
              "non-controlled open-label studies.\n"
            ],
            "text/html": [
              "<pre style=\"white-space:pre;overflow-x:auto;line-height:normal;font-family:Menlo,'DejaVu Sans Mono',consolas,'Courier New',monospace\">  - input: The efficacy of flunarizine compared with placebo for migraine prophylaxis in children with classic or \n",
              "common migraine was evaluated in 2 placebo-controlled studies in 118 subjects. Flunarizine 5 mg/day for 12 weeks \n",
              "resulted in statistically significant decreases in migraine attack frequency from baseline. Additionally, \n",
              "comparison of migraine frequency at the end of study showed statistically significantly fewer migraines with \n",
              "flunarizine versus placebo. Treatment with flunarizine also produced significant reductions from baseline in the \n",
              "duration of migraine attacks. The efficacy of flunarizine for migraine prophylaxis in children was compared with \n",
              "topiramate, propranolol, dihydroergotamine, amitriptyline, cyproheptadine, and    acetylsalicylic acid across 5 \n",
              "active-controlled studies in 278 subjects.The randomized, double-blind study by Lütschg and Vassella (1990) showed \n",
              "that 4-month treatment with flunarizine 5 to 10 mg/day or propranolol 30 to 120 mg/day produced similar reductions \n",
              "in the frequency of migraine attacks (76.4% flunarizine vs 73.3% propranolol) in children with simple or classic \n",
              "migraine. However, flunarizine had no effect on the duration or intensity of migraine attacks, whereas propranolol \n",
              "showed a decrease in migraine intensity. Similarly, the 4-month, open-label, active-controlled study by Hirfanoglu \n",
              "et al (1987) in children with migraine with or without aura showed a 71.5% reduction in migraine frequency with \n",
              "flunarizine 5 to 10 mg/day; corresponding reductions with amitriptyline 0.5 mg/kg/day, cyproheptadine 0.2 \n",
              "mg/kg/day, and propranolol 10 to 40 mg/day were 80.1%, 78.8%, and 68.2%, respectively. The 6-month non-randomized \n",
              "comparator study by Topcu et al (2014) reported significant decreases in PedMIDAS scores with flunarizine 5 to 10 \n",
              "mg/day, topiramate 1 to 2 mg/kg/day, and propranolol 20 to 40 mg/day, although reductions with topiramate and \n",
              "propranolol were significantly greater compared with flunarizine. Lastra Martinez et al (1990) found similar \n",
              "efficacy with flunarizine (10 mg/day) and dihydroergotamine (3 doses of 1.5 mg/day per week after Week 3) (79% and \n",
              "87% subjects with improvement, respectively) in migraine frequency, intensity, and duration in children with \n",
              "classic or common migraine. In a prospective, double-blind study in children with classic or uncomplicated \n",
              "migraine, there were no significant differences between flunarizine 5 to 10 mg/day and acetylsalicylic acid 100 to \n",
              "200 mg/day in reduction of migraine attack frequency or symptoms. An additional study compared the efficacy of \n",
              "flunarizine with flunarizine combined with behavioral therapy in 90 children with migraine.Flunarizine, at doses of\n",
              "0.2 mg/kg/day up to 10 mg/day, administered for 3 months was found to be more effective when combined with \n",
              "behavioral therapy versus monotherapy, as shown by significantly lower PedMIDAS scores.Four non-controlled \n",
              "open-label studies in 263 subjects are supportive for the efficacy of flunarizine for prevention of migraine in \n",
              "children. An open-label study of flunarizine 10 mg/day administered for 8 weeks to 200 children and adolescents \n",
              "with migraine found a significant decrease in migraine attack frequency and severity. Boccia et al (2006) reported \n",
              "significantly decreased migraine frequency at 1 and 2 months after daily administration of flunarizine 5 mg in \n",
              "children with migraine. Similarly, Guidetti reported in children with common or classic migraine a significant \n",
              "decrease in migraine frequency after 1 month of treatment with flunarizine 5 mg/day, which was maintained after 6 \n",
              "months of treatment. Visudtibhan et al (2004) found that 66.7% of children administered flunarizine 5 to 10 mg/day \n",
              "had a decrease in migraine frequency. Overall, the reviewed efficacy data from studies of flunarizine in adults and\n",
              "children with migraine support the authorized indication of flunarizine in Vietnam for the maintenance treatment of\n",
              "migraine, when other treatments are ineffective or poorly tolerated. The reviewed studies provide evidence \n",
              "supporting the safety of flunarizine in children with migraine. Adverse events reported with flunarizine in 2 \n",
              "placebo-controlled studies with children included drowsiness, weight gain, GI complaints, and fatigue; there were \n",
              "no SAEs reported. Flunarizine had no effect on routine laboratory assessments, blood pressure, or \n",
              "electroencephalogram measurements. Adverse events with flunarizine across the 6 active\u0002controlled studies included \n",
              "drowsiness, paresthesia, increased appetite, weight gain, increased fatigue, shortness of breath, concentration \n",
              "disorders, and stomach pain. No SAEs or cases of EPS were observed. No AEs were reported with flunarizine in \n",
              "non-controlled open-label studies.\n",
              "</pre>\n"
            ]
          },
          "metadata": {}
        },
        {
          "output_type": "display_data",
          "data": {
            "text/plain": [
              "  - actual output: The following 10 clinical studies evaluate the effectiveness of various treatments, including \n",
              "flunarizine, propranolol, and acetylsalicylic acid, in managing migraine conditions in children and adolescents. \n",
              "Boccia et al (2006) conducted a randomized, placebo-controlled, double-blind study. Chen et al (2014) carried out a\n",
              "randomized controlled study, while Hirfanoglu et al (2009) performed a controlled clinical trial. Lutschg et al \n",
              "(1990) executed a randomized double-blind study. Both Martinez et al (1990) and Pothmann et al (1987) undertook \n",
              "double-blind studies. Prospective studies were conducted by Min et al (2012), Topcu et al (2014), and Visudtibhan \n",
              "et al (2004). The type of study conducted by Guidetti et al (1987) was not specified. Boccia et al (2006) in their \n",
              "randomized, placebo-controlled, double-blind study found that Flunarizine significantly decreased the \n",
              "gastrointestinal symptoms with no relevant side-effects reported in a population of 50 children with migraines, \n",
              "although the age range was not specified. Chen et al (2014) in a randomized controlled study involving 90 pediatric\n",
              "patients with migraines aged between 8-14 years, found that a combination of behavioral therapy and pharmacological\n",
              "treatment had better efficacy, however, the efficacy and safety were not specified. In a controlled clinical trial,\n",
              "Hirfanoglu et al (2009) found that all four drugs decreased the frequency, duration, and severity of headaches in \n",
              "77 children with migraines, aged 12.98 ± 3.11 years, but no drug was found to be superior in terms of reducing \n",
              "cytokine levels. Lutschg et al (1990) in a randomized double-blind study involving 33 children aged 3 to 15 years, \n",
              "found that both drugs reduced the number of migraine attacks, but temporary side effects occurred in some patients \n",
              "leading to the termination of treatment in two patients. In a double-blind study, Martinez et al (1990) and \n",
              "Pothmann et al (1987) found significant improvement in the frequency, intensity, and duration of crises in 80 \n",
              "children aged between 7 and 17 years, but side effects were reported in both groups, which were mild and temporary.\n",
              "In a prospective study, Min et al (2012), Topcu et al (2014), and Visudtibhan et al (2004) found that the frequency\n",
              "and degree of headaches were significantly decreased after therapy in 288 children and adolescents with migraines, \n",
              "aged between 6 and 17 years, and that Flunarizine for migraine prophylactic treatment is effective and safe, \n",
              "although some side effects such as dizziness, lack of attention, and palpitations were reported with topiramate \n",
              "treatment. Lastly, Guidetti et al (1987) in a study with unspecified design involving 13 children (4 girls and 9 \n",
              "boys) between the ages of 10 and 13 years with severe migraines, found a significant decrease in attack frequency \n",
              "and that Flunarizine has no serious side effects and is trouble-free for courses of 2 months. All studies concluded\n",
              "that flunarizine is effective in reducing the frequency and severity of migraines in children. It was also found to\n",
              "be safe with minimal side effects, most commonly increased fatigue. Some studies found flunarizine to be more \n",
              "effective when combined with other treatments, such as behavioral therapy or other prophylactic drugs. However, one\n",
              "study found that flunarizine was less effective than topiramate and propranolol in reducing the PedMIDAS scores, a \n",
              "measure of migraine severity. Another study found that flunarizine was less effective in children with vegetative \n",
              "lability. Despite these differences, the overall consensus is that flunarizine is a beneficial treatment for \n",
              "pediatric migraines.\n"
            ],
            "text/html": [
              "<pre style=\"white-space:pre;overflow-x:auto;line-height:normal;font-family:Menlo,'DejaVu Sans Mono',consolas,'Courier New',monospace\">  - actual output: The following 10 clinical studies evaluate the effectiveness of various treatments, including \n",
              "flunarizine, propranolol, and acetylsalicylic acid, in managing migraine conditions in children and adolescents. \n",
              "Boccia et al (2006) conducted a randomized, placebo-controlled, double-blind study. Chen et al (2014) carried out a\n",
              "randomized controlled study, while Hirfanoglu et al (2009) performed a controlled clinical trial. Lutschg et al \n",
              "(1990) executed a randomized double-blind study. Both Martinez et al (1990) and Pothmann et al (1987) undertook \n",
              "double-blind studies. Prospective studies were conducted by Min et al (2012), Topcu et al (2014), and Visudtibhan \n",
              "et al (2004). The type of study conducted by Guidetti et al (1987) was not specified. Boccia et al (2006) in their \n",
              "randomized, placebo-controlled, double-blind study found that Flunarizine significantly decreased the \n",
              "gastrointestinal symptoms with no relevant side-effects reported in a population of 50 children with migraines, \n",
              "although the age range was not specified. Chen et al (2014) in a randomized controlled study involving 90 pediatric\n",
              "patients with migraines aged between 8-14 years, found that a combination of behavioral therapy and pharmacological\n",
              "treatment had better efficacy, however, the efficacy and safety were not specified. In a controlled clinical trial,\n",
              "Hirfanoglu et al (2009) found that all four drugs decreased the frequency, duration, and severity of headaches in \n",
              "77 children with migraines, aged 12.98 ± 3.11 years, but no drug was found to be superior in terms of reducing \n",
              "cytokine levels. Lutschg et al (1990) in a randomized double-blind study involving 33 children aged 3 to 15 years, \n",
              "found that both drugs reduced the number of migraine attacks, but temporary side effects occurred in some patients \n",
              "leading to the termination of treatment in two patients. In a double-blind study, Martinez et al (1990) and \n",
              "Pothmann et al (1987) found significant improvement in the frequency, intensity, and duration of crises in 80 \n",
              "children aged between 7 and 17 years, but side effects were reported in both groups, which were mild and temporary.\n",
              "In a prospective study, Min et al (2012), Topcu et al (2014), and Visudtibhan et al (2004) found that the frequency\n",
              "and degree of headaches were significantly decreased after therapy in 288 children and adolescents with migraines, \n",
              "aged between 6 and 17 years, and that Flunarizine for migraine prophylactic treatment is effective and safe, \n",
              "although some side effects such as dizziness, lack of attention, and palpitations were reported with topiramate \n",
              "treatment. Lastly, Guidetti et al (1987) in a study with unspecified design involving 13 children (4 girls and 9 \n",
              "boys) between the ages of 10 and 13 years with severe migraines, found a significant decrease in attack frequency \n",
              "and that Flunarizine has no serious side effects and is trouble-free for courses of 2 months. All studies concluded\n",
              "that flunarizine is effective in reducing the frequency and severity of migraines in children. It was also found to\n",
              "be safe with minimal side effects, most commonly increased fatigue. Some studies found flunarizine to be more \n",
              "effective when combined with other treatments, such as behavioral therapy or other prophylactic drugs. However, one\n",
              "study found that flunarizine was less effective than topiramate and propranolol in reducing the PedMIDAS scores, a \n",
              "measure of migraine severity. Another study found that flunarizine was less effective in children with vegetative \n",
              "lability. Despite these differences, the overall consensus is that flunarizine is a beneficial treatment for \n",
              "pediatric migraines.\n",
              "</pre>\n"
            ]
          },
          "metadata": {}
        },
        {
          "output_type": "display_data",
          "data": {
            "text/plain": [
              "  - expected output: None\n"
            ],
            "text/html": [
              "<pre style=\"white-space:pre;overflow-x:auto;line-height:normal;font-family:Menlo,'DejaVu Sans Mono',consolas,'Courier New',monospace\">  - expected output: None\n",
              "</pre>\n"
            ]
          },
          "metadata": {}
        },
        {
          "output_type": "display_data",
          "data": {
            "text/plain": [
              "  - context: None\n"
            ],
            "text/html": [
              "<pre style=\"white-space:pre;overflow-x:auto;line-height:normal;font-family:Menlo,'DejaVu Sans Mono',consolas,'Courier New',monospace\">  - context: None\n",
              "</pre>\n"
            ]
          },
          "metadata": {}
        },
        {
          "output_type": "display_data",
          "data": {
            "text/plain": [
              "  - retrieval context: None\n"
            ],
            "text/html": [
              "<pre style=\"white-space:pre;overflow-x:auto;line-height:normal;font-family:Menlo,'DejaVu Sans Mono',consolas,'Courier New',monospace\">  - retrieval context: None\n",
              "</pre>\n"
            ]
          },
          "metadata": {}
        },
        {
          "output_type": "display_data",
          "data": {
            "text/plain": [
              "\n"
            ],
            "text/html": [
              "<pre style=\"white-space:pre;overflow-x:auto;line-height:normal;font-family:Menlo,'DejaVu Sans Mono',consolas,'Courier New',monospace\">\n",
              "</pre>\n"
            ]
          },
          "metadata": {}
        },
        {
          "output_type": "display_data",
          "data": {
            "text/plain": [
              "----------------------------------------------------------------------\n"
            ],
            "text/html": [
              "<pre style=\"white-space:pre;overflow-x:auto;line-height:normal;font-family:Menlo,'DejaVu Sans Mono',consolas,'Courier New',monospace\">----------------------------------------------------------------------\n",
              "</pre>\n"
            ]
          },
          "metadata": {}
        },
        {
          "output_type": "display_data",
          "data": {
            "text/plain": [
              "✅ Tests finished! Run \u001b[32m\"deepeval login\"\u001b[0m to view evaluation results on the web.\n"
            ],
            "text/html": [
              "<pre style=\"white-space:pre;overflow-x:auto;line-height:normal;font-family:Menlo,'DejaVu Sans Mono',consolas,'Courier New',monospace\">✅ Tests finished! Run <span style=\"color: #008000; text-decoration-color: #008000\">\"deepeval login\"</span> to view evaluation results on the web.\n",
              "</pre>\n"
            ]
          },
          "metadata": {}
        },
        {
          "output_type": "display_data",
          "data": {
            "text/plain": [],
            "text/html": [
              "<pre style=\"white-space:pre;overflow-x:auto;line-height:normal;font-family:Menlo,'DejaVu Sans Mono',consolas,'Courier New',monospace\"></pre>\n"
            ]
          },
          "metadata": {}
        },
        {
          "output_type": "display_data",
          "data": {
            "text/plain": [
              "\n"
            ],
            "text/html": [
              "<pre style=\"white-space:pre;overflow-x:auto;line-height:normal;font-family:Menlo,'DejaVu Sans Mono',consolas,'Courier New',monospace\">\n",
              "</pre>\n"
            ]
          },
          "metadata": {}
        },
        {
          "output_type": "stream",
          "name": "stdout",
          "text": [
            "eval: <built-in function eval>\n"
          ]
        }
      ]
    },
    {
      "cell_type": "markdown",
      "source": [
        "### *1.1.2. Mis-Placed Values*"
      ],
      "metadata": {
        "id": "w4CiCqJAtxSC"
      }
    },
    {
      "cell_type": "code",
      "source": [
        "from deepeval import evaluate\n",
        "from deepeval.metrics import SummarizationMetric\n",
        "from deepeval.test_case import LLMTestCase\n",
        "\n",
        "# For AzureChatOepnAI\n",
        "from langchain_openai import AzureChatOpenAI\n",
        "\n",
        "custom_azure_openai_model = AzureChatOpenAI(\n",
        "    openai_api_version='2023-03-15-preview',\n",
        "    azure_deployment='gpt4-test',\n",
        "    azure_endpoint='https://pharma-ml-gpt4.openai.azure.com/',\n",
        "    openai_api_key='105a50f735f64837afc9259228b5a913',\n",
        ")\n",
        "\n",
        "# answer_relevancy_metric = AnswerRelevancyMetric(model=custom_azure_openai_model)\n",
        "\n",
        "test_case = LLMTestCase(input=artc_in, actual_output=artact_out)\n",
        "\n",
        "metric = SummarizationMetric(\n",
        "    threshold=0.5,\n",
        "    model=custom_azure_openai_model,\n",
        "    # model=\"gpt-4\",\n",
        "    assessment_questions=[\n",
        "        \"Is the inclusion score based on a percentage of 'yes' answers?\",\n",
        "        \"Does the score ensure the summary's accuracy with the source?\",\n",
        "        \"Does a higher score mean a more comprehensive summary?\"\n",
        "    ]\n",
        ")\n",
        "\n",
        "metric.measure(test_case)\n",
        "print(f\"metric.measure(test_case): {metric.measure(test_case)}\")\n",
        "print(f\"metric.score: {metric.score}\")\n",
        "\n",
        "# or evaluate test cases in bulk\n",
        "evaluate([test_case], [metric])\n",
        "# print(f\"eval: {eval}\") # runing it take -->> 1m 4S"
      ],
      "metadata": {
        "colab": {
          "base_uri": "https://localhost:8080/",
          "height": 1000,
          "referenced_widgets": [
            "f32da75ecf3d4bb4b717dadc548692ed",
            "7fd3adf016504003b1ae591f6177f83d",
            "56cb691221ff451bb164afad96bdf4c0",
            "2f7d69c325fa45148bb18086402dff7e",
            "58bb0b11b77c4d48b99b76787e6d7c02",
            "676aacab4b514aeb88978fff33e79274",
            "9f1256877a1146e59488c57c678f90a0",
            "dc617cdb2e0046eb86b48aee945ffa57"
          ]
        },
        "outputId": "c0b48104-5857-4cf1-ee21-a09fe976e66c",
        "id": "wImyrjQItxSC"
      },
      "execution_count": 5,
      "outputs": [
        {
          "output_type": "display_data",
          "data": {
            "text/plain": [
              "Output()"
            ],
            "application/vnd.jupyter.widget-view+json": {
              "version_major": 2,
              "version_minor": 0,
              "model_id": "f32da75ecf3d4bb4b717dadc548692ed"
            }
          },
          "metadata": {}
        },
        {
          "output_type": "display_data",
          "data": {
            "text/plain": [],
            "text/html": [
              "<pre style=\"white-space:pre;overflow-x:auto;line-height:normal;font-family:Menlo,'DejaVu Sans Mono',consolas,'Courier New',monospace\"></pre>\n"
            ]
          },
          "metadata": {}
        },
        {
          "output_type": "display_data",
          "data": {
            "text/plain": [
              "\n"
            ],
            "text/html": [
              "<pre style=\"white-space:pre;overflow-x:auto;line-height:normal;font-family:Menlo,'DejaVu Sans Mono',consolas,'Courier New',monospace\">\n",
              "</pre>\n"
            ]
          },
          "metadata": {}
        },
        {
          "output_type": "display_data",
          "data": {
            "text/plain": [
              "Output()"
            ],
            "application/vnd.jupyter.widget-view+json": {
              "version_major": 2,
              "version_minor": 0,
              "model_id": "56cb691221ff451bb164afad96bdf4c0"
            }
          },
          "metadata": {}
        },
        {
          "output_type": "display_data",
          "data": {
            "text/plain": [],
            "text/html": [
              "<pre style=\"white-space:pre;overflow-x:auto;line-height:normal;font-family:Menlo,'DejaVu Sans Mono',consolas,'Courier New',monospace\"></pre>\n"
            ]
          },
          "metadata": {}
        },
        {
          "output_type": "display_data",
          "data": {
            "text/plain": [
              "\n"
            ],
            "text/html": [
              "<pre style=\"white-space:pre;overflow-x:auto;line-height:normal;font-family:Menlo,'DejaVu Sans Mono',consolas,'Courier New',monospace\">\n",
              "</pre>\n"
            ]
          },
          "metadata": {}
        },
        {
          "output_type": "display_data",
          "data": {
            "text/plain": [
              "Output()"
            ],
            "application/vnd.jupyter.widget-view+json": {
              "version_major": 2,
              "version_minor": 0,
              "model_id": "58bb0b11b77c4d48b99b76787e6d7c02"
            }
          },
          "metadata": {}
        },
        {
          "output_type": "display_data",
          "data": {
            "text/plain": [
              "Output()"
            ],
            "application/vnd.jupyter.widget-view+json": {
              "version_major": 2,
              "version_minor": 0,
              "model_id": "9f1256877a1146e59488c57c678f90a0"
            }
          },
          "metadata": {}
        },
        {
          "output_type": "stream",
          "name": "stdout",
          "text": [
            "metric.measure(test_case): 1.0\n",
            "metric.score: 1.0\n"
          ]
        },
        {
          "output_type": "display_data",
          "data": {
            "text/plain": [],
            "text/html": [
              "<pre style=\"white-space:pre;overflow-x:auto;line-height:normal;font-family:Menlo,'DejaVu Sans Mono',consolas,'Courier New',monospace\"></pre>\n"
            ]
          },
          "metadata": {}
        },
        {
          "output_type": "display_data",
          "data": {
            "text/plain": [
              "\n"
            ],
            "text/html": [
              "<pre style=\"white-space:pre;overflow-x:auto;line-height:normal;font-family:Menlo,'DejaVu Sans Mono',consolas,'Courier New',monospace\">\n",
              "</pre>\n"
            ]
          },
          "metadata": {}
        },
        {
          "output_type": "display_data",
          "data": {
            "text/plain": [
              "\n"
            ],
            "text/html": [
              "<pre style=\"white-space:pre;overflow-x:auto;line-height:normal;font-family:Menlo,'DejaVu Sans Mono',consolas,'Courier New',monospace\">\n",
              "</pre>\n"
            ]
          },
          "metadata": {}
        },
        {
          "output_type": "display_data",
          "data": {
            "text/plain": [
              "======================================================================\n"
            ],
            "text/html": [
              "<pre style=\"white-space:pre;overflow-x:auto;line-height:normal;font-family:Menlo,'DejaVu Sans Mono',consolas,'Courier New',monospace\">======================================================================\n",
              "</pre>\n"
            ]
          },
          "metadata": {}
        },
        {
          "output_type": "display_data",
          "data": {
            "text/plain": [
              "\n"
            ],
            "text/html": [
              "<pre style=\"white-space:pre;overflow-x:auto;line-height:normal;font-family:Menlo,'DejaVu Sans Mono',consolas,'Courier New',monospace\">\n",
              "</pre>\n"
            ]
          },
          "metadata": {}
        },
        {
          "output_type": "display_data",
          "data": {
            "text/plain": [
              "Metrics Summary\n"
            ],
            "text/html": [
              "<pre style=\"white-space:pre;overflow-x:auto;line-height:normal;font-family:Menlo,'DejaVu Sans Mono',consolas,'Courier New',monospace\">Metrics Summary\n",
              "</pre>\n"
            ]
          },
          "metadata": {}
        },
        {
          "output_type": "display_data",
          "data": {
            "text/plain": [
              "\n"
            ],
            "text/html": [
              "<pre style=\"white-space:pre;overflow-x:auto;line-height:normal;font-family:Menlo,'DejaVu Sans Mono',consolas,'Courier New',monospace\">\n",
              "</pre>\n"
            ]
          },
          "metadata": {}
        },
        {
          "output_type": "display_data",
          "data": {
            "text/plain": [
              "  - ✅ Summarization (score: 0.8, threshold: 0.5, evaluation model: azure-openai-chat, reason: None)\n"
            ],
            "text/html": [
              "<pre style=\"white-space:pre;overflow-x:auto;line-height:normal;font-family:Menlo,'DejaVu Sans Mono',consolas,'Courier New',monospace\">  - ✅ Summarization (score: 0.8, threshold: 0.5, evaluation model: azure-openai-chat, reason: None)\n",
              "</pre>\n"
            ]
          },
          "metadata": {}
        },
        {
          "output_type": "display_data",
          "data": {
            "text/plain": [
              "      - Alignment (score: 0.8)\n"
            ],
            "text/html": [
              "<pre style=\"white-space:pre;overflow-x:auto;line-height:normal;font-family:Menlo,'DejaVu Sans Mono',consolas,'Courier New',monospace\">      - Alignment (score: 0.8)\n",
              "</pre>\n"
            ]
          },
          "metadata": {}
        },
        {
          "output_type": "display_data",
          "data": {
            "text/plain": [
              "      - Inclusion (score: 1.0)\n"
            ],
            "text/html": [
              "<pre style=\"white-space:pre;overflow-x:auto;line-height:normal;font-family:Menlo,'DejaVu Sans Mono',consolas,'Courier New',monospace\">      - Inclusion (score: 1.0)\n",
              "</pre>\n"
            ]
          },
          "metadata": {}
        },
        {
          "output_type": "display_data",
          "data": {
            "text/plain": [
              "\n"
            ],
            "text/html": [
              "<pre style=\"white-space:pre;overflow-x:auto;line-height:normal;font-family:Menlo,'DejaVu Sans Mono',consolas,'Courier New',monospace\">\n",
              "</pre>\n"
            ]
          },
          "metadata": {}
        },
        {
          "output_type": "display_data",
          "data": {
            "text/plain": [
              "For test case:\n"
            ],
            "text/html": [
              "<pre style=\"white-space:pre;overflow-x:auto;line-height:normal;font-family:Menlo,'DejaVu Sans Mono',consolas,'Courier New',monospace\">For test case:\n",
              "</pre>\n"
            ]
          },
          "metadata": {}
        },
        {
          "output_type": "display_data",
          "data": {
            "text/plain": [
              "\n"
            ],
            "text/html": [
              "<pre style=\"white-space:pre;overflow-x:auto;line-height:normal;font-family:Menlo,'DejaVu Sans Mono',consolas,'Courier New',monospace\">\n",
              "</pre>\n"
            ]
          },
          "metadata": {}
        },
        {
          "output_type": "display_data",
          "data": {
            "text/plain": [
              "  - input: The efficacy of flunarizine compared with placebo for migraine prophylaxis in children with classic or \n",
              "common migraine was evaluated in 2 placebo-controlled studies in 118 subjects. Flunarizine 5 mg/day for 12 weeks \n",
              "resulted in statistically significant decreases in migraine attack frequency from baseline. Additionally, \n",
              "comparison of migraine frequency at the end of study showed statistically significantly fewer migraines with \n",
              "flunarizine versus placebo. Treatment with flunarizine also produced significant reductions from baseline in the \n",
              "duration of migraine attacks. The efficacy of flunarizine for migraine prophylaxis in children was compared with \n",
              "topiramate, propranolol, dihydroergotamine, amitriptyline, cyproheptadine, and    acetylsalicylic acid across 5 \n",
              "active-controlled studies in 278 subjects.The randomized, double-blind study by Lütschg and Vassella (1990) showed \n",
              "that 4-month treatment with flunarizine 5 to 10 mg/day or propranolol 30 to 120 mg/day produced similar reductions \n",
              "in the frequency of migraine attacks (76.4% flunarizine vs 73.3% propranolol) in children with simple or classic \n",
              "migraine. However, flunarizine had no effect on the duration or intensity of migraine attacks, whereas propranolol \n",
              "showed a decrease in migraine intensity. Similarly, the 4-month, open-label, active-controlled study by Hirfanoglu \n",
              "et al (1987) in children with migraine with or without aura showed a 71.5% reduction in migraine frequency with \n",
              "flunarizine 5 to 10 mg/day; corresponding reductions with amitriptyline 0.5 mg/kg/day, cyproheptadine 0.2 \n",
              "mg/kg/day, and propranolol 10 to 40 mg/day were 80.1%, 78.8%, and 68.2%, respectively. The 6-month non-randomized \n",
              "comparator study by Topcu et al (2014) reported significant decreases in PedMIDAS scores with flunarizine 5 to 10 \n",
              "mg/day, topiramate 1 to 2 mg/kg/day, and propranolol 20 to 40 mg/day, although reductions with topiramate and \n",
              "propranolol were significantly greater compared with flunarizine. Lastra Martinez et al (1990) found similar \n",
              "efficacy with flunarizine (10 mg/day) and dihydroergotamine (3 doses of 1.5 mg/day per week after Week 3) (79% and \n",
              "87% subjects with improvement, respectively) in migraine frequency, intensity, and duration in children with \n",
              "classic or common migraine. In a prospective, double-blind study in children with classic or uncomplicated \n",
              "migraine, there were no significant differences between flunarizine 5 to 10 mg/day and acetylsalicylic acid 100 to \n",
              "200 mg/day in reduction of migraine attack frequency or symptoms. An additional study compared the efficacy of \n",
              "flunarizine with flunarizine combined with behavioral therapy in 90 children with migraine.Flunarizine, at doses of\n",
              "0.2 mg/kg/day up to 10 mg/day, administered for 3 months was found to be more effective when combined with \n",
              "behavioral therapy versus monotherapy, as shown by significantly lower PedMIDAS scores.Four non-controlled \n",
              "open-label studies in 263 subjects are supportive for the efficacy of flunarizine for prevention of migraine in \n",
              "children. An open-label study of flunarizine 10 mg/day administered for 8 weeks to 200 children and adolescents \n",
              "with migraine found a significant decrease in migraine attack frequency and severity. Boccia et al (2006) reported \n",
              "significantly decreased migraine frequency at 1 and 2 months after daily administration of flunarizine 5 mg in \n",
              "children with migraine. Similarly, Guidetti reported in children with common or classic migraine a significant \n",
              "decrease in migraine frequency after 1 month of treatment with flunarizine 5 mg/day, which was maintained after 6 \n",
              "months of treatment. Visudtibhan et al (2004) found that 66.7% of children administered flunarizine 5 to 10 mg/day \n",
              "had a decrease in migraine frequency. Overall, the reviewed efficacy data from studies of flunarizine in adults and\n",
              "children with migraine support the authorized indication of flunarizine in Vietnam for the maintenance treatment of\n",
              "migraine, when other treatments are ineffective or poorly tolerated. The reviewed studies provide evidence \n",
              "supporting the safety of flunarizine in children with migraine. Adverse events reported with flunarizine in 2 \n",
              "placebo-controlled studies with children included drowsiness, weight gain, GI complaints, and fatigue; there were \n",
              "no SAEs reported. Flunarizine had no effect on routine laboratory assessments, blood pressure, or \n",
              "electroencephalogram measurements. Adverse events with flunarizine across the 6 active\u0002controlled studies included \n",
              "drowsiness, paresthesia, increased appetite, weight gain, increased fatigue, shortness of breath, concentration \n",
              "disorders, and stomach pain. No SAEs or cases of EPS were observed. No AEs were reported with flunarizine in \n",
              "non-controlled open-label studies.\n"
            ],
            "text/html": [
              "<pre style=\"white-space:pre;overflow-x:auto;line-height:normal;font-family:Menlo,'DejaVu Sans Mono',consolas,'Courier New',monospace\">  - input: The efficacy of flunarizine compared with placebo for migraine prophylaxis in children with classic or \n",
              "common migraine was evaluated in 2 placebo-controlled studies in 118 subjects. Flunarizine 5 mg/day for 12 weeks \n",
              "resulted in statistically significant decreases in migraine attack frequency from baseline. Additionally, \n",
              "comparison of migraine frequency at the end of study showed statistically significantly fewer migraines with \n",
              "flunarizine versus placebo. Treatment with flunarizine also produced significant reductions from baseline in the \n",
              "duration of migraine attacks. The efficacy of flunarizine for migraine prophylaxis in children was compared with \n",
              "topiramate, propranolol, dihydroergotamine, amitriptyline, cyproheptadine, and    acetylsalicylic acid across 5 \n",
              "active-controlled studies in 278 subjects.The randomized, double-blind study by Lütschg and Vassella (1990) showed \n",
              "that 4-month treatment with flunarizine 5 to 10 mg/day or propranolol 30 to 120 mg/day produced similar reductions \n",
              "in the frequency of migraine attacks (76.4% flunarizine vs 73.3% propranolol) in children with simple or classic \n",
              "migraine. However, flunarizine had no effect on the duration or intensity of migraine attacks, whereas propranolol \n",
              "showed a decrease in migraine intensity. Similarly, the 4-month, open-label, active-controlled study by Hirfanoglu \n",
              "et al (1987) in children with migraine with or without aura showed a 71.5% reduction in migraine frequency with \n",
              "flunarizine 5 to 10 mg/day; corresponding reductions with amitriptyline 0.5 mg/kg/day, cyproheptadine 0.2 \n",
              "mg/kg/day, and propranolol 10 to 40 mg/day were 80.1%, 78.8%, and 68.2%, respectively. The 6-month non-randomized \n",
              "comparator study by Topcu et al (2014) reported significant decreases in PedMIDAS scores with flunarizine 5 to 10 \n",
              "mg/day, topiramate 1 to 2 mg/kg/day, and propranolol 20 to 40 mg/day, although reductions with topiramate and \n",
              "propranolol were significantly greater compared with flunarizine. Lastra Martinez et al (1990) found similar \n",
              "efficacy with flunarizine (10 mg/day) and dihydroergotamine (3 doses of 1.5 mg/day per week after Week 3) (79% and \n",
              "87% subjects with improvement, respectively) in migraine frequency, intensity, and duration in children with \n",
              "classic or common migraine. In a prospective, double-blind study in children with classic or uncomplicated \n",
              "migraine, there were no significant differences between flunarizine 5 to 10 mg/day and acetylsalicylic acid 100 to \n",
              "200 mg/day in reduction of migraine attack frequency or symptoms. An additional study compared the efficacy of \n",
              "flunarizine with flunarizine combined with behavioral therapy in 90 children with migraine.Flunarizine, at doses of\n",
              "0.2 mg/kg/day up to 10 mg/day, administered for 3 months was found to be more effective when combined with \n",
              "behavioral therapy versus monotherapy, as shown by significantly lower PedMIDAS scores.Four non-controlled \n",
              "open-label studies in 263 subjects are supportive for the efficacy of flunarizine for prevention of migraine in \n",
              "children. An open-label study of flunarizine 10 mg/day administered for 8 weeks to 200 children and adolescents \n",
              "with migraine found a significant decrease in migraine attack frequency and severity. Boccia et al (2006) reported \n",
              "significantly decreased migraine frequency at 1 and 2 months after daily administration of flunarizine 5 mg in \n",
              "children with migraine. Similarly, Guidetti reported in children with common or classic migraine a significant \n",
              "decrease in migraine frequency after 1 month of treatment with flunarizine 5 mg/day, which was maintained after 6 \n",
              "months of treatment. Visudtibhan et al (2004) found that 66.7% of children administered flunarizine 5 to 10 mg/day \n",
              "had a decrease in migraine frequency. Overall, the reviewed efficacy data from studies of flunarizine in adults and\n",
              "children with migraine support the authorized indication of flunarizine in Vietnam for the maintenance treatment of\n",
              "migraine, when other treatments are ineffective or poorly tolerated. The reviewed studies provide evidence \n",
              "supporting the safety of flunarizine in children with migraine. Adverse events reported with flunarizine in 2 \n",
              "placebo-controlled studies with children included drowsiness, weight gain, GI complaints, and fatigue; there were \n",
              "no SAEs reported. Flunarizine had no effect on routine laboratory assessments, blood pressure, or \n",
              "electroencephalogram measurements. Adverse events with flunarizine across the 6 active\u0002controlled studies included \n",
              "drowsiness, paresthesia, increased appetite, weight gain, increased fatigue, shortness of breath, concentration \n",
              "disorders, and stomach pain. No SAEs or cases of EPS were observed. No AEs were reported with flunarizine in \n",
              "non-controlled open-label studies.\n",
              "</pre>\n"
            ]
          },
          "metadata": {}
        },
        {
          "output_type": "display_data",
          "data": {
            "text/plain": [
              "  - actual output: The following 10 clinical studies evaluate the effectiveness of various treatments, including \n",
              "flunarizine, propranolol, and acetylsalicylic acid, in managing migraine conditions in children and adolescents. \n",
              "Boccia et al (2006) conducted a randomized, placebo-controlled, double-blind study. Chen et al (2014) carried out a\n",
              "randomized controlled study, while Hirfanoglu et al (2009) performed a controlled clinical trial. Lutschg et al \n",
              "(1990) executed a randomized double-blind study. Both Martinez et al (1990) and Pothmann et al (1987) undertook \n",
              "double-blind studies. Prospective studies were conducted by Min et al (2012), Topcu et al (2014), and Visudtibhan \n",
              "et al (2004). The type of study conducted by Guidetti et al (1987) was not specified. Boccia et al (2006) in their \n",
              "randomized, placebo-controlled, double-blind study found that Flunarizine significantly decreased the \n",
              "gastrointestinal symptoms with no relevant side-effects reported in a population of 50 children with migraines, \n",
              "although the age range was not specified. Chen et al (2014) in a randomized controlled study involving 90 pediatric\n",
              "patients with migraines aged between 8-14 years, found that a combination of behavioral therapy and pharmacological\n",
              "treatment had better efficacy, however, the efficacy and safety were not specified. In a controlled clinical trial,\n",
              "Hirfanoglu et al (2009) found that all four drugs decreased the frequency, duration, and severity of headaches in \n",
              "77 children with migraines, aged 12.98 ± 3.11 years, but no drug was found to be superior in terms of reducing \n",
              "cytokine levels. Lutschg et al (1990) in a randomized double-blind study involving 33 children aged 3 to 15 years, \n",
              "found that both drugs reduced the number of migraine attacks, but temporary side effects occurred in some patients \n",
              "leading to the termination of treatment in two patients. In a double-blind study, Martinez et al (1990) and \n",
              "Pothmann et al (1987) found significant improvement in the frequency, intensity, and duration of crises in 80 \n",
              "children aged between 7 and 17 years, but side effects were reported in both groups, which were mild and temporary.\n",
              "In a prospective study, Min et al (2012), Topcu et al (2014), and Visudtibhan et al (2004) found that the frequency\n",
              "and degree of headaches were significantly decreased after therapy in 288 children and adolescents with migraines, \n",
              "aged between 6 and 17 years, and that Flunarizine for migraine prophylactic treatment is effective and safe, \n",
              "although some side effects such as dizziness, lack of attention, and palpitations were reported with topiramate \n",
              "treatment. Lastly, Guidetti et al (1987) in a study with unspecified design involving 13 children (4 girls and 9 \n",
              "boys) between the ages of 10 and 13 years with severe migraines, found a significant decrease in attack frequency \n",
              "and that Flunarizine has no serious side effects and is trouble-free for courses of 2 months. All studies concluded\n",
              "that flunarizine is effective in reducing the frequency and severity of migraines in children. It was also found to\n",
              "be safe with minimal side effects, most commonly increased fatigue. Some studies found flunarizine to be more \n",
              "effective when combined with other treatments, such as behavioral therapy or other prophylactic drugs. However, one\n",
              "study found that flunarizine was less effective than topiramate and propranolol in reducing the PedMIDAS scores, a \n",
              "measure of migraine severity. Another study found that flunarizine was less effective in children with vegetative \n",
              "lability. Despite these differences, the overall consensus is that flunarizine is a beneficial treatment for \n",
              "pediatric migraines.\n"
            ],
            "text/html": [
              "<pre style=\"white-space:pre;overflow-x:auto;line-height:normal;font-family:Menlo,'DejaVu Sans Mono',consolas,'Courier New',monospace\">  - actual output: The following 10 clinical studies evaluate the effectiveness of various treatments, including \n",
              "flunarizine, propranolol, and acetylsalicylic acid, in managing migraine conditions in children and adolescents. \n",
              "Boccia et al (2006) conducted a randomized, placebo-controlled, double-blind study. Chen et al (2014) carried out a\n",
              "randomized controlled study, while Hirfanoglu et al (2009) performed a controlled clinical trial. Lutschg et al \n",
              "(1990) executed a randomized double-blind study. Both Martinez et al (1990) and Pothmann et al (1987) undertook \n",
              "double-blind studies. Prospective studies were conducted by Min et al (2012), Topcu et al (2014), and Visudtibhan \n",
              "et al (2004). The type of study conducted by Guidetti et al (1987) was not specified. Boccia et al (2006) in their \n",
              "randomized, placebo-controlled, double-blind study found that Flunarizine significantly decreased the \n",
              "gastrointestinal symptoms with no relevant side-effects reported in a population of 50 children with migraines, \n",
              "although the age range was not specified. Chen et al (2014) in a randomized controlled study involving 90 pediatric\n",
              "patients with migraines aged between 8-14 years, found that a combination of behavioral therapy and pharmacological\n",
              "treatment had better efficacy, however, the efficacy and safety were not specified. In a controlled clinical trial,\n",
              "Hirfanoglu et al (2009) found that all four drugs decreased the frequency, duration, and severity of headaches in \n",
              "77 children with migraines, aged 12.98 ± 3.11 years, but no drug was found to be superior in terms of reducing \n",
              "cytokine levels. Lutschg et al (1990) in a randomized double-blind study involving 33 children aged 3 to 15 years, \n",
              "found that both drugs reduced the number of migraine attacks, but temporary side effects occurred in some patients \n",
              "leading to the termination of treatment in two patients. In a double-blind study, Martinez et al (1990) and \n",
              "Pothmann et al (1987) found significant improvement in the frequency, intensity, and duration of crises in 80 \n",
              "children aged between 7 and 17 years, but side effects were reported in both groups, which were mild and temporary.\n",
              "In a prospective study, Min et al (2012), Topcu et al (2014), and Visudtibhan et al (2004) found that the frequency\n",
              "and degree of headaches were significantly decreased after therapy in 288 children and adolescents with migraines, \n",
              "aged between 6 and 17 years, and that Flunarizine for migraine prophylactic treatment is effective and safe, \n",
              "although some side effects such as dizziness, lack of attention, and palpitations were reported with topiramate \n",
              "treatment. Lastly, Guidetti et al (1987) in a study with unspecified design involving 13 children (4 girls and 9 \n",
              "boys) between the ages of 10 and 13 years with severe migraines, found a significant decrease in attack frequency \n",
              "and that Flunarizine has no serious side effects and is trouble-free for courses of 2 months. All studies concluded\n",
              "that flunarizine is effective in reducing the frequency and severity of migraines in children. It was also found to\n",
              "be safe with minimal side effects, most commonly increased fatigue. Some studies found flunarizine to be more \n",
              "effective when combined with other treatments, such as behavioral therapy or other prophylactic drugs. However, one\n",
              "study found that flunarizine was less effective than topiramate and propranolol in reducing the PedMIDAS scores, a \n",
              "measure of migraine severity. Another study found that flunarizine was less effective in children with vegetative \n",
              "lability. Despite these differences, the overall consensus is that flunarizine is a beneficial treatment for \n",
              "pediatric migraines.\n",
              "</pre>\n"
            ]
          },
          "metadata": {}
        },
        {
          "output_type": "display_data",
          "data": {
            "text/plain": [
              "  - expected output: None\n"
            ],
            "text/html": [
              "<pre style=\"white-space:pre;overflow-x:auto;line-height:normal;font-family:Menlo,'DejaVu Sans Mono',consolas,'Courier New',monospace\">  - expected output: None\n",
              "</pre>\n"
            ]
          },
          "metadata": {}
        },
        {
          "output_type": "display_data",
          "data": {
            "text/plain": [
              "  - context: None\n"
            ],
            "text/html": [
              "<pre style=\"white-space:pre;overflow-x:auto;line-height:normal;font-family:Menlo,'DejaVu Sans Mono',consolas,'Courier New',monospace\">  - context: None\n",
              "</pre>\n"
            ]
          },
          "metadata": {}
        },
        {
          "output_type": "display_data",
          "data": {
            "text/plain": [
              "  - retrieval context: None\n"
            ],
            "text/html": [
              "<pre style=\"white-space:pre;overflow-x:auto;line-height:normal;font-family:Menlo,'DejaVu Sans Mono',consolas,'Courier New',monospace\">  - retrieval context: None\n",
              "</pre>\n"
            ]
          },
          "metadata": {}
        },
        {
          "output_type": "display_data",
          "data": {
            "text/plain": [
              "\n"
            ],
            "text/html": [
              "<pre style=\"white-space:pre;overflow-x:auto;line-height:normal;font-family:Menlo,'DejaVu Sans Mono',consolas,'Courier New',monospace\">\n",
              "</pre>\n"
            ]
          },
          "metadata": {}
        },
        {
          "output_type": "display_data",
          "data": {
            "text/plain": [
              "----------------------------------------------------------------------\n"
            ],
            "text/html": [
              "<pre style=\"white-space:pre;overflow-x:auto;line-height:normal;font-family:Menlo,'DejaVu Sans Mono',consolas,'Courier New',monospace\">----------------------------------------------------------------------\n",
              "</pre>\n"
            ]
          },
          "metadata": {}
        },
        {
          "output_type": "display_data",
          "data": {
            "text/plain": [
              "✅ Tests finished! Run \u001b[32m\"deepeval login\"\u001b[0m to view evaluation results on the web.\n"
            ],
            "text/html": [
              "<pre style=\"white-space:pre;overflow-x:auto;line-height:normal;font-family:Menlo,'DejaVu Sans Mono',consolas,'Courier New',monospace\">✅ Tests finished! Run <span style=\"color: #008000; text-decoration-color: #008000\">\"deepeval login\"</span> to view evaluation results on the web.\n",
              "</pre>\n"
            ]
          },
          "metadata": {}
        },
        {
          "output_type": "display_data",
          "data": {
            "text/plain": [],
            "text/html": [
              "<pre style=\"white-space:pre;overflow-x:auto;line-height:normal;font-family:Menlo,'DejaVu Sans Mono',consolas,'Courier New',monospace\"></pre>\n"
            ]
          },
          "metadata": {}
        },
        {
          "output_type": "display_data",
          "data": {
            "text/plain": [
              "\n"
            ],
            "text/html": [
              "<pre style=\"white-space:pre;overflow-x:auto;line-height:normal;font-family:Menlo,'DejaVu Sans Mono',consolas,'Courier New',monospace\">\n",
              "</pre>\n"
            ]
          },
          "metadata": {}
        },
        {
          "output_type": "execute_result",
          "data": {
            "text/plain": [
              "[TestResult(success=True, metrics=[<deepeval.metrics.summarization.SummarizationMetric object at 0x7c5bcd9e2500>], input='The efficacy of flunarizine compared with placebo for migraine prophylaxis in children with classic or common migraine was evaluated in 2 placebo-controlled studies in 118 subjects. Flunarizine 5 mg/day for 12 weeks resulted in statistically significant decreases in migraine attack frequency from baseline. Additionally, comparison of migraine frequency at the end of study showed statistically significantly fewer migraines with flunarizine versus placebo. Treatment with flunarizine also produced significant reductions from baseline in the duration of migraine attacks. The efficacy of flunarizine for migraine prophylaxis in children was compared with topiramate, propranolol, dihydroergotamine, amitriptyline, cyproheptadine, and    acetylsalicylic acid across 5 active-controlled studies in 278 subjects.The randomized, double-blind study by Lütschg and Vassella (1990) showed that 4-month treatment with flunarizine 5 to 10 mg/day or propranolol 30 to 120 mg/day produced similar reductions in the frequency of migraine attacks (76.4% flunarizine vs 73.3% propranolol) in children with simple or classic migraine. However, flunarizine had no effect on the duration or intensity of migraine attacks, whereas propranolol showed a decrease in migraine intensity. Similarly, the 4-month, open-label, active-controlled study by Hirfanoglu et al (1987) in children with migraine with or without aura showed a 71.5% reduction in migraine frequency with flunarizine 5 to 10 mg/day; corresponding reductions with amitriptyline 0.5 mg/kg/day, cyproheptadine 0.2 mg/kg/day, and propranolol 10 to 40 mg/day were 80.1%, 78.8%, and 68.2%, respectively. The 6-month non-randomized comparator study by Topcu et al (2014) reported significant decreases in PedMIDAS scores with flunarizine 5 to 10 mg/day, topiramate 1 to 2 mg/kg/day, and propranolol 20 to 40 mg/day, although reductions with topiramate and propranolol were significantly greater compared with flunarizine. Lastra Martinez et al (1990) found similar efficacy with flunarizine (10 mg/day) and dihydroergotamine (3 doses of 1.5 mg/day per week after Week 3) (79% and 87% subjects with improvement, respectively) in migraine frequency, intensity, and duration in children with classic or common migraine. In a prospective, double-blind study in children with classic or uncomplicated migraine, there were no significant differences between flunarizine 5 to 10 mg/day and acetylsalicylic acid 100 to 200 mg/day in reduction of migraine attack frequency or symptoms. An additional study compared the efficacy of flunarizine with flunarizine combined with behavioral therapy in 90 children with migraine.Flunarizine, at doses of 0.2 mg/kg/day up to 10 mg/day, administered for 3 months was found to be more effective when combined with behavioral therapy versus monotherapy, as shown by significantly lower PedMIDAS scores.Four non-controlled open-label studies in 263 subjects are supportive for the efficacy of flunarizine for prevention of migraine in children. An open-label study of flunarizine 10 mg/day administered for 8 weeks to 200 children and adolescents with migraine found a significant decrease in migraine attack frequency and severity. Boccia et al (2006) reported significantly decreased migraine frequency at 1 and 2 months after daily administration of flunarizine 5 mg in children with migraine. Similarly, Guidetti reported in children with common or classic migraine a significant decrease in migraine frequency after 1 month of treatment with flunarizine 5 mg/day, which was maintained after 6 months of treatment. Visudtibhan et al (2004) found that 66.7% of children administered flunarizine 5 to 10 mg/day had a decrease in migraine frequency. Overall, the reviewed efficacy data from studies of flunarizine in adults and children with migraine support the authorized indication of flunarizine in Vietnam for the maintenance treatment of migraine, when other treatments are ineffective or poorly tolerated. The reviewed studies provide evidence supporting the safety of flunarizine in children with migraine. Adverse events reported with flunarizine in 2 placebo-controlled studies with children included drowsiness, weight gain, GI complaints, and fatigue; there were no SAEs reported. Flunarizine had no effect on routine laboratory assessments, blood pressure, or electroencephalogram measurements. Adverse events with flunarizine across the 6 active\\x02controlled studies included drowsiness, paresthesia, increased appetite, weight gain, increased fatigue, shortness of breath, concentration disorders, and stomach pain. No SAEs or cases of EPS were observed. No AEs were reported with flunarizine in non-controlled open-label studies.', actual_output='The following 10 clinical studies evaluate the effectiveness of various treatments, including flunarizine, propranolol, and acetylsalicylic acid, in managing migraine conditions in children and adolescents. Boccia et al (2006) conducted a randomized, placebo-controlled, double-blind study. Chen et al (2014) carried out a randomized controlled study, while Hirfanoglu et al (2009) performed a controlled clinical trial. Lutschg et al (1990) executed a randomized double-blind study. Both Martinez et al (1990) and Pothmann et al (1987) undertook double-blind studies. Prospective studies were conducted by Min et al (2012), Topcu et al (2014), and Visudtibhan et al (2004). The type of study conducted by Guidetti et al (1987) was not specified. Boccia et al (2006) in their randomized, placebo-controlled, double-blind study found that Flunarizine significantly decreased the gastrointestinal symptoms with no relevant side-effects reported in a population of 50 children with migraines, although the age range was not specified. Chen et al (2014) in a randomized controlled study involving 90 pediatric patients with migraines aged between 8-14 years, found that a combination of behavioral therapy and pharmacological treatment had better efficacy, however, the efficacy and safety were not specified. In a controlled clinical trial, Hirfanoglu et al (2009) found that all four drugs decreased the frequency, duration, and severity of headaches in 77 children with migraines, aged 12.98 ± 3.11 years, but no drug was found to be superior in terms of reducing cytokine levels. Lutschg et al (1990) in a randomized double-blind study involving 33 children aged 3 to 15 years, found that both drugs reduced the number of migraine attacks, but temporary side effects occurred in some patients leading to the termination of treatment in two patients. In a double-blind study, Martinez et al (1990) and Pothmann et al (1987) found significant improvement in the frequency, intensity, and duration of crises in 80 children aged between 7 and 17 years, but side effects were reported in both groups, which were mild and temporary. In a prospective study, Min et al (2012), Topcu et al (2014), and Visudtibhan et al (2004) found that the frequency and degree of headaches were significantly decreased after therapy in 288 children and adolescents with migraines, aged between 6 and 17 years, and that Flunarizine for migraine prophylactic treatment is effective and safe, although some side effects such as dizziness, lack of attention, and palpitations were reported with topiramate treatment. Lastly, Guidetti et al (1987) in a study with unspecified design involving 13 children (4 girls and 9 boys) between the ages of 10 and 13 years with severe migraines, found a significant decrease in attack frequency and that Flunarizine has no serious side effects and is trouble-free for courses of 2 months. All studies concluded that flunarizine is effective in reducing the frequency and severity of migraines in children. It was also found to be safe with minimal side effects, most commonly increased fatigue. Some studies found flunarizine to be more effective when combined with other treatments, such as behavioral therapy or other prophylactic drugs. However, one study found that flunarizine was less effective than topiramate and propranolol in reducing the PedMIDAS scores, a measure of migraine severity. Another study found that flunarizine was less effective in children with vegetative lability. Despite these differences, the overall consensus is that flunarizine is a beneficial treatment for pediatric migraines.', expected_output=None, context=None, retrieval_context=None)]"
            ]
          },
          "metadata": {},
          "execution_count": 5
        }
      ]
    },
    {
      "cell_type": "markdown",
      "source": [
        "### *1.1.3. Incorrect Values*"
      ],
      "metadata": {
        "id": "A2zFrlbDtxSC"
      }
    },
    {
      "cell_type": "code",
      "source": [
        "from deepeval import evaluate\n",
        "from deepeval.metrics import SummarizationMetric\n",
        "from deepeval.test_case import LLMTestCase\n",
        "\n",
        "# For AzureChatOepnAI\n",
        "from langchain_openai import AzureChatOpenAI\n",
        "\n",
        "custom_azure_openai_model = AzureChatOpenAI(\n",
        "    openai_api_version='2023-03-15-preview',\n",
        "    azure_deployment='gpt4-test',\n",
        "    azure_endpoint='https://pharma-ml-gpt4.openai.azure.com/',\n",
        "    openai_api_key='105a50f735f64837afc9259228b5a913',\n",
        ")\n",
        "\n",
        "# answer_relevancy_metric = AnswerRelevancyMetric(model=custom_azure_openai_model)\n",
        "\n",
        "test_case = LLMTestCase(input=artc_in, actual_output=artact_out)\n",
        "\n",
        "metric = SummarizationMetric(\n",
        "    threshold=0.5,\n",
        "    model=custom_azure_openai_model,\n",
        "    # model=\"gpt-4\",\n",
        "    assessment_questions=[\n",
        "        \"Is the inclusion score based on a percentage of 'yes' answers?\",\n",
        "        \"Does the score ensure the summary's accuracy with the source?\",\n",
        "        \"Does a higher score mean a more comprehensive summary?\",\n",
        "        \"Is the actual_output contains some missing values?\"\n",
        "    ]\n",
        ")\n",
        "\n",
        "metric.measure(test_case)\n",
        "print(f\"metric.measure(test_case): {metric.measure(test_case)}\")\n",
        "print(f\"metric.score: {metric.score}\")\n",
        "\n",
        "# or evaluate test cases in bulk\n",
        "eval = evaluate([test_case], [metric])\n",
        "print(f\"eval: {eval}\") # runing it take -->> 1m 4S"
      ],
      "metadata": {
        "colab": {
          "base_uri": "https://localhost:8080/",
          "height": 1000,
          "referenced_widgets": [
            "38517a990df14ef49813b3629dad0708",
            "7b0ad1649d934455aa06fa01a1ee15ab",
            "07d339a84b764d0dbba4d19521d6eef9",
            "b931d9a6e880499f97ac4f7df82f469c",
            "3df7ebcb861e42d79ffd392c725d258a",
            "1ad2d6022d484b3f92db2c6914a129db",
            "abc6cd415e4f4b34abad5d58935b9592",
            "ff4f73e86b9941bdb221a45116ee05ce"
          ]
        },
        "outputId": "265ba063-40ae-4619-da1d-85f575fab072",
        "id": "KIr5M7pjtxSC"
      },
      "execution_count": 18,
      "outputs": [
        {
          "output_type": "display_data",
          "data": {
            "text/plain": [
              "Output()"
            ],
            "application/vnd.jupyter.widget-view+json": {
              "version_major": 2,
              "version_minor": 0,
              "model_id": "38517a990df14ef49813b3629dad0708"
            }
          },
          "metadata": {}
        },
        {
          "output_type": "display_data",
          "data": {
            "text/plain": [],
            "text/html": [
              "<pre style=\"white-space:pre;overflow-x:auto;line-height:normal;font-family:Menlo,'DejaVu Sans Mono',consolas,'Courier New',monospace\"></pre>\n"
            ]
          },
          "metadata": {}
        },
        {
          "output_type": "display_data",
          "data": {
            "text/plain": [
              "\n"
            ],
            "text/html": [
              "<pre style=\"white-space:pre;overflow-x:auto;line-height:normal;font-family:Menlo,'DejaVu Sans Mono',consolas,'Courier New',monospace\">\n",
              "</pre>\n"
            ]
          },
          "metadata": {}
        },
        {
          "output_type": "display_data",
          "data": {
            "text/plain": [
              "Output()"
            ],
            "application/vnd.jupyter.widget-view+json": {
              "version_major": 2,
              "version_minor": 0,
              "model_id": "07d339a84b764d0dbba4d19521d6eef9"
            }
          },
          "metadata": {}
        },
        {
          "output_type": "display_data",
          "data": {
            "text/plain": [],
            "text/html": [
              "<pre style=\"white-space:pre;overflow-x:auto;line-height:normal;font-family:Menlo,'DejaVu Sans Mono',consolas,'Courier New',monospace\"></pre>\n"
            ]
          },
          "metadata": {}
        },
        {
          "output_type": "display_data",
          "data": {
            "text/plain": [
              "\n"
            ],
            "text/html": [
              "<pre style=\"white-space:pre;overflow-x:auto;line-height:normal;font-family:Menlo,'DejaVu Sans Mono',consolas,'Courier New',monospace\">\n",
              "</pre>\n"
            ]
          },
          "metadata": {}
        },
        {
          "output_type": "display_data",
          "data": {
            "text/plain": [
              "Output()"
            ],
            "application/vnd.jupyter.widget-view+json": {
              "version_major": 2,
              "version_minor": 0,
              "model_id": "3df7ebcb861e42d79ffd392c725d258a"
            }
          },
          "metadata": {}
        },
        {
          "output_type": "display_data",
          "data": {
            "text/plain": [
              "Output()"
            ],
            "application/vnd.jupyter.widget-view+json": {
              "version_major": 2,
              "version_minor": 0,
              "model_id": "abc6cd415e4f4b34abad5d58935b9592"
            }
          },
          "metadata": {}
        },
        {
          "output_type": "stream",
          "name": "stdout",
          "text": [
            "metric.measure(test_case): 0.6000000000000001\n",
            "metric.score: 0.6000000000000001\n"
          ]
        },
        {
          "output_type": "display_data",
          "data": {
            "text/plain": [],
            "text/html": [
              "<pre style=\"white-space:pre;overflow-x:auto;line-height:normal;font-family:Menlo,'DejaVu Sans Mono',consolas,'Courier New',monospace\"></pre>\n"
            ]
          },
          "metadata": {}
        },
        {
          "output_type": "display_data",
          "data": {
            "text/plain": [
              "\n"
            ],
            "text/html": [
              "<pre style=\"white-space:pre;overflow-x:auto;line-height:normal;font-family:Menlo,'DejaVu Sans Mono',consolas,'Courier New',monospace\">\n",
              "</pre>\n"
            ]
          },
          "metadata": {}
        },
        {
          "output_type": "display_data",
          "data": {
            "text/plain": [
              "\n"
            ],
            "text/html": [
              "<pre style=\"white-space:pre;overflow-x:auto;line-height:normal;font-family:Menlo,'DejaVu Sans Mono',consolas,'Courier New',monospace\">\n",
              "</pre>\n"
            ]
          },
          "metadata": {}
        },
        {
          "output_type": "display_data",
          "data": {
            "text/plain": [
              "======================================================================\n"
            ],
            "text/html": [
              "<pre style=\"white-space:pre;overflow-x:auto;line-height:normal;font-family:Menlo,'DejaVu Sans Mono',consolas,'Courier New',monospace\">======================================================================\n",
              "</pre>\n"
            ]
          },
          "metadata": {}
        },
        {
          "output_type": "display_data",
          "data": {
            "text/plain": [
              "\n"
            ],
            "text/html": [
              "<pre style=\"white-space:pre;overflow-x:auto;line-height:normal;font-family:Menlo,'DejaVu Sans Mono',consolas,'Courier New',monospace\">\n",
              "</pre>\n"
            ]
          },
          "metadata": {}
        },
        {
          "output_type": "display_data",
          "data": {
            "text/plain": [
              "Metrics Summary\n"
            ],
            "text/html": [
              "<pre style=\"white-space:pre;overflow-x:auto;line-height:normal;font-family:Menlo,'DejaVu Sans Mono',consolas,'Courier New',monospace\">Metrics Summary\n",
              "</pre>\n"
            ]
          },
          "metadata": {}
        },
        {
          "output_type": "display_data",
          "data": {
            "text/plain": [
              "\n"
            ],
            "text/html": [
              "<pre style=\"white-space:pre;overflow-x:auto;line-height:normal;font-family:Menlo,'DejaVu Sans Mono',consolas,'Courier New',monospace\">\n",
              "</pre>\n"
            ]
          },
          "metadata": {}
        },
        {
          "output_type": "display_data",
          "data": {
            "text/plain": [
              "  - ✅ Summarization (score: 0.6000000000000001, threshold: 0.5, evaluation model: azure-openai-chat, reason: None)\n"
            ],
            "text/html": [
              "<pre style=\"white-space:pre;overflow-x:auto;line-height:normal;font-family:Menlo,'DejaVu Sans Mono',consolas,'Courier New',monospace\">  - ✅ Summarization (score: 0.6000000000000001, threshold: 0.5, evaluation model: azure-openai-chat, reason: None)\n",
              "</pre>\n"
            ]
          },
          "metadata": {}
        },
        {
          "output_type": "display_data",
          "data": {
            "text/plain": [
              "      - Alignment (score: 0.6000000000000001)\n"
            ],
            "text/html": [
              "<pre style=\"white-space:pre;overflow-x:auto;line-height:normal;font-family:Menlo,'DejaVu Sans Mono',consolas,'Courier New',monospace\">      - Alignment (score: 0.6000000000000001)\n",
              "</pre>\n"
            ]
          },
          "metadata": {}
        },
        {
          "output_type": "display_data",
          "data": {
            "text/plain": [
              "      - Inclusion (score: 1.0)\n"
            ],
            "text/html": [
              "<pre style=\"white-space:pre;overflow-x:auto;line-height:normal;font-family:Menlo,'DejaVu Sans Mono',consolas,'Courier New',monospace\">      - Inclusion (score: 1.0)\n",
              "</pre>\n"
            ]
          },
          "metadata": {}
        },
        {
          "output_type": "display_data",
          "data": {
            "text/plain": [
              "\n"
            ],
            "text/html": [
              "<pre style=\"white-space:pre;overflow-x:auto;line-height:normal;font-family:Menlo,'DejaVu Sans Mono',consolas,'Courier New',monospace\">\n",
              "</pre>\n"
            ]
          },
          "metadata": {}
        },
        {
          "output_type": "display_data",
          "data": {
            "text/plain": [
              "For test case:\n"
            ],
            "text/html": [
              "<pre style=\"white-space:pre;overflow-x:auto;line-height:normal;font-family:Menlo,'DejaVu Sans Mono',consolas,'Courier New',monospace\">For test case:\n",
              "</pre>\n"
            ]
          },
          "metadata": {}
        },
        {
          "output_type": "display_data",
          "data": {
            "text/plain": [
              "\n"
            ],
            "text/html": [
              "<pre style=\"white-space:pre;overflow-x:auto;line-height:normal;font-family:Menlo,'DejaVu Sans Mono',consolas,'Courier New',monospace\">\n",
              "</pre>\n"
            ]
          },
          "metadata": {}
        },
        {
          "output_type": "display_data",
          "data": {
            "text/plain": [
              "  - input: The efficacy of flunarizine compared with placebo for migraine prophylaxis in children with classic or \n",
              "common migraine was evaluated in 2 placebo-controlled studies in 118 subjects. Flunarizine 5 mg/day for 12 weeks \n",
              "resulted in statistically significant decreases in migraine attack frequency from baseline. Additionally, \n",
              "comparison of migraine frequency at the end of study showed statistically significantly fewer migraines with \n",
              "flunarizine versus placebo. Treatment with flunarizine also produced significant reductions from baseline in the \n",
              "duration of migraine attacks. The efficacy of flunarizine for migraine prophylaxis in children was compared with \n",
              "topiramate, propranolol, dihydroergotamine, amitriptyline, cyproheptadine, and    acetylsalicylic acid across 5 \n",
              "active-controlled studies in 278 subjects.The randomized, double-blind study by Lütschg and Vassella (1990) showed \n",
              "that 4-month treatment with flunarizine 5 to 10 mg/day or propranolol 30 to 120 mg/day produced similar reductions \n",
              "in the frequency of migraine attacks (76.4% flunarizine vs 73.3% propranolol) in children with simple or classic \n",
              "migraine. However, flunarizine had no effect on the duration or intensity of migraine attacks, whereas propranolol \n",
              "showed a decrease in migraine intensity. Similarly, the 4-month, open-label, active-controlled study by Hirfanoglu \n",
              "et al (1987) in children with migraine with or without aura showed a 71.5% reduction in migraine frequency with \n",
              "flunarizine 5 to 10 mg/day; corresponding reductions with amitriptyline 0.5 mg/kg/day, cyproheptadine 0.2 \n",
              "mg/kg/day, and propranolol 10 to 40 mg/day were 80.1%, 78.8%, and 68.2%, respectively. The 6-month non-randomized \n",
              "comparator study by Topcu et al (2014) reported significant decreases in PedMIDAS scores with flunarizine 5 to 10 \n",
              "mg/day, topiramate 1 to 2 mg/kg/day, and propranolol 20 to 40 mg/day, although reductions with topiramate and \n",
              "propranolol were significantly greater compared with flunarizine. Lastra Martinez et al (1990) found similar \n",
              "efficacy with flunarizine (10 mg/day) and dihydroergotamine (3 doses of 1.5 mg/day per week after Week 3) (79% and \n",
              "87% subjects with improvement, respectively) in migraine frequency, intensity, and duration in children with \n",
              "classic or common migraine. In a prospective, double-blind study in children with classic or uncomplicated \n",
              "migraine, there were no significant differences between flunarizine 5 to 10 mg/day and acetylsalicylic acid 100 to \n",
              "200 mg/day in reduction of migraine attack frequency or symptoms. An additional study compared the efficacy of \n",
              "flunarizine with flunarizine combined with behavioral therapy in 90 children with migraine.Flunarizine, at doses of\n",
              "0.2 mg/kg/day up to 10 mg/day, administered for 3 months was found to be more effective when combined with \n",
              "behavioral therapy versus monotherapy, as shown by significantly lower PedMIDAS scores.Four non-controlled \n",
              "open-label studies in 263 subjects are supportive for the efficacy of flunarizine for prevention of migraine in \n",
              "children. An open-label study of flunarizine 10 mg/day administered for 8 weeks to 200 children and adolescents \n",
              "with migraine found a significant decrease in migraine attack frequency and severity. Boccia et al (2006) reported \n",
              "significantly decreased migraine frequency at 1 and 2 months after daily administration of flunarizine 5 mg in \n",
              "children with migraine. Similarly, Guidetti reported in children with common or classic migraine a significant \n",
              "decrease in migraine frequency after 1 month of treatment with flunarizine 5 mg/day, which was maintained after 6 \n",
              "months of treatment. Visudtibhan et al (2004) found that 66.7% of children administered flunarizine 5 to 10 mg/day \n",
              "had a decrease in migraine frequency. Overall, the reviewed efficacy data from studies of flunarizine in adults and\n",
              "children with migraine support the authorized indication of flunarizine in Vietnam for the maintenance treatment of\n",
              "migraine, when other treatments are ineffective or poorly tolerated. The reviewed studies provide evidence \n",
              "supporting the safety of flunarizine in children with migraine. Adverse events reported with flunarizine in 2 \n",
              "placebo-controlled studies with children included drowsiness, weight gain, GI complaints, and fatigue; there were \n",
              "no SAEs reported. Flunarizine had no effect on routine laboratory assessments, blood pressure, or \n",
              "electroencephalogram measurements. Adverse events with flunarizine across the 6 active\u0002controlled studies included \n",
              "drowsiness, paresthesia, increased appetite, weight gain, increased fatigue, shortness of breath, concentration \n",
              "disorders, and stomach pain. No SAEs or cases of EPS were observed. No AEs were reported with flunarizine in \n",
              "non-controlled open-label studies.\n"
            ],
            "text/html": [
              "<pre style=\"white-space:pre;overflow-x:auto;line-height:normal;font-family:Menlo,'DejaVu Sans Mono',consolas,'Courier New',monospace\">  - input: The efficacy of flunarizine compared with placebo for migraine prophylaxis in children with classic or \n",
              "common migraine was evaluated in 2 placebo-controlled studies in 118 subjects. Flunarizine 5 mg/day for 12 weeks \n",
              "resulted in statistically significant decreases in migraine attack frequency from baseline. Additionally, \n",
              "comparison of migraine frequency at the end of study showed statistically significantly fewer migraines with \n",
              "flunarizine versus placebo. Treatment with flunarizine also produced significant reductions from baseline in the \n",
              "duration of migraine attacks. The efficacy of flunarizine for migraine prophylaxis in children was compared with \n",
              "topiramate, propranolol, dihydroergotamine, amitriptyline, cyproheptadine, and    acetylsalicylic acid across 5 \n",
              "active-controlled studies in 278 subjects.The randomized, double-blind study by Lütschg and Vassella (1990) showed \n",
              "that 4-month treatment with flunarizine 5 to 10 mg/day or propranolol 30 to 120 mg/day produced similar reductions \n",
              "in the frequency of migraine attacks (76.4% flunarizine vs 73.3% propranolol) in children with simple or classic \n",
              "migraine. However, flunarizine had no effect on the duration or intensity of migraine attacks, whereas propranolol \n",
              "showed a decrease in migraine intensity. Similarly, the 4-month, open-label, active-controlled study by Hirfanoglu \n",
              "et al (1987) in children with migraine with or without aura showed a 71.5% reduction in migraine frequency with \n",
              "flunarizine 5 to 10 mg/day; corresponding reductions with amitriptyline 0.5 mg/kg/day, cyproheptadine 0.2 \n",
              "mg/kg/day, and propranolol 10 to 40 mg/day were 80.1%, 78.8%, and 68.2%, respectively. The 6-month non-randomized \n",
              "comparator study by Topcu et al (2014) reported significant decreases in PedMIDAS scores with flunarizine 5 to 10 \n",
              "mg/day, topiramate 1 to 2 mg/kg/day, and propranolol 20 to 40 mg/day, although reductions with topiramate and \n",
              "propranolol were significantly greater compared with flunarizine. Lastra Martinez et al (1990) found similar \n",
              "efficacy with flunarizine (10 mg/day) and dihydroergotamine (3 doses of 1.5 mg/day per week after Week 3) (79% and \n",
              "87% subjects with improvement, respectively) in migraine frequency, intensity, and duration in children with \n",
              "classic or common migraine. In a prospective, double-blind study in children with classic or uncomplicated \n",
              "migraine, there were no significant differences between flunarizine 5 to 10 mg/day and acetylsalicylic acid 100 to \n",
              "200 mg/day in reduction of migraine attack frequency or symptoms. An additional study compared the efficacy of \n",
              "flunarizine with flunarizine combined with behavioral therapy in 90 children with migraine.Flunarizine, at doses of\n",
              "0.2 mg/kg/day up to 10 mg/day, administered for 3 months was found to be more effective when combined with \n",
              "behavioral therapy versus monotherapy, as shown by significantly lower PedMIDAS scores.Four non-controlled \n",
              "open-label studies in 263 subjects are supportive for the efficacy of flunarizine for prevention of migraine in \n",
              "children. An open-label study of flunarizine 10 mg/day administered for 8 weeks to 200 children and adolescents \n",
              "with migraine found a significant decrease in migraine attack frequency and severity. Boccia et al (2006) reported \n",
              "significantly decreased migraine frequency at 1 and 2 months after daily administration of flunarizine 5 mg in \n",
              "children with migraine. Similarly, Guidetti reported in children with common or classic migraine a significant \n",
              "decrease in migraine frequency after 1 month of treatment with flunarizine 5 mg/day, which was maintained after 6 \n",
              "months of treatment. Visudtibhan et al (2004) found that 66.7% of children administered flunarizine 5 to 10 mg/day \n",
              "had a decrease in migraine frequency. Overall, the reviewed efficacy data from studies of flunarizine in adults and\n",
              "children with migraine support the authorized indication of flunarizine in Vietnam for the maintenance treatment of\n",
              "migraine, when other treatments are ineffective or poorly tolerated. The reviewed studies provide evidence \n",
              "supporting the safety of flunarizine in children with migraine. Adverse events reported with flunarizine in 2 \n",
              "placebo-controlled studies with children included drowsiness, weight gain, GI complaints, and fatigue; there were \n",
              "no SAEs reported. Flunarizine had no effect on routine laboratory assessments, blood pressure, or \n",
              "electroencephalogram measurements. Adverse events with flunarizine across the 6 active\u0002controlled studies included \n",
              "drowsiness, paresthesia, increased appetite, weight gain, increased fatigue, shortness of breath, concentration \n",
              "disorders, and stomach pain. No SAEs or cases of EPS were observed. No AEs were reported with flunarizine in \n",
              "non-controlled open-label studies.\n",
              "</pre>\n"
            ]
          },
          "metadata": {}
        },
        {
          "output_type": "display_data",
          "data": {
            "text/plain": [
              "  - actual output: The following 10 clinical studies evaluate the effectiveness of various treatments, including \n",
              "flunarizine, propranolol, and acetylsalicylic acid, in managing migraine conditions in children and adolescents. \n",
              "Boccia et al (2006) conducted a randomized, placebo-controlled, double-blind study. Chen et al (2014) carried out a\n",
              "randomized controlled study, while Hirfanoglu et al (2009) performed a controlled clinical trial. Lutschg et al \n",
              "(1990) executed a randomized double-blind study. Both Martinez et al (1990) and Pothmann et al (1987) undertook \n",
              "double-blind studies. Prospective studies were conducted by Min et al (2012), Topcu et al (2014), and Visudtibhan \n",
              "et al (2004). The type of study conducted by Guidetti et al (1987) was not specified. Boccia et al (2006) in their \n",
              "randomized, placebo-controlled, double-blind study found that Flunarizine significantly decreased the \n",
              "gastrointestinal symptoms with no relevant side-effects reported in a population of 50 children with migraines, \n",
              "although the age range was not specified. Chen et al (2014) in a randomized controlled study involving 90 pediatric\n",
              "patients with migraines aged between 8-14 years, found that a combination of behavioral therapy and pharmacological\n",
              "treatment had better efficacy, however, the efficacy and safety were not specified. In a controlled clinical trial,\n",
              "Hirfanoglu et al (2009) found that all four drugs decreased the frequency, duration, and severity of headaches in \n",
              "77 children with migraines, aged 12.98 ± 3.11 years, but no drug was found to be superior in terms of reducing \n",
              "cytokine levels. Lutschg et al (1990) in a randomized double-blind study involving 33 children aged 3 to 15 years, \n",
              "found that both drugs reduced the number of migraine attacks, but temporary side effects occurred in some patients \n",
              "leading to the termination of treatment in two patients. In a double-blind study, Martinez et al (1990) and \n",
              "Pothmann et al (1987) found significant improvement in the frequency, intensity, and duration of crises in 80 \n",
              "children aged between 7 and 17 years, but side effects were reported in both groups, which were mild and temporary.\n",
              "In a prospective study, Min et al (2012), Topcu et al (2014), and Visudtibhan et al (2004) found that the frequency\n",
              "and degree of headaches were significantly decreased after therapy in 288 children and adolescents with migraines, \n",
              "aged between 6 and 17 years, and that Flunarizine for migraine prophylactic treatment is effective and safe, \n",
              "although some side effects such as dizziness, lack of attention, and palpitations were reported with topiramate \n",
              "treatment. Lastly, Guidetti et al (1987) in a study with unspecified design involving 13 children (4 girls and 9 \n",
              "boys) between the ages of 10 and 13 years with severe migraines, found a significant decrease in attack frequency \n",
              "and that Flunarizine has no serious side effects and is trouble-free for courses of 2 months. All studies concluded\n",
              "that flunarizine is effective in reducing the frequency and severity of migraines in children. It was also found to\n",
              "be safe with minimal side effects, most commonly increased fatigue. Some studies found flunarizine to be more \n",
              "effective when combined with other treatments, such as behavioral therapy or other prophylactic drugs. However, one\n",
              "study found that flunarizine was less effective than topiramate and propranolol in reducing the PedMIDAS scores, a \n",
              "measure of migraine severity. Another study found that flunarizine was less effective in children with vegetative \n",
              "lability. Despite these differences, the overall consensus is that flunarizine is a beneficial treatment for \n",
              "pediatric migraines.\n"
            ],
            "text/html": [
              "<pre style=\"white-space:pre;overflow-x:auto;line-height:normal;font-family:Menlo,'DejaVu Sans Mono',consolas,'Courier New',monospace\">  - actual output: The following 10 clinical studies evaluate the effectiveness of various treatments, including \n",
              "flunarizine, propranolol, and acetylsalicylic acid, in managing migraine conditions in children and adolescents. \n",
              "Boccia et al (2006) conducted a randomized, placebo-controlled, double-blind study. Chen et al (2014) carried out a\n",
              "randomized controlled study, while Hirfanoglu et al (2009) performed a controlled clinical trial. Lutschg et al \n",
              "(1990) executed a randomized double-blind study. Both Martinez et al (1990) and Pothmann et al (1987) undertook \n",
              "double-blind studies. Prospective studies were conducted by Min et al (2012), Topcu et al (2014), and Visudtibhan \n",
              "et al (2004). The type of study conducted by Guidetti et al (1987) was not specified. Boccia et al (2006) in their \n",
              "randomized, placebo-controlled, double-blind study found that Flunarizine significantly decreased the \n",
              "gastrointestinal symptoms with no relevant side-effects reported in a population of 50 children with migraines, \n",
              "although the age range was not specified. Chen et al (2014) in a randomized controlled study involving 90 pediatric\n",
              "patients with migraines aged between 8-14 years, found that a combination of behavioral therapy and pharmacological\n",
              "treatment had better efficacy, however, the efficacy and safety were not specified. In a controlled clinical trial,\n",
              "Hirfanoglu et al (2009) found that all four drugs decreased the frequency, duration, and severity of headaches in \n",
              "77 children with migraines, aged 12.98 ± 3.11 years, but no drug was found to be superior in terms of reducing \n",
              "cytokine levels. Lutschg et al (1990) in a randomized double-blind study involving 33 children aged 3 to 15 years, \n",
              "found that both drugs reduced the number of migraine attacks, but temporary side effects occurred in some patients \n",
              "leading to the termination of treatment in two patients. In a double-blind study, Martinez et al (1990) and \n",
              "Pothmann et al (1987) found significant improvement in the frequency, intensity, and duration of crises in 80 \n",
              "children aged between 7 and 17 years, but side effects were reported in both groups, which were mild and temporary.\n",
              "In a prospective study, Min et al (2012), Topcu et al (2014), and Visudtibhan et al (2004) found that the frequency\n",
              "and degree of headaches were significantly decreased after therapy in 288 children and adolescents with migraines, \n",
              "aged between 6 and 17 years, and that Flunarizine for migraine prophylactic treatment is effective and safe, \n",
              "although some side effects such as dizziness, lack of attention, and palpitations were reported with topiramate \n",
              "treatment. Lastly, Guidetti et al (1987) in a study with unspecified design involving 13 children (4 girls and 9 \n",
              "boys) between the ages of 10 and 13 years with severe migraines, found a significant decrease in attack frequency \n",
              "and that Flunarizine has no serious side effects and is trouble-free for courses of 2 months. All studies concluded\n",
              "that flunarizine is effective in reducing the frequency and severity of migraines in children. It was also found to\n",
              "be safe with minimal side effects, most commonly increased fatigue. Some studies found flunarizine to be more \n",
              "effective when combined with other treatments, such as behavioral therapy or other prophylactic drugs. However, one\n",
              "study found that flunarizine was less effective than topiramate and propranolol in reducing the PedMIDAS scores, a \n",
              "measure of migraine severity. Another study found that flunarizine was less effective in children with vegetative \n",
              "lability. Despite these differences, the overall consensus is that flunarizine is a beneficial treatment for \n",
              "pediatric migraines.\n",
              "</pre>\n"
            ]
          },
          "metadata": {}
        },
        {
          "output_type": "display_data",
          "data": {
            "text/plain": [
              "  - expected output: None\n"
            ],
            "text/html": [
              "<pre style=\"white-space:pre;overflow-x:auto;line-height:normal;font-family:Menlo,'DejaVu Sans Mono',consolas,'Courier New',monospace\">  - expected output: None\n",
              "</pre>\n"
            ]
          },
          "metadata": {}
        },
        {
          "output_type": "display_data",
          "data": {
            "text/plain": [
              "  - context: None\n"
            ],
            "text/html": [
              "<pre style=\"white-space:pre;overflow-x:auto;line-height:normal;font-family:Menlo,'DejaVu Sans Mono',consolas,'Courier New',monospace\">  - context: None\n",
              "</pre>\n"
            ]
          },
          "metadata": {}
        },
        {
          "output_type": "display_data",
          "data": {
            "text/plain": [
              "  - retrieval context: None\n"
            ],
            "text/html": [
              "<pre style=\"white-space:pre;overflow-x:auto;line-height:normal;font-family:Menlo,'DejaVu Sans Mono',consolas,'Courier New',monospace\">  - retrieval context: None\n",
              "</pre>\n"
            ]
          },
          "metadata": {}
        },
        {
          "output_type": "display_data",
          "data": {
            "text/plain": [
              "\n"
            ],
            "text/html": [
              "<pre style=\"white-space:pre;overflow-x:auto;line-height:normal;font-family:Menlo,'DejaVu Sans Mono',consolas,'Courier New',monospace\">\n",
              "</pre>\n"
            ]
          },
          "metadata": {}
        },
        {
          "output_type": "display_data",
          "data": {
            "text/plain": [
              "----------------------------------------------------------------------\n"
            ],
            "text/html": [
              "<pre style=\"white-space:pre;overflow-x:auto;line-height:normal;font-family:Menlo,'DejaVu Sans Mono',consolas,'Courier New',monospace\">----------------------------------------------------------------------\n",
              "</pre>\n"
            ]
          },
          "metadata": {}
        },
        {
          "output_type": "display_data",
          "data": {
            "text/plain": [
              "✅ Tests finished! Run \u001b[32m\"deepeval login\"\u001b[0m to view evaluation results on the web.\n"
            ],
            "text/html": [
              "<pre style=\"white-space:pre;overflow-x:auto;line-height:normal;font-family:Menlo,'DejaVu Sans Mono',consolas,'Courier New',monospace\">✅ Tests finished! Run <span style=\"color: #008000; text-decoration-color: #008000\">\"deepeval login\"</span> to view evaluation results on the web.\n",
              "</pre>\n"
            ]
          },
          "metadata": {}
        },
        {
          "output_type": "display_data",
          "data": {
            "text/plain": [],
            "text/html": [
              "<pre style=\"white-space:pre;overflow-x:auto;line-height:normal;font-family:Menlo,'DejaVu Sans Mono',consolas,'Courier New',monospace\"></pre>\n"
            ]
          },
          "metadata": {}
        },
        {
          "output_type": "display_data",
          "data": {
            "text/plain": [
              "\n"
            ],
            "text/html": [
              "<pre style=\"white-space:pre;overflow-x:auto;line-height:normal;font-family:Menlo,'DejaVu Sans Mono',consolas,'Courier New',monospace\">\n",
              "</pre>\n"
            ]
          },
          "metadata": {}
        },
        {
          "output_type": "stream",
          "name": "stdout",
          "text": [
            "eval: [TestResult(success=True, metrics=[<deepeval.metrics.summarization.SummarizationMetric object at 0x7c5bb9a05c90>], input='The efficacy of flunarizine compared with placebo for migraine prophylaxis in children with classic or common migraine was evaluated in 2 placebo-controlled studies in 118 subjects. Flunarizine 5 mg/day for 12 weeks resulted in statistically significant decreases in migraine attack frequency from baseline. Additionally, comparison of migraine frequency at the end of study showed statistically significantly fewer migraines with flunarizine versus placebo. Treatment with flunarizine also produced significant reductions from baseline in the duration of migraine attacks. The efficacy of flunarizine for migraine prophylaxis in children was compared with topiramate, propranolol, dihydroergotamine, amitriptyline, cyproheptadine, and    acetylsalicylic acid across 5 active-controlled studies in 278 subjects.The randomized, double-blind study by Lütschg and Vassella (1990) showed that 4-month treatment with flunarizine 5 to 10 mg/day or propranolol 30 to 120 mg/day produced similar reductions in the frequency of migraine attacks (76.4% flunarizine vs 73.3% propranolol) in children with simple or classic migraine. However, flunarizine had no effect on the duration or intensity of migraine attacks, whereas propranolol showed a decrease in migraine intensity. Similarly, the 4-month, open-label, active-controlled study by Hirfanoglu et al (1987) in children with migraine with or without aura showed a 71.5% reduction in migraine frequency with flunarizine 5 to 10 mg/day; corresponding reductions with amitriptyline 0.5 mg/kg/day, cyproheptadine 0.2 mg/kg/day, and propranolol 10 to 40 mg/day were 80.1%, 78.8%, and 68.2%, respectively. The 6-month non-randomized comparator study by Topcu et al (2014) reported significant decreases in PedMIDAS scores with flunarizine 5 to 10 mg/day, topiramate 1 to 2 mg/kg/day, and propranolol 20 to 40 mg/day, although reductions with topiramate and propranolol were significantly greater compared with flunarizine. Lastra Martinez et al (1990) found similar efficacy with flunarizine (10 mg/day) and dihydroergotamine (3 doses of 1.5 mg/day per week after Week 3) (79% and 87% subjects with improvement, respectively) in migraine frequency, intensity, and duration in children with classic or common migraine. In a prospective, double-blind study in children with classic or uncomplicated migraine, there were no significant differences between flunarizine 5 to 10 mg/day and acetylsalicylic acid 100 to 200 mg/day in reduction of migraine attack frequency or symptoms. An additional study compared the efficacy of flunarizine with flunarizine combined with behavioral therapy in 90 children with migraine.Flunarizine, at doses of 0.2 mg/kg/day up to 10 mg/day, administered for 3 months was found to be more effective when combined with behavioral therapy versus monotherapy, as shown by significantly lower PedMIDAS scores.Four non-controlled open-label studies in 263 subjects are supportive for the efficacy of flunarizine for prevention of migraine in children. An open-label study of flunarizine 10 mg/day administered for 8 weeks to 200 children and adolescents with migraine found a significant decrease in migraine attack frequency and severity. Boccia et al (2006) reported significantly decreased migraine frequency at 1 and 2 months after daily administration of flunarizine 5 mg in children with migraine. Similarly, Guidetti reported in children with common or classic migraine a significant decrease in migraine frequency after 1 month of treatment with flunarizine 5 mg/day, which was maintained after 6 months of treatment. Visudtibhan et al (2004) found that 66.7% of children administered flunarizine 5 to 10 mg/day had a decrease in migraine frequency. Overall, the reviewed efficacy data from studies of flunarizine in adults and children with migraine support the authorized indication of flunarizine in Vietnam for the maintenance treatment of migraine, when other treatments are ineffective or poorly tolerated. The reviewed studies provide evidence supporting the safety of flunarizine in children with migraine. Adverse events reported with flunarizine in 2 placebo-controlled studies with children included drowsiness, weight gain, GI complaints, and fatigue; there were no SAEs reported. Flunarizine had no effect on routine laboratory assessments, blood pressure, or electroencephalogram measurements. Adverse events with flunarizine across the 6 active\\x02controlled studies included drowsiness, paresthesia, increased appetite, weight gain, increased fatigue, shortness of breath, concentration disorders, and stomach pain. No SAEs or cases of EPS were observed. No AEs were reported with flunarizine in non-controlled open-label studies.', actual_output='The following 10 clinical studies evaluate the effectiveness of various treatments, including flunarizine, propranolol, and acetylsalicylic acid, in managing migraine conditions in children and adolescents. Boccia et al (2006) conducted a randomized, placebo-controlled, double-blind study. Chen et al (2014) carried out a randomized controlled study, while Hirfanoglu et al (2009) performed a controlled clinical trial. Lutschg et al (1990) executed a randomized double-blind study. Both Martinez et al (1990) and Pothmann et al (1987) undertook double-blind studies. Prospective studies were conducted by Min et al (2012), Topcu et al (2014), and Visudtibhan et al (2004). The type of study conducted by Guidetti et al (1987) was not specified. Boccia et al (2006) in their randomized, placebo-controlled, double-blind study found that Flunarizine significantly decreased the gastrointestinal symptoms with no relevant side-effects reported in a population of 50 children with migraines, although the age range was not specified. Chen et al (2014) in a randomized controlled study involving 90 pediatric patients with migraines aged between 8-14 years, found that a combination of behavioral therapy and pharmacological treatment had better efficacy, however, the efficacy and safety were not specified. In a controlled clinical trial, Hirfanoglu et al (2009) found that all four drugs decreased the frequency, duration, and severity of headaches in 77 children with migraines, aged 12.98 ± 3.11 years, but no drug was found to be superior in terms of reducing cytokine levels. Lutschg et al (1990) in a randomized double-blind study involving 33 children aged 3 to 15 years, found that both drugs reduced the number of migraine attacks, but temporary side effects occurred in some patients leading to the termination of treatment in two patients. In a double-blind study, Martinez et al (1990) and Pothmann et al (1987) found significant improvement in the frequency, intensity, and duration of crises in 80 children aged between 7 and 17 years, but side effects were reported in both groups, which were mild and temporary. In a prospective study, Min et al (2012), Topcu et al (2014), and Visudtibhan et al (2004) found that the frequency and degree of headaches were significantly decreased after therapy in 288 children and adolescents with migraines, aged between 6 and 17 years, and that Flunarizine for migraine prophylactic treatment is effective and safe, although some side effects such as dizziness, lack of attention, and palpitations were reported with topiramate treatment. Lastly, Guidetti et al (1987) in a study with unspecified design involving 13 children (4 girls and 9 boys) between the ages of 10 and 13 years with severe migraines, found a significant decrease in attack frequency and that Flunarizine has no serious side effects and is trouble-free for courses of 2 months. All studies concluded that flunarizine is effective in reducing the frequency and severity of migraines in children. It was also found to be safe with minimal side effects, most commonly increased fatigue. Some studies found flunarizine to be more effective when combined with other treatments, such as behavioral therapy or other prophylactic drugs. However, one study found that flunarizine was less effective than topiramate and propranolol in reducing the PedMIDAS scores, a measure of migraine severity. Another study found that flunarizine was less effective in children with vegetative lability. Despite these differences, the overall consensus is that flunarizine is a beneficial treatment for pediatric migraines.', expected_output=None, context=None, retrieval_context=None)]\n"
          ]
        }
      ]
    },
    {
      "cell_type": "markdown",
      "source": [
        "## 1.2. Customized - Summarization"
      ],
      "metadata": {
        "id": "acawOSGBsdFQ"
      }
    },
    {
      "cell_type": "markdown",
      "source": [
        "\n",
        "### *1.2.1. Missing Values*\n"
      ],
      "metadata": {
        "id": "4AXpL44o-aH4"
      }
    },
    {
      "cell_type": "code",
      "source": [
        "from deepeval import evaluate\n",
        "from deepeval.metrics import SummarizationMetric\n",
        "from deepeval.test_case import LLMTestCase\n",
        "\n",
        "# For AzureChatOepnAI\n",
        "from langchain_openai import AzureChatOpenAI\n",
        "\n",
        "custom_azure_openai_model = AzureChatOpenAI(\n",
        "    openai_api_version='2023-03-15-preview',\n",
        "    azure_deployment='gpt4-test',\n",
        "    azure_endpoint='https://pharma-ml-gpt4.openai.azure.com/',\n",
        "    openai_api_key='105a50f735f64837afc9259228b5a913',\n",
        ")\n",
        "\n",
        "# answer_relevancy_metric = AnswerRelevancyMetric(model=custom_azure_openai_model)\n",
        "\n",
        "test_case = LLMTestCase(input=artc_in, actual_output=artact_out)\n",
        "\n",
        "metric = SummarizationMetric(\n",
        "    threshold=0.5,\n",
        "    model=custom_azure_openai_model,\n",
        "    # model=\"gpt-4\",\n",
        "    assessment_questions=[\n",
        "        \"Is the inclusion score based on a percentage of 'yes' answers?\",\n",
        "        \"Does the score ensure the summary's accuracy with the source?\",\n",
        "        \"Does a higher score mean a more comprehensive summary?\",\n",
        "        \"Is the actual_output contains missing values?\"\n",
        "    ]\n",
        ")\n",
        "\n",
        "metric.measure(test_case)\n",
        "print(f\"metric.measure(test_case): {metric.measure(test_case)}\")\n",
        "print(f\"metric.score: {metric.score}\")\n",
        "\n",
        "# or evaluate test cases in bulk\n",
        "eval = evaluate([test_case], [metric])\n",
        "print(f\"eval: {eval}\") # runing it take -->> 1m 4S"
      ],
      "metadata": {
        "colab": {
          "base_uri": "https://localhost:8080/",
          "height": 1000,
          "referenced_widgets": [
            "5861c51337d14401894163dc202efc3b",
            "e3fe0705f9a4467385a4381b3d9a0d10",
            "51c6a77d59804c51997dbc01ec1cc139",
            "5971ac047766407994e5350aa2ec7932",
            "017f74d38ae047e9a00fbfa5e0884bc0",
            "7a0d722f484f4151a00739f68c0062ea",
            "d3beddc34ecb45ce8febd65390a5afd8",
            "78ea4325149644dd830e2348e9581d04"
          ]
        },
        "id": "O-3BBZAY-tav",
        "outputId": "f14f9c79-d0e3-4d96-a39e-43c314bf3a39"
      },
      "execution_count": 21,
      "outputs": [
        {
          "output_type": "display_data",
          "data": {
            "text/plain": [
              "Output()"
            ],
            "application/vnd.jupyter.widget-view+json": {
              "version_major": 2,
              "version_minor": 0,
              "model_id": "5861c51337d14401894163dc202efc3b"
            }
          },
          "metadata": {}
        },
        {
          "output_type": "display_data",
          "data": {
            "text/plain": [],
            "text/html": [
              "<pre style=\"white-space:pre;overflow-x:auto;line-height:normal;font-family:Menlo,'DejaVu Sans Mono',consolas,'Courier New',monospace\"></pre>\n"
            ]
          },
          "metadata": {}
        },
        {
          "output_type": "display_data",
          "data": {
            "text/plain": [
              "\n"
            ],
            "text/html": [
              "<pre style=\"white-space:pre;overflow-x:auto;line-height:normal;font-family:Menlo,'DejaVu Sans Mono',consolas,'Courier New',monospace\">\n",
              "</pre>\n"
            ]
          },
          "metadata": {}
        },
        {
          "output_type": "display_data",
          "data": {
            "text/plain": [
              "Output()"
            ],
            "application/vnd.jupyter.widget-view+json": {
              "version_major": 2,
              "version_minor": 0,
              "model_id": "51c6a77d59804c51997dbc01ec1cc139"
            }
          },
          "metadata": {}
        },
        {
          "output_type": "display_data",
          "data": {
            "text/plain": [],
            "text/html": [
              "<pre style=\"white-space:pre;overflow-x:auto;line-height:normal;font-family:Menlo,'DejaVu Sans Mono',consolas,'Courier New',monospace\"></pre>\n"
            ]
          },
          "metadata": {}
        },
        {
          "output_type": "display_data",
          "data": {
            "text/plain": [
              "\n"
            ],
            "text/html": [
              "<pre style=\"white-space:pre;overflow-x:auto;line-height:normal;font-family:Menlo,'DejaVu Sans Mono',consolas,'Courier New',monospace\">\n",
              "</pre>\n"
            ]
          },
          "metadata": {}
        },
        {
          "output_type": "display_data",
          "data": {
            "text/plain": [
              "Output()"
            ],
            "application/vnd.jupyter.widget-view+json": {
              "version_major": 2,
              "version_minor": 0,
              "model_id": "017f74d38ae047e9a00fbfa5e0884bc0"
            }
          },
          "metadata": {}
        },
        {
          "output_type": "display_data",
          "data": {
            "text/plain": [
              "Output()"
            ],
            "application/vnd.jupyter.widget-view+json": {
              "version_major": 2,
              "version_minor": 0,
              "model_id": "d3beddc34ecb45ce8febd65390a5afd8"
            }
          },
          "metadata": {}
        },
        {
          "output_type": "stream",
          "name": "stdout",
          "text": [
            "metric.measure(test_case): 0.6000000000000001\n",
            "metric.score: 0.6000000000000001\n"
          ]
        },
        {
          "output_type": "display_data",
          "data": {
            "text/plain": [],
            "text/html": [
              "<pre style=\"white-space:pre;overflow-x:auto;line-height:normal;font-family:Menlo,'DejaVu Sans Mono',consolas,'Courier New',monospace\"></pre>\n"
            ]
          },
          "metadata": {}
        },
        {
          "output_type": "display_data",
          "data": {
            "text/plain": [
              "\n"
            ],
            "text/html": [
              "<pre style=\"white-space:pre;overflow-x:auto;line-height:normal;font-family:Menlo,'DejaVu Sans Mono',consolas,'Courier New',monospace\">\n",
              "</pre>\n"
            ]
          },
          "metadata": {}
        },
        {
          "output_type": "display_data",
          "data": {
            "text/plain": [
              "\n"
            ],
            "text/html": [
              "<pre style=\"white-space:pre;overflow-x:auto;line-height:normal;font-family:Menlo,'DejaVu Sans Mono',consolas,'Courier New',monospace\">\n",
              "</pre>\n"
            ]
          },
          "metadata": {}
        },
        {
          "output_type": "display_data",
          "data": {
            "text/plain": [
              "======================================================================\n"
            ],
            "text/html": [
              "<pre style=\"white-space:pre;overflow-x:auto;line-height:normal;font-family:Menlo,'DejaVu Sans Mono',consolas,'Courier New',monospace\">======================================================================\n",
              "</pre>\n"
            ]
          },
          "metadata": {}
        },
        {
          "output_type": "display_data",
          "data": {
            "text/plain": [
              "\n"
            ],
            "text/html": [
              "<pre style=\"white-space:pre;overflow-x:auto;line-height:normal;font-family:Menlo,'DejaVu Sans Mono',consolas,'Courier New',monospace\">\n",
              "</pre>\n"
            ]
          },
          "metadata": {}
        },
        {
          "output_type": "display_data",
          "data": {
            "text/plain": [
              "Metrics Summary\n"
            ],
            "text/html": [
              "<pre style=\"white-space:pre;overflow-x:auto;line-height:normal;font-family:Menlo,'DejaVu Sans Mono',consolas,'Courier New',monospace\">Metrics Summary\n",
              "</pre>\n"
            ]
          },
          "metadata": {}
        },
        {
          "output_type": "display_data",
          "data": {
            "text/plain": [
              "\n"
            ],
            "text/html": [
              "<pre style=\"white-space:pre;overflow-x:auto;line-height:normal;font-family:Menlo,'DejaVu Sans Mono',consolas,'Courier New',monospace\">\n",
              "</pre>\n"
            ]
          },
          "metadata": {}
        },
        {
          "output_type": "display_data",
          "data": {
            "text/plain": [
              "  - ✅ Summarization (score: 0.6000000000000001, threshold: 0.5, evaluation model: azure-openai-chat, reason: None)\n"
            ],
            "text/html": [
              "<pre style=\"white-space:pre;overflow-x:auto;line-height:normal;font-family:Menlo,'DejaVu Sans Mono',consolas,'Courier New',monospace\">  - ✅ Summarization (score: 0.6000000000000001, threshold: 0.5, evaluation model: azure-openai-chat, reason: None)\n",
              "</pre>\n"
            ]
          },
          "metadata": {}
        },
        {
          "output_type": "display_data",
          "data": {
            "text/plain": [
              "      - Alignment (score: 0.6000000000000001)\n"
            ],
            "text/html": [
              "<pre style=\"white-space:pre;overflow-x:auto;line-height:normal;font-family:Menlo,'DejaVu Sans Mono',consolas,'Courier New',monospace\">      - Alignment (score: 0.6000000000000001)\n",
              "</pre>\n"
            ]
          },
          "metadata": {}
        },
        {
          "output_type": "display_data",
          "data": {
            "text/plain": [
              "      - Inclusion (score: 1.0)\n"
            ],
            "text/html": [
              "<pre style=\"white-space:pre;overflow-x:auto;line-height:normal;font-family:Menlo,'DejaVu Sans Mono',consolas,'Courier New',monospace\">      - Inclusion (score: 1.0)\n",
              "</pre>\n"
            ]
          },
          "metadata": {}
        },
        {
          "output_type": "display_data",
          "data": {
            "text/plain": [
              "\n"
            ],
            "text/html": [
              "<pre style=\"white-space:pre;overflow-x:auto;line-height:normal;font-family:Menlo,'DejaVu Sans Mono',consolas,'Courier New',monospace\">\n",
              "</pre>\n"
            ]
          },
          "metadata": {}
        },
        {
          "output_type": "display_data",
          "data": {
            "text/plain": [
              "For test case:\n"
            ],
            "text/html": [
              "<pre style=\"white-space:pre;overflow-x:auto;line-height:normal;font-family:Menlo,'DejaVu Sans Mono',consolas,'Courier New',monospace\">For test case:\n",
              "</pre>\n"
            ]
          },
          "metadata": {}
        },
        {
          "output_type": "display_data",
          "data": {
            "text/plain": [
              "\n"
            ],
            "text/html": [
              "<pre style=\"white-space:pre;overflow-x:auto;line-height:normal;font-family:Menlo,'DejaVu Sans Mono',consolas,'Courier New',monospace\">\n",
              "</pre>\n"
            ]
          },
          "metadata": {}
        },
        {
          "output_type": "display_data",
          "data": {
            "text/plain": [
              "  - input: The efficacy of flunarizine compared with placebo for migraine prophylaxis in children with classic or \n",
              "common migraine was evaluated in 2 placebo-controlled studies in 118 subjects. Flunarizine 5 mg/day for 12 weeks \n",
              "resulted in statistically significant decreases in migraine attack frequency from baseline. Additionally, \n",
              "comparison of migraine frequency at the end of study showed statistically significantly fewer migraines with \n",
              "flunarizine versus placebo. Treatment with flunarizine also produced significant reductions from baseline in the \n",
              "duration of migraine attacks. The efficacy of flunarizine for migraine prophylaxis in children was compared with \n",
              "topiramate, propranolol, dihydroergotamine, amitriptyline, cyproheptadine, and    acetylsalicylic acid across 5 \n",
              "active-controlled studies in 278 subjects.The randomized, double-blind study by Lütschg and Vassella (1990) showed \n",
              "that 4-month treatment with flunarizine 5 to 10 mg/day or propranolol 30 to 120 mg/day produced similar reductions \n",
              "in the frequency of migraine attacks (76.4% flunarizine vs 73.3% propranolol) in children with simple or classic \n",
              "migraine. However, flunarizine had no effect on the duration or intensity of migraine attacks, whereas propranolol \n",
              "showed a decrease in migraine intensity. Similarly, the 4-month, open-label, active-controlled study by Hirfanoglu \n",
              "et al (1987) in children with migraine with or without aura showed a 71.5% reduction in migraine frequency with \n",
              "flunarizine 5 to 10 mg/day; corresponding reductions with amitriptyline 0.5 mg/kg/day, cyproheptadine 0.2 \n",
              "mg/kg/day, and propranolol 10 to 40 mg/day were 80.1%, 78.8%, and 68.2%, respectively. The 6-month non-randomized \n",
              "comparator study by Topcu et al (2014) reported significant decreases in PedMIDAS scores with flunarizine 5 to 10 \n",
              "mg/day, topiramate 1 to 2 mg/kg/day, and propranolol 20 to 40 mg/day, although reductions with topiramate and \n",
              "propranolol were significantly greater compared with flunarizine. Lastra Martinez et al (1990) found similar \n",
              "efficacy with flunarizine (10 mg/day) and dihydroergotamine (3 doses of 1.5 mg/day per week after Week 3) (79% and \n",
              "87% subjects with improvement, respectively) in migraine frequency, intensity, and duration in children with \n",
              "classic or common migraine. In a prospective, double-blind study in children with classic or uncomplicated \n",
              "migraine, there were no significant differences between flunarizine 5 to 10 mg/day and acetylsalicylic acid 100 to \n",
              "200 mg/day in reduction of migraine attack frequency or symptoms. An additional study compared the efficacy of \n",
              "flunarizine with flunarizine combined with behavioral therapy in 90 children with migraine.Flunarizine, at doses of\n",
              "0.2 mg/kg/day up to 10 mg/day, administered for 3 months was found to be more effective when combined with \n",
              "behavioral therapy versus monotherapy, as shown by significantly lower PedMIDAS scores.Four non-controlled \n",
              "open-label studies in 263 subjects are supportive for the efficacy of flunarizine for prevention of migraine in \n",
              "children. An open-label study of flunarizine 10 mg/day administered for 8 weeks to 200 children and adolescents \n",
              "with migraine found a significant decrease in migraine attack frequency and severity. Boccia et al (2006) reported \n",
              "significantly decreased migraine frequency at 1 and 2 months after daily administration of flunarizine 5 mg in \n",
              "children with migraine. Similarly, Guidetti reported in children with common or classic migraine a significant \n",
              "decrease in migraine frequency after 1 month of treatment with flunarizine 5 mg/day, which was maintained after 6 \n",
              "months of treatment. Visudtibhan et al (2004) found that 66.7% of children administered flunarizine 5 to 10 mg/day \n",
              "had a decrease in migraine frequency. Overall, the reviewed efficacy data from studies of flunarizine in adults and\n",
              "children with migraine support the authorized indication of flunarizine in Vietnam for the maintenance treatment of\n",
              "migraine, when other treatments are ineffective or poorly tolerated. The reviewed studies provide evidence \n",
              "supporting the safety of flunarizine in children with migraine. Adverse events reported with flunarizine in 2 \n",
              "placebo-controlled studies with children included drowsiness, weight gain, GI complaints, and fatigue; there were \n",
              "no SAEs reported. Flunarizine had no effect on routine laboratory assessments, blood pressure, or \n",
              "electroencephalogram measurements. Adverse events with flunarizine across the 6 active\u0002controlled studies included \n",
              "drowsiness, paresthesia, increased appetite, weight gain, increased fatigue, shortness of breath, concentration \n",
              "disorders, and stomach pain. No SAEs or cases of EPS were observed. No AEs were reported with flunarizine in \n",
              "non-controlled open-label studies.\n"
            ],
            "text/html": [
              "<pre style=\"white-space:pre;overflow-x:auto;line-height:normal;font-family:Menlo,'DejaVu Sans Mono',consolas,'Courier New',monospace\">  - input: The efficacy of flunarizine compared with placebo for migraine prophylaxis in children with classic or \n",
              "common migraine was evaluated in 2 placebo-controlled studies in 118 subjects. Flunarizine 5 mg/day for 12 weeks \n",
              "resulted in statistically significant decreases in migraine attack frequency from baseline. Additionally, \n",
              "comparison of migraine frequency at the end of study showed statistically significantly fewer migraines with \n",
              "flunarizine versus placebo. Treatment with flunarizine also produced significant reductions from baseline in the \n",
              "duration of migraine attacks. The efficacy of flunarizine for migraine prophylaxis in children was compared with \n",
              "topiramate, propranolol, dihydroergotamine, amitriptyline, cyproheptadine, and    acetylsalicylic acid across 5 \n",
              "active-controlled studies in 278 subjects.The randomized, double-blind study by Lütschg and Vassella (1990) showed \n",
              "that 4-month treatment with flunarizine 5 to 10 mg/day or propranolol 30 to 120 mg/day produced similar reductions \n",
              "in the frequency of migraine attacks (76.4% flunarizine vs 73.3% propranolol) in children with simple or classic \n",
              "migraine. However, flunarizine had no effect on the duration or intensity of migraine attacks, whereas propranolol \n",
              "showed a decrease in migraine intensity. Similarly, the 4-month, open-label, active-controlled study by Hirfanoglu \n",
              "et al (1987) in children with migraine with or without aura showed a 71.5% reduction in migraine frequency with \n",
              "flunarizine 5 to 10 mg/day; corresponding reductions with amitriptyline 0.5 mg/kg/day, cyproheptadine 0.2 \n",
              "mg/kg/day, and propranolol 10 to 40 mg/day were 80.1%, 78.8%, and 68.2%, respectively. The 6-month non-randomized \n",
              "comparator study by Topcu et al (2014) reported significant decreases in PedMIDAS scores with flunarizine 5 to 10 \n",
              "mg/day, topiramate 1 to 2 mg/kg/day, and propranolol 20 to 40 mg/day, although reductions with topiramate and \n",
              "propranolol were significantly greater compared with flunarizine. Lastra Martinez et al (1990) found similar \n",
              "efficacy with flunarizine (10 mg/day) and dihydroergotamine (3 doses of 1.5 mg/day per week after Week 3) (79% and \n",
              "87% subjects with improvement, respectively) in migraine frequency, intensity, and duration in children with \n",
              "classic or common migraine. In a prospective, double-blind study in children with classic or uncomplicated \n",
              "migraine, there were no significant differences between flunarizine 5 to 10 mg/day and acetylsalicylic acid 100 to \n",
              "200 mg/day in reduction of migraine attack frequency or symptoms. An additional study compared the efficacy of \n",
              "flunarizine with flunarizine combined with behavioral therapy in 90 children with migraine.Flunarizine, at doses of\n",
              "0.2 mg/kg/day up to 10 mg/day, administered for 3 months was found to be more effective when combined with \n",
              "behavioral therapy versus monotherapy, as shown by significantly lower PedMIDAS scores.Four non-controlled \n",
              "open-label studies in 263 subjects are supportive for the efficacy of flunarizine for prevention of migraine in \n",
              "children. An open-label study of flunarizine 10 mg/day administered for 8 weeks to 200 children and adolescents \n",
              "with migraine found a significant decrease in migraine attack frequency and severity. Boccia et al (2006) reported \n",
              "significantly decreased migraine frequency at 1 and 2 months after daily administration of flunarizine 5 mg in \n",
              "children with migraine. Similarly, Guidetti reported in children with common or classic migraine a significant \n",
              "decrease in migraine frequency after 1 month of treatment with flunarizine 5 mg/day, which was maintained after 6 \n",
              "months of treatment. Visudtibhan et al (2004) found that 66.7% of children administered flunarizine 5 to 10 mg/day \n",
              "had a decrease in migraine frequency. Overall, the reviewed efficacy data from studies of flunarizine in adults and\n",
              "children with migraine support the authorized indication of flunarizine in Vietnam for the maintenance treatment of\n",
              "migraine, when other treatments are ineffective or poorly tolerated. The reviewed studies provide evidence \n",
              "supporting the safety of flunarizine in children with migraine. Adverse events reported with flunarizine in 2 \n",
              "placebo-controlled studies with children included drowsiness, weight gain, GI complaints, and fatigue; there were \n",
              "no SAEs reported. Flunarizine had no effect on routine laboratory assessments, blood pressure, or \n",
              "electroencephalogram measurements. Adverse events with flunarizine across the 6 active\u0002controlled studies included \n",
              "drowsiness, paresthesia, increased appetite, weight gain, increased fatigue, shortness of breath, concentration \n",
              "disorders, and stomach pain. No SAEs or cases of EPS were observed. No AEs were reported with flunarizine in \n",
              "non-controlled open-label studies.\n",
              "</pre>\n"
            ]
          },
          "metadata": {}
        },
        {
          "output_type": "display_data",
          "data": {
            "text/plain": [
              "  - actual output: The following 10 clinical studies evaluate the effectiveness of various treatments, including \n",
              "flunarizine, propranolol, and acetylsalicylic acid, in managing migraine conditions in children and adolescents. \n",
              "Boccia et al (2006) conducted a randomized, placebo-controlled, double-blind study. Chen et al (2014) carried out a\n",
              "randomized controlled study, while Hirfanoglu et al (2009) performed a controlled clinical trial. Lutschg et al \n",
              "(1990) executed a randomized double-blind study. Both Martinez et al (1990) and Pothmann et al (1987) undertook \n",
              "double-blind studies. Prospective studies were conducted by Min et al (2012), Topcu et al (2014), and Visudtibhan \n",
              "et al (2004). The type of study conducted by Guidetti et al (1987) was not specified. Boccia et al (2006) in their \n",
              "randomized, placebo-controlled, double-blind study found that Flunarizine significantly decreased the \n",
              "gastrointestinal symptoms with no relevant side-effects reported in a population of 50 children with migraines, \n",
              "although the age range was not specified. Chen et al (2014) in a randomized controlled study involving 90 pediatric\n",
              "patients with migraines aged between 8-14 years, found that a combination of behavioral therapy and pharmacological\n",
              "treatment had better efficacy, however, the efficacy and safety were not specified. In a controlled clinical trial,\n",
              "Hirfanoglu et al (2009) found that all four drugs decreased the frequency, duration, and severity of headaches in \n",
              "77 children with migraines, aged 12.98 ± 3.11 years, but no drug was found to be superior in terms of reducing \n",
              "cytokine levels. Lutschg et al (1990) in a randomized double-blind study involving 33 children aged 3 to 15 years, \n",
              "found that both drugs reduced the number of migraine attacks, but temporary side effects occurred in some patients \n",
              "leading to the termination of treatment in two patients. In a double-blind study, Martinez et al (1990) and \n",
              "Pothmann et al (1987) found significant improvement in the frequency, intensity, and duration of crises in 80 \n",
              "children aged between 7 and 17 years, but side effects were reported in both groups, which were mild and temporary.\n",
              "In a prospective study, Min et al (2012), Topcu et al (2014), and Visudtibhan et al (2004) found that the frequency\n",
              "and degree of headaches were significantly decreased after therapy in 288 children and adolescents with migraines, \n",
              "aged between 6 and 17 years, and that Flunarizine for migraine prophylactic treatment is effective and safe, \n",
              "although some side effects such as dizziness, lack of attention, and palpitations were reported with topiramate \n",
              "treatment. Lastly, Guidetti et al (1987) in a study with unspecified design involving 13 children (4 girls and 9 \n",
              "boys) between the ages of 10 and 13 years with severe migraines, found a significant decrease in attack frequency \n",
              "and that Flunarizine has no serious side effects and is trouble-free for courses of 2 months. All studies concluded\n",
              "that flunarizine is effective in reducing the frequency and severity of migraines in children. It was also found to\n",
              "be safe with minimal side effects, most commonly increased fatigue. Some studies found flunarizine to be more \n",
              "effective when combined with other treatments, such as behavioral therapy or other prophylactic drugs. However, one\n",
              "study found that flunarizine was less effective than topiramate and propranolol in reducing the PedMIDAS scores, a \n",
              "measure of migraine severity. Another study found that flunarizine was less effective in children with vegetative \n",
              "lability. Despite these differences, the overall consensus is that flunarizine is a beneficial treatment for \n",
              "pediatric migraines.\n"
            ],
            "text/html": [
              "<pre style=\"white-space:pre;overflow-x:auto;line-height:normal;font-family:Menlo,'DejaVu Sans Mono',consolas,'Courier New',monospace\">  - actual output: The following 10 clinical studies evaluate the effectiveness of various treatments, including \n",
              "flunarizine, propranolol, and acetylsalicylic acid, in managing migraine conditions in children and adolescents. \n",
              "Boccia et al (2006) conducted a randomized, placebo-controlled, double-blind study. Chen et al (2014) carried out a\n",
              "randomized controlled study, while Hirfanoglu et al (2009) performed a controlled clinical trial. Lutschg et al \n",
              "(1990) executed a randomized double-blind study. Both Martinez et al (1990) and Pothmann et al (1987) undertook \n",
              "double-blind studies. Prospective studies were conducted by Min et al (2012), Topcu et al (2014), and Visudtibhan \n",
              "et al (2004). The type of study conducted by Guidetti et al (1987) was not specified. Boccia et al (2006) in their \n",
              "randomized, placebo-controlled, double-blind study found that Flunarizine significantly decreased the \n",
              "gastrointestinal symptoms with no relevant side-effects reported in a population of 50 children with migraines, \n",
              "although the age range was not specified. Chen et al (2014) in a randomized controlled study involving 90 pediatric\n",
              "patients with migraines aged between 8-14 years, found that a combination of behavioral therapy and pharmacological\n",
              "treatment had better efficacy, however, the efficacy and safety were not specified. In a controlled clinical trial,\n",
              "Hirfanoglu et al (2009) found that all four drugs decreased the frequency, duration, and severity of headaches in \n",
              "77 children with migraines, aged 12.98 ± 3.11 years, but no drug was found to be superior in terms of reducing \n",
              "cytokine levels. Lutschg et al (1990) in a randomized double-blind study involving 33 children aged 3 to 15 years, \n",
              "found that both drugs reduced the number of migraine attacks, but temporary side effects occurred in some patients \n",
              "leading to the termination of treatment in two patients. In a double-blind study, Martinez et al (1990) and \n",
              "Pothmann et al (1987) found significant improvement in the frequency, intensity, and duration of crises in 80 \n",
              "children aged between 7 and 17 years, but side effects were reported in both groups, which were mild and temporary.\n",
              "In a prospective study, Min et al (2012), Topcu et al (2014), and Visudtibhan et al (2004) found that the frequency\n",
              "and degree of headaches were significantly decreased after therapy in 288 children and adolescents with migraines, \n",
              "aged between 6 and 17 years, and that Flunarizine for migraine prophylactic treatment is effective and safe, \n",
              "although some side effects such as dizziness, lack of attention, and palpitations were reported with topiramate \n",
              "treatment. Lastly, Guidetti et al (1987) in a study with unspecified design involving 13 children (4 girls and 9 \n",
              "boys) between the ages of 10 and 13 years with severe migraines, found a significant decrease in attack frequency \n",
              "and that Flunarizine has no serious side effects and is trouble-free for courses of 2 months. All studies concluded\n",
              "that flunarizine is effective in reducing the frequency and severity of migraines in children. It was also found to\n",
              "be safe with minimal side effects, most commonly increased fatigue. Some studies found flunarizine to be more \n",
              "effective when combined with other treatments, such as behavioral therapy or other prophylactic drugs. However, one\n",
              "study found that flunarizine was less effective than topiramate and propranolol in reducing the PedMIDAS scores, a \n",
              "measure of migraine severity. Another study found that flunarizine was less effective in children with vegetative \n",
              "lability. Despite these differences, the overall consensus is that flunarizine is a beneficial treatment for \n",
              "pediatric migraines.\n",
              "</pre>\n"
            ]
          },
          "metadata": {}
        },
        {
          "output_type": "display_data",
          "data": {
            "text/plain": [
              "  - expected output: None\n"
            ],
            "text/html": [
              "<pre style=\"white-space:pre;overflow-x:auto;line-height:normal;font-family:Menlo,'DejaVu Sans Mono',consolas,'Courier New',monospace\">  - expected output: None\n",
              "</pre>\n"
            ]
          },
          "metadata": {}
        },
        {
          "output_type": "display_data",
          "data": {
            "text/plain": [
              "  - context: None\n"
            ],
            "text/html": [
              "<pre style=\"white-space:pre;overflow-x:auto;line-height:normal;font-family:Menlo,'DejaVu Sans Mono',consolas,'Courier New',monospace\">  - context: None\n",
              "</pre>\n"
            ]
          },
          "metadata": {}
        },
        {
          "output_type": "display_data",
          "data": {
            "text/plain": [
              "  - retrieval context: None\n"
            ],
            "text/html": [
              "<pre style=\"white-space:pre;overflow-x:auto;line-height:normal;font-family:Menlo,'DejaVu Sans Mono',consolas,'Courier New',monospace\">  - retrieval context: None\n",
              "</pre>\n"
            ]
          },
          "metadata": {}
        },
        {
          "output_type": "display_data",
          "data": {
            "text/plain": [
              "\n"
            ],
            "text/html": [
              "<pre style=\"white-space:pre;overflow-x:auto;line-height:normal;font-family:Menlo,'DejaVu Sans Mono',consolas,'Courier New',monospace\">\n",
              "</pre>\n"
            ]
          },
          "metadata": {}
        },
        {
          "output_type": "display_data",
          "data": {
            "text/plain": [
              "----------------------------------------------------------------------\n"
            ],
            "text/html": [
              "<pre style=\"white-space:pre;overflow-x:auto;line-height:normal;font-family:Menlo,'DejaVu Sans Mono',consolas,'Courier New',monospace\">----------------------------------------------------------------------\n",
              "</pre>\n"
            ]
          },
          "metadata": {}
        },
        {
          "output_type": "display_data",
          "data": {
            "text/plain": [
              "✅ Tests finished! Run \u001b[32m\"deepeval login\"\u001b[0m to view evaluation results on the web.\n"
            ],
            "text/html": [
              "<pre style=\"white-space:pre;overflow-x:auto;line-height:normal;font-family:Menlo,'DejaVu Sans Mono',consolas,'Courier New',monospace\">✅ Tests finished! Run <span style=\"color: #008000; text-decoration-color: #008000\">\"deepeval login\"</span> to view evaluation results on the web.\n",
              "</pre>\n"
            ]
          },
          "metadata": {}
        },
        {
          "output_type": "display_data",
          "data": {
            "text/plain": [],
            "text/html": [
              "<pre style=\"white-space:pre;overflow-x:auto;line-height:normal;font-family:Menlo,'DejaVu Sans Mono',consolas,'Courier New',monospace\"></pre>\n"
            ]
          },
          "metadata": {}
        },
        {
          "output_type": "display_data",
          "data": {
            "text/plain": [
              "\n"
            ],
            "text/html": [
              "<pre style=\"white-space:pre;overflow-x:auto;line-height:normal;font-family:Menlo,'DejaVu Sans Mono',consolas,'Courier New',monospace\">\n",
              "</pre>\n"
            ]
          },
          "metadata": {}
        },
        {
          "output_type": "stream",
          "name": "stdout",
          "text": [
            "eval: [TestResult(success=True, metrics=[<deepeval.metrics.summarization.SummarizationMetric object at 0x7c5bb9971c30>], input='The efficacy of flunarizine compared with placebo for migraine prophylaxis in children with classic or common migraine was evaluated in 2 placebo-controlled studies in 118 subjects. Flunarizine 5 mg/day for 12 weeks resulted in statistically significant decreases in migraine attack frequency from baseline. Additionally, comparison of migraine frequency at the end of study showed statistically significantly fewer migraines with flunarizine versus placebo. Treatment with flunarizine also produced significant reductions from baseline in the duration of migraine attacks. The efficacy of flunarizine for migraine prophylaxis in children was compared with topiramate, propranolol, dihydroergotamine, amitriptyline, cyproheptadine, and    acetylsalicylic acid across 5 active-controlled studies in 278 subjects.The randomized, double-blind study by Lütschg and Vassella (1990) showed that 4-month treatment with flunarizine 5 to 10 mg/day or propranolol 30 to 120 mg/day produced similar reductions in the frequency of migraine attacks (76.4% flunarizine vs 73.3% propranolol) in children with simple or classic migraine. However, flunarizine had no effect on the duration or intensity of migraine attacks, whereas propranolol showed a decrease in migraine intensity. Similarly, the 4-month, open-label, active-controlled study by Hirfanoglu et al (1987) in children with migraine with or without aura showed a 71.5% reduction in migraine frequency with flunarizine 5 to 10 mg/day; corresponding reductions with amitriptyline 0.5 mg/kg/day, cyproheptadine 0.2 mg/kg/day, and propranolol 10 to 40 mg/day were 80.1%, 78.8%, and 68.2%, respectively. The 6-month non-randomized comparator study by Topcu et al (2014) reported significant decreases in PedMIDAS scores with flunarizine 5 to 10 mg/day, topiramate 1 to 2 mg/kg/day, and propranolol 20 to 40 mg/day, although reductions with topiramate and propranolol were significantly greater compared with flunarizine. Lastra Martinez et al (1990) found similar efficacy with flunarizine (10 mg/day) and dihydroergotamine (3 doses of 1.5 mg/day per week after Week 3) (79% and 87% subjects with improvement, respectively) in migraine frequency, intensity, and duration in children with classic or common migraine. In a prospective, double-blind study in children with classic or uncomplicated migraine, there were no significant differences between flunarizine 5 to 10 mg/day and acetylsalicylic acid 100 to 200 mg/day in reduction of migraine attack frequency or symptoms. An additional study compared the efficacy of flunarizine with flunarizine combined with behavioral therapy in 90 children with migraine.Flunarizine, at doses of 0.2 mg/kg/day up to 10 mg/day, administered for 3 months was found to be more effective when combined with behavioral therapy versus monotherapy, as shown by significantly lower PedMIDAS scores.Four non-controlled open-label studies in 263 subjects are supportive for the efficacy of flunarizine for prevention of migraine in children. An open-label study of flunarizine 10 mg/day administered for 8 weeks to 200 children and adolescents with migraine found a significant decrease in migraine attack frequency and severity. Boccia et al (2006) reported significantly decreased migraine frequency at 1 and 2 months after daily administration of flunarizine 5 mg in children with migraine. Similarly, Guidetti reported in children with common or classic migraine a significant decrease in migraine frequency after 1 month of treatment with flunarizine 5 mg/day, which was maintained after 6 months of treatment. Visudtibhan et al (2004) found that 66.7% of children administered flunarizine 5 to 10 mg/day had a decrease in migraine frequency. Overall, the reviewed efficacy data from studies of flunarizine in adults and children with migraine support the authorized indication of flunarizine in Vietnam for the maintenance treatment of migraine, when other treatments are ineffective or poorly tolerated. The reviewed studies provide evidence supporting the safety of flunarizine in children with migraine. Adverse events reported with flunarizine in 2 placebo-controlled studies with children included drowsiness, weight gain, GI complaints, and fatigue; there were no SAEs reported. Flunarizine had no effect on routine laboratory assessments, blood pressure, or electroencephalogram measurements. Adverse events with flunarizine across the 6 active\\x02controlled studies included drowsiness, paresthesia, increased appetite, weight gain, increased fatigue, shortness of breath, concentration disorders, and stomach pain. No SAEs or cases of EPS were observed. No AEs were reported with flunarizine in non-controlled open-label studies.', actual_output='The following 10 clinical studies evaluate the effectiveness of various treatments, including flunarizine, propranolol, and acetylsalicylic acid, in managing migraine conditions in children and adolescents. Boccia et al (2006) conducted a randomized, placebo-controlled, double-blind study. Chen et al (2014) carried out a randomized controlled study, while Hirfanoglu et al (2009) performed a controlled clinical trial. Lutschg et al (1990) executed a randomized double-blind study. Both Martinez et al (1990) and Pothmann et al (1987) undertook double-blind studies. Prospective studies were conducted by Min et al (2012), Topcu et al (2014), and Visudtibhan et al (2004). The type of study conducted by Guidetti et al (1987) was not specified. Boccia et al (2006) in their randomized, placebo-controlled, double-blind study found that Flunarizine significantly decreased the gastrointestinal symptoms with no relevant side-effects reported in a population of 50 children with migraines, although the age range was not specified. Chen et al (2014) in a randomized controlled study involving 90 pediatric patients with migraines aged between 8-14 years, found that a combination of behavioral therapy and pharmacological treatment had better efficacy, however, the efficacy and safety were not specified. In a controlled clinical trial, Hirfanoglu et al (2009) found that all four drugs decreased the frequency, duration, and severity of headaches in 77 children with migraines, aged 12.98 ± 3.11 years, but no drug was found to be superior in terms of reducing cytokine levels. Lutschg et al (1990) in a randomized double-blind study involving 33 children aged 3 to 15 years, found that both drugs reduced the number of migraine attacks, but temporary side effects occurred in some patients leading to the termination of treatment in two patients. In a double-blind study, Martinez et al (1990) and Pothmann et al (1987) found significant improvement in the frequency, intensity, and duration of crises in 80 children aged between 7 and 17 years, but side effects were reported in both groups, which were mild and temporary. In a prospective study, Min et al (2012), Topcu et al (2014), and Visudtibhan et al (2004) found that the frequency and degree of headaches were significantly decreased after therapy in 288 children and adolescents with migraines, aged between 6 and 17 years, and that Flunarizine for migraine prophylactic treatment is effective and safe, although some side effects such as dizziness, lack of attention, and palpitations were reported with topiramate treatment. Lastly, Guidetti et al (1987) in a study with unspecified design involving 13 children (4 girls and 9 boys) between the ages of 10 and 13 years with severe migraines, found a significant decrease in attack frequency and that Flunarizine has no serious side effects and is trouble-free for courses of 2 months. All studies concluded that flunarizine is effective in reducing the frequency and severity of migraines in children. It was also found to be safe with minimal side effects, most commonly increased fatigue. Some studies found flunarizine to be more effective when combined with other treatments, such as behavioral therapy or other prophylactic drugs. However, one study found that flunarizine was less effective than topiramate and propranolol in reducing the PedMIDAS scores, a measure of migraine severity. Another study found that flunarizine was less effective in children with vegetative lability. Despite these differences, the overall consensus is that flunarizine is a beneficial treatment for pediatric migraines.', expected_output=None, context=None, retrieval_context=None)]\n"
          ]
        }
      ]
    },
    {
      "cell_type": "markdown",
      "source": [
        "### *1.2.2. Mis-Placed Values*"
      ],
      "metadata": {
        "id": "QEg-HjyO-hAn"
      }
    },
    {
      "cell_type": "code",
      "source": [
        "from deepeval import evaluate\n",
        "from deepeval.metrics import SummarizationMetric\n",
        "from deepeval.test_case import LLMTestCase\n",
        "\n",
        "# For AzureChatOepnAI\n",
        "from langchain_openai import AzureChatOpenAI\n",
        "\n",
        "custom_azure_openai_model = AzureChatOpenAI(\n",
        "    openai_api_version='2023-03-15-preview',\n",
        "    azure_deployment='gpt4-test',\n",
        "    azure_endpoint='https://pharma-ml-gpt4.openai.azure.com/',\n",
        "    openai_api_key='105a50f735f64837afc9259228b5a913',\n",
        ")\n",
        "\n",
        "# answer_relevancy_metric = AnswerRelevancyMetric(model=custom_azure_openai_model)\n",
        "\n",
        "test_case = LLMTestCase(input=artc_in, actual_output=artact_out)\n",
        "\n",
        "metric = SummarizationMetric(\n",
        "    threshold=0.5,\n",
        "    model=custom_azure_openai_model,\n",
        "    # model=\"gpt-4\",\n",
        "    assessment_questions=[\n",
        "        \"Is the inclusion score based on a percentage of 'yes' answers?\",\n",
        "        \"Does the score ensure the summary's accuracy with the source?\",\n",
        "        \"Does a higher score mean a more comprehensive summary?\",\n",
        "        \"Is the actual_output contains some misplaced values?\"\n",
        "    ]\n",
        ")\n",
        "\n",
        "metric.measure(test_case)\n",
        "print(f\"metric.measure(test_case): {metric.measure(test_case)}\")\n",
        "print(f\"metric.score: {metric.score}\")\n",
        "\n",
        "# or evaluate test cases in bulk\n",
        "eval = evaluate([test_case], [metric])\n",
        "print(f\"eval: {eval}\") # runing it take -->> 1m 4S"
      ],
      "metadata": {
        "colab": {
          "base_uri": "https://localhost:8080/",
          "height": 1000,
          "referenced_widgets": [
            "4c4e3336ef4a45dbbb7d34e009c7ab7b",
            "7a48a73687704c79a3654b74dbc158ea",
            "0282030f754044c5ac71fc6b407143ca",
            "4caf9ee7b2984ea8b557d18ba3e6c8bf",
            "18260da7b7be4576aa7ec8cdeb842214",
            "0c4d3c6fef5e436aac471fb74d55cda8",
            "f7bc38a9cfd94897861bc6d1fd5aef07",
            "26604b43a89a48008e2b34a40471e41e"
          ]
        },
        "id": "DncVrsgw-tw3",
        "outputId": "a66fbe7f-4216-4f56-f8e7-03f97427ec76"
      },
      "execution_count": 22,
      "outputs": [
        {
          "output_type": "display_data",
          "data": {
            "text/plain": [
              "Output()"
            ],
            "application/vnd.jupyter.widget-view+json": {
              "version_major": 2,
              "version_minor": 0,
              "model_id": "4c4e3336ef4a45dbbb7d34e009c7ab7b"
            }
          },
          "metadata": {}
        },
        {
          "output_type": "display_data",
          "data": {
            "text/plain": [],
            "text/html": [
              "<pre style=\"white-space:pre;overflow-x:auto;line-height:normal;font-family:Menlo,'DejaVu Sans Mono',consolas,'Courier New',monospace\"></pre>\n"
            ]
          },
          "metadata": {}
        },
        {
          "output_type": "display_data",
          "data": {
            "text/plain": [
              "\n"
            ],
            "text/html": [
              "<pre style=\"white-space:pre;overflow-x:auto;line-height:normal;font-family:Menlo,'DejaVu Sans Mono',consolas,'Courier New',monospace\">\n",
              "</pre>\n"
            ]
          },
          "metadata": {}
        },
        {
          "output_type": "display_data",
          "data": {
            "text/plain": [
              "Output()"
            ],
            "application/vnd.jupyter.widget-view+json": {
              "version_major": 2,
              "version_minor": 0,
              "model_id": "0282030f754044c5ac71fc6b407143ca"
            }
          },
          "metadata": {}
        },
        {
          "output_type": "display_data",
          "data": {
            "text/plain": [],
            "text/html": [
              "<pre style=\"white-space:pre;overflow-x:auto;line-height:normal;font-family:Menlo,'DejaVu Sans Mono',consolas,'Courier New',monospace\"></pre>\n"
            ]
          },
          "metadata": {}
        },
        {
          "output_type": "display_data",
          "data": {
            "text/plain": [
              "\n"
            ],
            "text/html": [
              "<pre style=\"white-space:pre;overflow-x:auto;line-height:normal;font-family:Menlo,'DejaVu Sans Mono',consolas,'Courier New',monospace\">\n",
              "</pre>\n"
            ]
          },
          "metadata": {}
        },
        {
          "output_type": "display_data",
          "data": {
            "text/plain": [
              "Output()"
            ],
            "application/vnd.jupyter.widget-view+json": {
              "version_major": 2,
              "version_minor": 0,
              "model_id": "18260da7b7be4576aa7ec8cdeb842214"
            }
          },
          "metadata": {}
        },
        {
          "output_type": "display_data",
          "data": {
            "text/plain": [
              "Output()"
            ],
            "application/vnd.jupyter.widget-view+json": {
              "version_major": 2,
              "version_minor": 0,
              "model_id": "f7bc38a9cfd94897861bc6d1fd5aef07"
            }
          },
          "metadata": {}
        },
        {
          "output_type": "stream",
          "name": "stdout",
          "text": [
            "metric.measure(test_case): 0.4\n",
            "metric.score: 0.4\n"
          ]
        },
        {
          "output_type": "display_data",
          "data": {
            "text/plain": [],
            "text/html": [
              "<pre style=\"white-space:pre;overflow-x:auto;line-height:normal;font-family:Menlo,'DejaVu Sans Mono',consolas,'Courier New',monospace\"></pre>\n"
            ]
          },
          "metadata": {}
        },
        {
          "output_type": "display_data",
          "data": {
            "text/plain": [
              "\n"
            ],
            "text/html": [
              "<pre style=\"white-space:pre;overflow-x:auto;line-height:normal;font-family:Menlo,'DejaVu Sans Mono',consolas,'Courier New',monospace\">\n",
              "</pre>\n"
            ]
          },
          "metadata": {}
        },
        {
          "output_type": "display_data",
          "data": {
            "text/plain": [
              "\n"
            ],
            "text/html": [
              "<pre style=\"white-space:pre;overflow-x:auto;line-height:normal;font-family:Menlo,'DejaVu Sans Mono',consolas,'Courier New',monospace\">\n",
              "</pre>\n"
            ]
          },
          "metadata": {}
        },
        {
          "output_type": "display_data",
          "data": {
            "text/plain": [
              "======================================================================\n"
            ],
            "text/html": [
              "<pre style=\"white-space:pre;overflow-x:auto;line-height:normal;font-family:Menlo,'DejaVu Sans Mono',consolas,'Courier New',monospace\">======================================================================\n",
              "</pre>\n"
            ]
          },
          "metadata": {}
        },
        {
          "output_type": "display_data",
          "data": {
            "text/plain": [
              "\n"
            ],
            "text/html": [
              "<pre style=\"white-space:pre;overflow-x:auto;line-height:normal;font-family:Menlo,'DejaVu Sans Mono',consolas,'Courier New',monospace\">\n",
              "</pre>\n"
            ]
          },
          "metadata": {}
        },
        {
          "output_type": "display_data",
          "data": {
            "text/plain": [
              "Metrics Summary\n"
            ],
            "text/html": [
              "<pre style=\"white-space:pre;overflow-x:auto;line-height:normal;font-family:Menlo,'DejaVu Sans Mono',consolas,'Courier New',monospace\">Metrics Summary\n",
              "</pre>\n"
            ]
          },
          "metadata": {}
        },
        {
          "output_type": "display_data",
          "data": {
            "text/plain": [
              "\n"
            ],
            "text/html": [
              "<pre style=\"white-space:pre;overflow-x:auto;line-height:normal;font-family:Menlo,'DejaVu Sans Mono',consolas,'Courier New',monospace\">\n",
              "</pre>\n"
            ]
          },
          "metadata": {}
        },
        {
          "output_type": "display_data",
          "data": {
            "text/plain": [
              "  - ❌ Summarization (score: 0.4, threshold: 0.5, evaluation model: azure-openai-chat, reason: None)\n"
            ],
            "text/html": [
              "<pre style=\"white-space:pre;overflow-x:auto;line-height:normal;font-family:Menlo,'DejaVu Sans Mono',consolas,'Courier New',monospace\">  - ❌ Summarization (score: 0.4, threshold: 0.5, evaluation model: azure-openai-chat, reason: None)\n",
              "</pre>\n"
            ]
          },
          "metadata": {}
        },
        {
          "output_type": "display_data",
          "data": {
            "text/plain": [
              "      - Alignment (score: 0.4)\n"
            ],
            "text/html": [
              "<pre style=\"white-space:pre;overflow-x:auto;line-height:normal;font-family:Menlo,'DejaVu Sans Mono',consolas,'Courier New',monospace\">      - Alignment (score: 0.4)\n",
              "</pre>\n"
            ]
          },
          "metadata": {}
        },
        {
          "output_type": "display_data",
          "data": {
            "text/plain": [
              "      - Inclusion (score: 1.0)\n"
            ],
            "text/html": [
              "<pre style=\"white-space:pre;overflow-x:auto;line-height:normal;font-family:Menlo,'DejaVu Sans Mono',consolas,'Courier New',monospace\">      - Inclusion (score: 1.0)\n",
              "</pre>\n"
            ]
          },
          "metadata": {}
        },
        {
          "output_type": "display_data",
          "data": {
            "text/plain": [
              "\n"
            ],
            "text/html": [
              "<pre style=\"white-space:pre;overflow-x:auto;line-height:normal;font-family:Menlo,'DejaVu Sans Mono',consolas,'Courier New',monospace\">\n",
              "</pre>\n"
            ]
          },
          "metadata": {}
        },
        {
          "output_type": "display_data",
          "data": {
            "text/plain": [
              "For test case:\n"
            ],
            "text/html": [
              "<pre style=\"white-space:pre;overflow-x:auto;line-height:normal;font-family:Menlo,'DejaVu Sans Mono',consolas,'Courier New',monospace\">For test case:\n",
              "</pre>\n"
            ]
          },
          "metadata": {}
        },
        {
          "output_type": "display_data",
          "data": {
            "text/plain": [
              "\n"
            ],
            "text/html": [
              "<pre style=\"white-space:pre;overflow-x:auto;line-height:normal;font-family:Menlo,'DejaVu Sans Mono',consolas,'Courier New',monospace\">\n",
              "</pre>\n"
            ]
          },
          "metadata": {}
        },
        {
          "output_type": "display_data",
          "data": {
            "text/plain": [
              "  - input: The efficacy of flunarizine compared with placebo for migraine prophylaxis in children with classic or \n",
              "common migraine was evaluated in 2 placebo-controlled studies in 118 subjects. Flunarizine 5 mg/day for 12 weeks \n",
              "resulted in statistically significant decreases in migraine attack frequency from baseline. Additionally, \n",
              "comparison of migraine frequency at the end of study showed statistically significantly fewer migraines with \n",
              "flunarizine versus placebo. Treatment with flunarizine also produced significant reductions from baseline in the \n",
              "duration of migraine attacks. The efficacy of flunarizine for migraine prophylaxis in children was compared with \n",
              "topiramate, propranolol, dihydroergotamine, amitriptyline, cyproheptadine, and    acetylsalicylic acid across 5 \n",
              "active-controlled studies in 278 subjects.The randomized, double-blind study by Lütschg and Vassella (1990) showed \n",
              "that 4-month treatment with flunarizine 5 to 10 mg/day or propranolol 30 to 120 mg/day produced similar reductions \n",
              "in the frequency of migraine attacks (76.4% flunarizine vs 73.3% propranolol) in children with simple or classic \n",
              "migraine. However, flunarizine had no effect on the duration or intensity of migraine attacks, whereas propranolol \n",
              "showed a decrease in migraine intensity. Similarly, the 4-month, open-label, active-controlled study by Hirfanoglu \n",
              "et al (1987) in children with migraine with or without aura showed a 71.5% reduction in migraine frequency with \n",
              "flunarizine 5 to 10 mg/day; corresponding reductions with amitriptyline 0.5 mg/kg/day, cyproheptadine 0.2 \n",
              "mg/kg/day, and propranolol 10 to 40 mg/day were 80.1%, 78.8%, and 68.2%, respectively. The 6-month non-randomized \n",
              "comparator study by Topcu et al (2014) reported significant decreases in PedMIDAS scores with flunarizine 5 to 10 \n",
              "mg/day, topiramate 1 to 2 mg/kg/day, and propranolol 20 to 40 mg/day, although reductions with topiramate and \n",
              "propranolol were significantly greater compared with flunarizine. Lastra Martinez et al (1990) found similar \n",
              "efficacy with flunarizine (10 mg/day) and dihydroergotamine (3 doses of 1.5 mg/day per week after Week 3) (79% and \n",
              "87% subjects with improvement, respectively) in migraine frequency, intensity, and duration in children with \n",
              "classic or common migraine. In a prospective, double-blind study in children with classic or uncomplicated \n",
              "migraine, there were no significant differences between flunarizine 5 to 10 mg/day and acetylsalicylic acid 100 to \n",
              "200 mg/day in reduction of migraine attack frequency or symptoms. An additional study compared the efficacy of \n",
              "flunarizine with flunarizine combined with behavioral therapy in 90 children with migraine.Flunarizine, at doses of\n",
              "0.2 mg/kg/day up to 10 mg/day, administered for 3 months was found to be more effective when combined with \n",
              "behavioral therapy versus monotherapy, as shown by significantly lower PedMIDAS scores.Four non-controlled \n",
              "open-label studies in 263 subjects are supportive for the efficacy of flunarizine for prevention of migraine in \n",
              "children. An open-label study of flunarizine 10 mg/day administered for 8 weeks to 200 children and adolescents \n",
              "with migraine found a significant decrease in migraine attack frequency and severity. Boccia et al (2006) reported \n",
              "significantly decreased migraine frequency at 1 and 2 months after daily administration of flunarizine 5 mg in \n",
              "children with migraine. Similarly, Guidetti reported in children with common or classic migraine a significant \n",
              "decrease in migraine frequency after 1 month of treatment with flunarizine 5 mg/day, which was maintained after 6 \n",
              "months of treatment. Visudtibhan et al (2004) found that 66.7% of children administered flunarizine 5 to 10 mg/day \n",
              "had a decrease in migraine frequency. Overall, the reviewed efficacy data from studies of flunarizine in adults and\n",
              "children with migraine support the authorized indication of flunarizine in Vietnam for the maintenance treatment of\n",
              "migraine, when other treatments are ineffective or poorly tolerated. The reviewed studies provide evidence \n",
              "supporting the safety of flunarizine in children with migraine. Adverse events reported with flunarizine in 2 \n",
              "placebo-controlled studies with children included drowsiness, weight gain, GI complaints, and fatigue; there were \n",
              "no SAEs reported. Flunarizine had no effect on routine laboratory assessments, blood pressure, or \n",
              "electroencephalogram measurements. Adverse events with flunarizine across the 6 active\u0002controlled studies included \n",
              "drowsiness, paresthesia, increased appetite, weight gain, increased fatigue, shortness of breath, concentration \n",
              "disorders, and stomach pain. No SAEs or cases of EPS were observed. No AEs were reported with flunarizine in \n",
              "non-controlled open-label studies.\n"
            ],
            "text/html": [
              "<pre style=\"white-space:pre;overflow-x:auto;line-height:normal;font-family:Menlo,'DejaVu Sans Mono',consolas,'Courier New',monospace\">  - input: The efficacy of flunarizine compared with placebo for migraine prophylaxis in children with classic or \n",
              "common migraine was evaluated in 2 placebo-controlled studies in 118 subjects. Flunarizine 5 mg/day for 12 weeks \n",
              "resulted in statistically significant decreases in migraine attack frequency from baseline. Additionally, \n",
              "comparison of migraine frequency at the end of study showed statistically significantly fewer migraines with \n",
              "flunarizine versus placebo. Treatment with flunarizine also produced significant reductions from baseline in the \n",
              "duration of migraine attacks. The efficacy of flunarizine for migraine prophylaxis in children was compared with \n",
              "topiramate, propranolol, dihydroergotamine, amitriptyline, cyproheptadine, and    acetylsalicylic acid across 5 \n",
              "active-controlled studies in 278 subjects.The randomized, double-blind study by Lütschg and Vassella (1990) showed \n",
              "that 4-month treatment with flunarizine 5 to 10 mg/day or propranolol 30 to 120 mg/day produced similar reductions \n",
              "in the frequency of migraine attacks (76.4% flunarizine vs 73.3% propranolol) in children with simple or classic \n",
              "migraine. However, flunarizine had no effect on the duration or intensity of migraine attacks, whereas propranolol \n",
              "showed a decrease in migraine intensity. Similarly, the 4-month, open-label, active-controlled study by Hirfanoglu \n",
              "et al (1987) in children with migraine with or without aura showed a 71.5% reduction in migraine frequency with \n",
              "flunarizine 5 to 10 mg/day; corresponding reductions with amitriptyline 0.5 mg/kg/day, cyproheptadine 0.2 \n",
              "mg/kg/day, and propranolol 10 to 40 mg/day were 80.1%, 78.8%, and 68.2%, respectively. The 6-month non-randomized \n",
              "comparator study by Topcu et al (2014) reported significant decreases in PedMIDAS scores with flunarizine 5 to 10 \n",
              "mg/day, topiramate 1 to 2 mg/kg/day, and propranolol 20 to 40 mg/day, although reductions with topiramate and \n",
              "propranolol were significantly greater compared with flunarizine. Lastra Martinez et al (1990) found similar \n",
              "efficacy with flunarizine (10 mg/day) and dihydroergotamine (3 doses of 1.5 mg/day per week after Week 3) (79% and \n",
              "87% subjects with improvement, respectively) in migraine frequency, intensity, and duration in children with \n",
              "classic or common migraine. In a prospective, double-blind study in children with classic or uncomplicated \n",
              "migraine, there were no significant differences between flunarizine 5 to 10 mg/day and acetylsalicylic acid 100 to \n",
              "200 mg/day in reduction of migraine attack frequency or symptoms. An additional study compared the efficacy of \n",
              "flunarizine with flunarizine combined with behavioral therapy in 90 children with migraine.Flunarizine, at doses of\n",
              "0.2 mg/kg/day up to 10 mg/day, administered for 3 months was found to be more effective when combined with \n",
              "behavioral therapy versus monotherapy, as shown by significantly lower PedMIDAS scores.Four non-controlled \n",
              "open-label studies in 263 subjects are supportive for the efficacy of flunarizine for prevention of migraine in \n",
              "children. An open-label study of flunarizine 10 mg/day administered for 8 weeks to 200 children and adolescents \n",
              "with migraine found a significant decrease in migraine attack frequency and severity. Boccia et al (2006) reported \n",
              "significantly decreased migraine frequency at 1 and 2 months after daily administration of flunarizine 5 mg in \n",
              "children with migraine. Similarly, Guidetti reported in children with common or classic migraine a significant \n",
              "decrease in migraine frequency after 1 month of treatment with flunarizine 5 mg/day, which was maintained after 6 \n",
              "months of treatment. Visudtibhan et al (2004) found that 66.7% of children administered flunarizine 5 to 10 mg/day \n",
              "had a decrease in migraine frequency. Overall, the reviewed efficacy data from studies of flunarizine in adults and\n",
              "children with migraine support the authorized indication of flunarizine in Vietnam for the maintenance treatment of\n",
              "migraine, when other treatments are ineffective or poorly tolerated. The reviewed studies provide evidence \n",
              "supporting the safety of flunarizine in children with migraine. Adverse events reported with flunarizine in 2 \n",
              "placebo-controlled studies with children included drowsiness, weight gain, GI complaints, and fatigue; there were \n",
              "no SAEs reported. Flunarizine had no effect on routine laboratory assessments, blood pressure, or \n",
              "electroencephalogram measurements. Adverse events with flunarizine across the 6 active\u0002controlled studies included \n",
              "drowsiness, paresthesia, increased appetite, weight gain, increased fatigue, shortness of breath, concentration \n",
              "disorders, and stomach pain. No SAEs or cases of EPS were observed. No AEs were reported with flunarizine in \n",
              "non-controlled open-label studies.\n",
              "</pre>\n"
            ]
          },
          "metadata": {}
        },
        {
          "output_type": "display_data",
          "data": {
            "text/plain": [
              "  - actual output: The following 10 clinical studies evaluate the effectiveness of various treatments, including \n",
              "flunarizine, propranolol, and acetylsalicylic acid, in managing migraine conditions in children and adolescents. \n",
              "Boccia et al (2006) conducted a randomized, placebo-controlled, double-blind study. Chen et al (2014) carried out a\n",
              "randomized controlled study, while Hirfanoglu et al (2009) performed a controlled clinical trial. Lutschg et al \n",
              "(1990) executed a randomized double-blind study. Both Martinez et al (1990) and Pothmann et al (1987) undertook \n",
              "double-blind studies. Prospective studies were conducted by Min et al (2012), Topcu et al (2014), and Visudtibhan \n",
              "et al (2004). The type of study conducted by Guidetti et al (1987) was not specified. Boccia et al (2006) in their \n",
              "randomized, placebo-controlled, double-blind study found that Flunarizine significantly decreased the \n",
              "gastrointestinal symptoms with no relevant side-effects reported in a population of 50 children with migraines, \n",
              "although the age range was not specified. Chen et al (2014) in a randomized controlled study involving 90 pediatric\n",
              "patients with migraines aged between 8-14 years, found that a combination of behavioral therapy and pharmacological\n",
              "treatment had better efficacy, however, the efficacy and safety were not specified. In a controlled clinical trial,\n",
              "Hirfanoglu et al (2009) found that all four drugs decreased the frequency, duration, and severity of headaches in \n",
              "77 children with migraines, aged 12.98 ± 3.11 years, but no drug was found to be superior in terms of reducing \n",
              "cytokine levels. Lutschg et al (1990) in a randomized double-blind study involving 33 children aged 3 to 15 years, \n",
              "found that both drugs reduced the number of migraine attacks, but temporary side effects occurred in some patients \n",
              "leading to the termination of treatment in two patients. In a double-blind study, Martinez et al (1990) and \n",
              "Pothmann et al (1987) found significant improvement in the frequency, intensity, and duration of crises in 80 \n",
              "children aged between 7 and 17 years, but side effects were reported in both groups, which were mild and temporary.\n",
              "In a prospective study, Min et al (2012), Topcu et al (2014), and Visudtibhan et al (2004) found that the frequency\n",
              "and degree of headaches were significantly decreased after therapy in 288 children and adolescents with migraines, \n",
              "aged between 6 and 17 years, and that Flunarizine for migraine prophylactic treatment is effective and safe, \n",
              "although some side effects such as dizziness, lack of attention, and palpitations were reported with topiramate \n",
              "treatment. Lastly, Guidetti et al (1987) in a study with unspecified design involving 13 children (4 girls and 9 \n",
              "boys) between the ages of 10 and 13 years with severe migraines, found a significant decrease in attack frequency \n",
              "and that Flunarizine has no serious side effects and is trouble-free for courses of 2 months. All studies concluded\n",
              "that flunarizine is effective in reducing the frequency and severity of migraines in children. It was also found to\n",
              "be safe with minimal side effects, most commonly increased fatigue. Some studies found flunarizine to be more \n",
              "effective when combined with other treatments, such as behavioral therapy or other prophylactic drugs. However, one\n",
              "study found that flunarizine was less effective than topiramate and propranolol in reducing the PedMIDAS scores, a \n",
              "measure of migraine severity. Another study found that flunarizine was less effective in children with vegetative \n",
              "lability. Despite these differences, the overall consensus is that flunarizine is a beneficial treatment for \n",
              "pediatric migraines.\n"
            ],
            "text/html": [
              "<pre style=\"white-space:pre;overflow-x:auto;line-height:normal;font-family:Menlo,'DejaVu Sans Mono',consolas,'Courier New',monospace\">  - actual output: The following 10 clinical studies evaluate the effectiveness of various treatments, including \n",
              "flunarizine, propranolol, and acetylsalicylic acid, in managing migraine conditions in children and adolescents. \n",
              "Boccia et al (2006) conducted a randomized, placebo-controlled, double-blind study. Chen et al (2014) carried out a\n",
              "randomized controlled study, while Hirfanoglu et al (2009) performed a controlled clinical trial. Lutschg et al \n",
              "(1990) executed a randomized double-blind study. Both Martinez et al (1990) and Pothmann et al (1987) undertook \n",
              "double-blind studies. Prospective studies were conducted by Min et al (2012), Topcu et al (2014), and Visudtibhan \n",
              "et al (2004). The type of study conducted by Guidetti et al (1987) was not specified. Boccia et al (2006) in their \n",
              "randomized, placebo-controlled, double-blind study found that Flunarizine significantly decreased the \n",
              "gastrointestinal symptoms with no relevant side-effects reported in a population of 50 children with migraines, \n",
              "although the age range was not specified. Chen et al (2014) in a randomized controlled study involving 90 pediatric\n",
              "patients with migraines aged between 8-14 years, found that a combination of behavioral therapy and pharmacological\n",
              "treatment had better efficacy, however, the efficacy and safety were not specified. In a controlled clinical trial,\n",
              "Hirfanoglu et al (2009) found that all four drugs decreased the frequency, duration, and severity of headaches in \n",
              "77 children with migraines, aged 12.98 ± 3.11 years, but no drug was found to be superior in terms of reducing \n",
              "cytokine levels. Lutschg et al (1990) in a randomized double-blind study involving 33 children aged 3 to 15 years, \n",
              "found that both drugs reduced the number of migraine attacks, but temporary side effects occurred in some patients \n",
              "leading to the termination of treatment in two patients. In a double-blind study, Martinez et al (1990) and \n",
              "Pothmann et al (1987) found significant improvement in the frequency, intensity, and duration of crises in 80 \n",
              "children aged between 7 and 17 years, but side effects were reported in both groups, which were mild and temporary.\n",
              "In a prospective study, Min et al (2012), Topcu et al (2014), and Visudtibhan et al (2004) found that the frequency\n",
              "and degree of headaches were significantly decreased after therapy in 288 children and adolescents with migraines, \n",
              "aged between 6 and 17 years, and that Flunarizine for migraine prophylactic treatment is effective and safe, \n",
              "although some side effects such as dizziness, lack of attention, and palpitations were reported with topiramate \n",
              "treatment. Lastly, Guidetti et al (1987) in a study with unspecified design involving 13 children (4 girls and 9 \n",
              "boys) between the ages of 10 and 13 years with severe migraines, found a significant decrease in attack frequency \n",
              "and that Flunarizine has no serious side effects and is trouble-free for courses of 2 months. All studies concluded\n",
              "that flunarizine is effective in reducing the frequency and severity of migraines in children. It was also found to\n",
              "be safe with minimal side effects, most commonly increased fatigue. Some studies found flunarizine to be more \n",
              "effective when combined with other treatments, such as behavioral therapy or other prophylactic drugs. However, one\n",
              "study found that flunarizine was less effective than topiramate and propranolol in reducing the PedMIDAS scores, a \n",
              "measure of migraine severity. Another study found that flunarizine was less effective in children with vegetative \n",
              "lability. Despite these differences, the overall consensus is that flunarizine is a beneficial treatment for \n",
              "pediatric migraines.\n",
              "</pre>\n"
            ]
          },
          "metadata": {}
        },
        {
          "output_type": "display_data",
          "data": {
            "text/plain": [
              "  - expected output: None\n"
            ],
            "text/html": [
              "<pre style=\"white-space:pre;overflow-x:auto;line-height:normal;font-family:Menlo,'DejaVu Sans Mono',consolas,'Courier New',monospace\">  - expected output: None\n",
              "</pre>\n"
            ]
          },
          "metadata": {}
        },
        {
          "output_type": "display_data",
          "data": {
            "text/plain": [
              "  - context: None\n"
            ],
            "text/html": [
              "<pre style=\"white-space:pre;overflow-x:auto;line-height:normal;font-family:Menlo,'DejaVu Sans Mono',consolas,'Courier New',monospace\">  - context: None\n",
              "</pre>\n"
            ]
          },
          "metadata": {}
        },
        {
          "output_type": "display_data",
          "data": {
            "text/plain": [
              "  - retrieval context: None\n"
            ],
            "text/html": [
              "<pre style=\"white-space:pre;overflow-x:auto;line-height:normal;font-family:Menlo,'DejaVu Sans Mono',consolas,'Courier New',monospace\">  - retrieval context: None\n",
              "</pre>\n"
            ]
          },
          "metadata": {}
        },
        {
          "output_type": "display_data",
          "data": {
            "text/plain": [
              "\n"
            ],
            "text/html": [
              "<pre style=\"white-space:pre;overflow-x:auto;line-height:normal;font-family:Menlo,'DejaVu Sans Mono',consolas,'Courier New',monospace\">\n",
              "</pre>\n"
            ]
          },
          "metadata": {}
        },
        {
          "output_type": "display_data",
          "data": {
            "text/plain": [
              "----------------------------------------------------------------------\n"
            ],
            "text/html": [
              "<pre style=\"white-space:pre;overflow-x:auto;line-height:normal;font-family:Menlo,'DejaVu Sans Mono',consolas,'Courier New',monospace\">----------------------------------------------------------------------\n",
              "</pre>\n"
            ]
          },
          "metadata": {}
        },
        {
          "output_type": "display_data",
          "data": {
            "text/plain": [
              "✅ Tests finished! Run \u001b[32m\"deepeval login\"\u001b[0m to view evaluation results on the web.\n"
            ],
            "text/html": [
              "<pre style=\"white-space:pre;overflow-x:auto;line-height:normal;font-family:Menlo,'DejaVu Sans Mono',consolas,'Courier New',monospace\">✅ Tests finished! Run <span style=\"color: #008000; text-decoration-color: #008000\">\"deepeval login\"</span> to view evaluation results on the web.\n",
              "</pre>\n"
            ]
          },
          "metadata": {}
        },
        {
          "output_type": "display_data",
          "data": {
            "text/plain": [],
            "text/html": [
              "<pre style=\"white-space:pre;overflow-x:auto;line-height:normal;font-family:Menlo,'DejaVu Sans Mono',consolas,'Courier New',monospace\"></pre>\n"
            ]
          },
          "metadata": {}
        },
        {
          "output_type": "display_data",
          "data": {
            "text/plain": [
              "\n"
            ],
            "text/html": [
              "<pre style=\"white-space:pre;overflow-x:auto;line-height:normal;font-family:Menlo,'DejaVu Sans Mono',consolas,'Courier New',monospace\">\n",
              "</pre>\n"
            ]
          },
          "metadata": {}
        },
        {
          "output_type": "stream",
          "name": "stdout",
          "text": [
            "eval: [TestResult(success=False, metrics=[<deepeval.metrics.summarization.SummarizationMetric object at 0x7c5bb999ffa0>], input='The efficacy of flunarizine compared with placebo for migraine prophylaxis in children with classic or common migraine was evaluated in 2 placebo-controlled studies in 118 subjects. Flunarizine 5 mg/day for 12 weeks resulted in statistically significant decreases in migraine attack frequency from baseline. Additionally, comparison of migraine frequency at the end of study showed statistically significantly fewer migraines with flunarizine versus placebo. Treatment with flunarizine also produced significant reductions from baseline in the duration of migraine attacks. The efficacy of flunarizine for migraine prophylaxis in children was compared with topiramate, propranolol, dihydroergotamine, amitriptyline, cyproheptadine, and    acetylsalicylic acid across 5 active-controlled studies in 278 subjects.The randomized, double-blind study by Lütschg and Vassella (1990) showed that 4-month treatment with flunarizine 5 to 10 mg/day or propranolol 30 to 120 mg/day produced similar reductions in the frequency of migraine attacks (76.4% flunarizine vs 73.3% propranolol) in children with simple or classic migraine. However, flunarizine had no effect on the duration or intensity of migraine attacks, whereas propranolol showed a decrease in migraine intensity. Similarly, the 4-month, open-label, active-controlled study by Hirfanoglu et al (1987) in children with migraine with or without aura showed a 71.5% reduction in migraine frequency with flunarizine 5 to 10 mg/day; corresponding reductions with amitriptyline 0.5 mg/kg/day, cyproheptadine 0.2 mg/kg/day, and propranolol 10 to 40 mg/day were 80.1%, 78.8%, and 68.2%, respectively. The 6-month non-randomized comparator study by Topcu et al (2014) reported significant decreases in PedMIDAS scores with flunarizine 5 to 10 mg/day, topiramate 1 to 2 mg/kg/day, and propranolol 20 to 40 mg/day, although reductions with topiramate and propranolol were significantly greater compared with flunarizine. Lastra Martinez et al (1990) found similar efficacy with flunarizine (10 mg/day) and dihydroergotamine (3 doses of 1.5 mg/day per week after Week 3) (79% and 87% subjects with improvement, respectively) in migraine frequency, intensity, and duration in children with classic or common migraine. In a prospective, double-blind study in children with classic or uncomplicated migraine, there were no significant differences between flunarizine 5 to 10 mg/day and acetylsalicylic acid 100 to 200 mg/day in reduction of migraine attack frequency or symptoms. An additional study compared the efficacy of flunarizine with flunarizine combined with behavioral therapy in 90 children with migraine.Flunarizine, at doses of 0.2 mg/kg/day up to 10 mg/day, administered for 3 months was found to be more effective when combined with behavioral therapy versus monotherapy, as shown by significantly lower PedMIDAS scores.Four non-controlled open-label studies in 263 subjects are supportive for the efficacy of flunarizine for prevention of migraine in children. An open-label study of flunarizine 10 mg/day administered for 8 weeks to 200 children and adolescents with migraine found a significant decrease in migraine attack frequency and severity. Boccia et al (2006) reported significantly decreased migraine frequency at 1 and 2 months after daily administration of flunarizine 5 mg in children with migraine. Similarly, Guidetti reported in children with common or classic migraine a significant decrease in migraine frequency after 1 month of treatment with flunarizine 5 mg/day, which was maintained after 6 months of treatment. Visudtibhan et al (2004) found that 66.7% of children administered flunarizine 5 to 10 mg/day had a decrease in migraine frequency. Overall, the reviewed efficacy data from studies of flunarizine in adults and children with migraine support the authorized indication of flunarizine in Vietnam for the maintenance treatment of migraine, when other treatments are ineffective or poorly tolerated. The reviewed studies provide evidence supporting the safety of flunarizine in children with migraine. Adverse events reported with flunarizine in 2 placebo-controlled studies with children included drowsiness, weight gain, GI complaints, and fatigue; there were no SAEs reported. Flunarizine had no effect on routine laboratory assessments, blood pressure, or electroencephalogram measurements. Adverse events with flunarizine across the 6 active\\x02controlled studies included drowsiness, paresthesia, increased appetite, weight gain, increased fatigue, shortness of breath, concentration disorders, and stomach pain. No SAEs or cases of EPS were observed. No AEs were reported with flunarizine in non-controlled open-label studies.', actual_output='The following 10 clinical studies evaluate the effectiveness of various treatments, including flunarizine, propranolol, and acetylsalicylic acid, in managing migraine conditions in children and adolescents. Boccia et al (2006) conducted a randomized, placebo-controlled, double-blind study. Chen et al (2014) carried out a randomized controlled study, while Hirfanoglu et al (2009) performed a controlled clinical trial. Lutschg et al (1990) executed a randomized double-blind study. Both Martinez et al (1990) and Pothmann et al (1987) undertook double-blind studies. Prospective studies were conducted by Min et al (2012), Topcu et al (2014), and Visudtibhan et al (2004). The type of study conducted by Guidetti et al (1987) was not specified. Boccia et al (2006) in their randomized, placebo-controlled, double-blind study found that Flunarizine significantly decreased the gastrointestinal symptoms with no relevant side-effects reported in a population of 50 children with migraines, although the age range was not specified. Chen et al (2014) in a randomized controlled study involving 90 pediatric patients with migraines aged between 8-14 years, found that a combination of behavioral therapy and pharmacological treatment had better efficacy, however, the efficacy and safety were not specified. In a controlled clinical trial, Hirfanoglu et al (2009) found that all four drugs decreased the frequency, duration, and severity of headaches in 77 children with migraines, aged 12.98 ± 3.11 years, but no drug was found to be superior in terms of reducing cytokine levels. Lutschg et al (1990) in a randomized double-blind study involving 33 children aged 3 to 15 years, found that both drugs reduced the number of migraine attacks, but temporary side effects occurred in some patients leading to the termination of treatment in two patients. In a double-blind study, Martinez et al (1990) and Pothmann et al (1987) found significant improvement in the frequency, intensity, and duration of crises in 80 children aged between 7 and 17 years, but side effects were reported in both groups, which were mild and temporary. In a prospective study, Min et al (2012), Topcu et al (2014), and Visudtibhan et al (2004) found that the frequency and degree of headaches were significantly decreased after therapy in 288 children and adolescents with migraines, aged between 6 and 17 years, and that Flunarizine for migraine prophylactic treatment is effective and safe, although some side effects such as dizziness, lack of attention, and palpitations were reported with topiramate treatment. Lastly, Guidetti et al (1987) in a study with unspecified design involving 13 children (4 girls and 9 boys) between the ages of 10 and 13 years with severe migraines, found a significant decrease in attack frequency and that Flunarizine has no serious side effects and is trouble-free for courses of 2 months. All studies concluded that flunarizine is effective in reducing the frequency and severity of migraines in children. It was also found to be safe with minimal side effects, most commonly increased fatigue. Some studies found flunarizine to be more effective when combined with other treatments, such as behavioral therapy or other prophylactic drugs. However, one study found that flunarizine was less effective than topiramate and propranolol in reducing the PedMIDAS scores, a measure of migraine severity. Another study found that flunarizine was less effective in children with vegetative lability. Despite these differences, the overall consensus is that flunarizine is a beneficial treatment for pediatric migraines.', expected_output=None, context=None, retrieval_context=None)]\n"
          ]
        }
      ]
    },
    {
      "cell_type": "markdown",
      "source": [
        "### *1.2.3. Incorrect Values*"
      ],
      "metadata": {
        "id": "IBYTmH6J-hGV"
      }
    },
    {
      "cell_type": "code",
      "source": [
        "from deepeval import evaluate\n",
        "from deepeval.metrics import SummarizationMetric\n",
        "from deepeval.test_case import LLMTestCase\n",
        "\n",
        "# For AzureChatOepnAI\n",
        "from langchain_openai import AzureChatOpenAI\n",
        "\n",
        "custom_azure_openai_model = AzureChatOpenAI(\n",
        "    openai_api_version='2023-03-15-preview',\n",
        "    azure_deployment='gpt4-test',\n",
        "    azure_endpoint='https://pharma-ml-gpt4.openai.azure.com/',\n",
        "    openai_api_key='105a50f735f64837afc9259228b5a913',\n",
        ")\n",
        "\n",
        "# answer_relevancy_metric = AnswerRelevancyMetric(model=custom_azure_openai_model)\n",
        "\n",
        "test_case = LLMTestCase(input=artc_in, actual_output=artact_out)\n",
        "\n",
        "metric = SummarizationMetric(\n",
        "    threshold=0.5,\n",
        "    model=custom_azure_openai_model,\n",
        "    # model=\"gpt-4\",\n",
        "    assessment_questions=[\n",
        "        \"Is the inclusion score based on a percentage of 'yes' answers?\",\n",
        "        \"Does the score ensure the summary's accuracy with the source?\",\n",
        "        \"Does a higher score mean a more comprehensive summary?\",\n",
        "        \"Is the actual_output contains some incorrect values?\"\n",
        "    ]\n",
        ")\n",
        "\n",
        "metric.measure(test_case)\n",
        "print(f\"metric.measure(test_case): {metric.measure(test_case)}\")\n",
        "print(f\"metric.score: {metric.score}\")\n",
        "\n",
        "# or evaluate test cases in bulk\n",
        "eval = evaluate([test_case], [metric])\n",
        "print(f\"eval: {eval}\") # runing it take -->> 1m 4S"
      ],
      "metadata": {
        "colab": {
          "base_uri": "https://localhost:8080/",
          "height": 1000,
          "referenced_widgets": [
            "daa65efeaea049708e5772f0a012be8b",
            "7bc186e01843495b8cc21f3bde356823",
            "2f81d9e3ad12415489ab056b9d7a977a",
            "3125bf2b83344d86b6c637562b234726",
            "0c8106c6cad14ba4b08a29a408ee4271",
            "eaed34037f584faf9db75fd3811d5c7b",
            "af0a3feb7d21459d85af412118f69a5a",
            "6d65ae7dc7b54b7bbfdc1ff46a556309"
          ]
        },
        "id": "W-DpAHxO-uM5",
        "outputId": "26001896-523b-46fd-df6f-8a91dd841ecf"
      },
      "execution_count": 23,
      "outputs": [
        {
          "output_type": "display_data",
          "data": {
            "text/plain": [
              "Output()"
            ],
            "application/vnd.jupyter.widget-view+json": {
              "version_major": 2,
              "version_minor": 0,
              "model_id": "daa65efeaea049708e5772f0a012be8b"
            }
          },
          "metadata": {}
        },
        {
          "output_type": "display_data",
          "data": {
            "text/plain": [],
            "text/html": [
              "<pre style=\"white-space:pre;overflow-x:auto;line-height:normal;font-family:Menlo,'DejaVu Sans Mono',consolas,'Courier New',monospace\"></pre>\n"
            ]
          },
          "metadata": {}
        },
        {
          "output_type": "display_data",
          "data": {
            "text/plain": [
              "\n"
            ],
            "text/html": [
              "<pre style=\"white-space:pre;overflow-x:auto;line-height:normal;font-family:Menlo,'DejaVu Sans Mono',consolas,'Courier New',monospace\">\n",
              "</pre>\n"
            ]
          },
          "metadata": {}
        },
        {
          "output_type": "display_data",
          "data": {
            "text/plain": [
              "Output()"
            ],
            "application/vnd.jupyter.widget-view+json": {
              "version_major": 2,
              "version_minor": 0,
              "model_id": "2f81d9e3ad12415489ab056b9d7a977a"
            }
          },
          "metadata": {}
        },
        {
          "output_type": "display_data",
          "data": {
            "text/plain": [],
            "text/html": [
              "<pre style=\"white-space:pre;overflow-x:auto;line-height:normal;font-family:Menlo,'DejaVu Sans Mono',consolas,'Courier New',monospace\"></pre>\n"
            ]
          },
          "metadata": {}
        },
        {
          "output_type": "display_data",
          "data": {
            "text/plain": [
              "\n"
            ],
            "text/html": [
              "<pre style=\"white-space:pre;overflow-x:auto;line-height:normal;font-family:Menlo,'DejaVu Sans Mono',consolas,'Courier New',monospace\">\n",
              "</pre>\n"
            ]
          },
          "metadata": {}
        },
        {
          "output_type": "display_data",
          "data": {
            "text/plain": [
              "Output()"
            ],
            "application/vnd.jupyter.widget-view+json": {
              "version_major": 2,
              "version_minor": 0,
              "model_id": "0c8106c6cad14ba4b08a29a408ee4271"
            }
          },
          "metadata": {}
        },
        {
          "output_type": "display_data",
          "data": {
            "text/plain": [
              "Output()"
            ],
            "application/vnd.jupyter.widget-view+json": {
              "version_major": 2,
              "version_minor": 0,
              "model_id": "af0a3feb7d21459d85af412118f69a5a"
            }
          },
          "metadata": {}
        },
        {
          "output_type": "stream",
          "name": "stdout",
          "text": [
            "metric.measure(test_case): 0.6000000000000001\n",
            "metric.score: 0.6000000000000001\n"
          ]
        },
        {
          "output_type": "display_data",
          "data": {
            "text/plain": [],
            "text/html": [
              "<pre style=\"white-space:pre;overflow-x:auto;line-height:normal;font-family:Menlo,'DejaVu Sans Mono',consolas,'Courier New',monospace\"></pre>\n"
            ]
          },
          "metadata": {}
        },
        {
          "output_type": "display_data",
          "data": {
            "text/plain": [
              "\n"
            ],
            "text/html": [
              "<pre style=\"white-space:pre;overflow-x:auto;line-height:normal;font-family:Menlo,'DejaVu Sans Mono',consolas,'Courier New',monospace\">\n",
              "</pre>\n"
            ]
          },
          "metadata": {}
        },
        {
          "output_type": "display_data",
          "data": {
            "text/plain": [
              "\n"
            ],
            "text/html": [
              "<pre style=\"white-space:pre;overflow-x:auto;line-height:normal;font-family:Menlo,'DejaVu Sans Mono',consolas,'Courier New',monospace\">\n",
              "</pre>\n"
            ]
          },
          "metadata": {}
        },
        {
          "output_type": "display_data",
          "data": {
            "text/plain": [
              "======================================================================\n"
            ],
            "text/html": [
              "<pre style=\"white-space:pre;overflow-x:auto;line-height:normal;font-family:Menlo,'DejaVu Sans Mono',consolas,'Courier New',monospace\">======================================================================\n",
              "</pre>\n"
            ]
          },
          "metadata": {}
        },
        {
          "output_type": "display_data",
          "data": {
            "text/plain": [
              "\n"
            ],
            "text/html": [
              "<pre style=\"white-space:pre;overflow-x:auto;line-height:normal;font-family:Menlo,'DejaVu Sans Mono',consolas,'Courier New',monospace\">\n",
              "</pre>\n"
            ]
          },
          "metadata": {}
        },
        {
          "output_type": "display_data",
          "data": {
            "text/plain": [
              "Metrics Summary\n"
            ],
            "text/html": [
              "<pre style=\"white-space:pre;overflow-x:auto;line-height:normal;font-family:Menlo,'DejaVu Sans Mono',consolas,'Courier New',monospace\">Metrics Summary\n",
              "</pre>\n"
            ]
          },
          "metadata": {}
        },
        {
          "output_type": "display_data",
          "data": {
            "text/plain": [
              "\n"
            ],
            "text/html": [
              "<pre style=\"white-space:pre;overflow-x:auto;line-height:normal;font-family:Menlo,'DejaVu Sans Mono',consolas,'Courier New',monospace\">\n",
              "</pre>\n"
            ]
          },
          "metadata": {}
        },
        {
          "output_type": "display_data",
          "data": {
            "text/plain": [
              "  - ✅ Summarization (score: 0.6000000000000001, threshold: 0.5, evaluation model: azure-openai-chat, reason: None)\n"
            ],
            "text/html": [
              "<pre style=\"white-space:pre;overflow-x:auto;line-height:normal;font-family:Menlo,'DejaVu Sans Mono',consolas,'Courier New',monospace\">  - ✅ Summarization (score: 0.6000000000000001, threshold: 0.5, evaluation model: azure-openai-chat, reason: None)\n",
              "</pre>\n"
            ]
          },
          "metadata": {}
        },
        {
          "output_type": "display_data",
          "data": {
            "text/plain": [
              "      - Alignment (score: 0.6000000000000001)\n"
            ],
            "text/html": [
              "<pre style=\"white-space:pre;overflow-x:auto;line-height:normal;font-family:Menlo,'DejaVu Sans Mono',consolas,'Courier New',monospace\">      - Alignment (score: 0.6000000000000001)\n",
              "</pre>\n"
            ]
          },
          "metadata": {}
        },
        {
          "output_type": "display_data",
          "data": {
            "text/plain": [
              "      - Inclusion (score: 1.0)\n"
            ],
            "text/html": [
              "<pre style=\"white-space:pre;overflow-x:auto;line-height:normal;font-family:Menlo,'DejaVu Sans Mono',consolas,'Courier New',monospace\">      - Inclusion (score: 1.0)\n",
              "</pre>\n"
            ]
          },
          "metadata": {}
        },
        {
          "output_type": "display_data",
          "data": {
            "text/plain": [
              "\n"
            ],
            "text/html": [
              "<pre style=\"white-space:pre;overflow-x:auto;line-height:normal;font-family:Menlo,'DejaVu Sans Mono',consolas,'Courier New',monospace\">\n",
              "</pre>\n"
            ]
          },
          "metadata": {}
        },
        {
          "output_type": "display_data",
          "data": {
            "text/plain": [
              "For test case:\n"
            ],
            "text/html": [
              "<pre style=\"white-space:pre;overflow-x:auto;line-height:normal;font-family:Menlo,'DejaVu Sans Mono',consolas,'Courier New',monospace\">For test case:\n",
              "</pre>\n"
            ]
          },
          "metadata": {}
        },
        {
          "output_type": "display_data",
          "data": {
            "text/plain": [
              "\n"
            ],
            "text/html": [
              "<pre style=\"white-space:pre;overflow-x:auto;line-height:normal;font-family:Menlo,'DejaVu Sans Mono',consolas,'Courier New',monospace\">\n",
              "</pre>\n"
            ]
          },
          "metadata": {}
        },
        {
          "output_type": "display_data",
          "data": {
            "text/plain": [
              "  - input: The efficacy of flunarizine compared with placebo for migraine prophylaxis in children with classic or \n",
              "common migraine was evaluated in 2 placebo-controlled studies in 118 subjects. Flunarizine 5 mg/day for 12 weeks \n",
              "resulted in statistically significant decreases in migraine attack frequency from baseline. Additionally, \n",
              "comparison of migraine frequency at the end of study showed statistically significantly fewer migraines with \n",
              "flunarizine versus placebo. Treatment with flunarizine also produced significant reductions from baseline in the \n",
              "duration of migraine attacks. The efficacy of flunarizine for migraine prophylaxis in children was compared with \n",
              "topiramate, propranolol, dihydroergotamine, amitriptyline, cyproheptadine, and    acetylsalicylic acid across 5 \n",
              "active-controlled studies in 278 subjects.The randomized, double-blind study by Lütschg and Vassella (1990) showed \n",
              "that 4-month treatment with flunarizine 5 to 10 mg/day or propranolol 30 to 120 mg/day produced similar reductions \n",
              "in the frequency of migraine attacks (76.4% flunarizine vs 73.3% propranolol) in children with simple or classic \n",
              "migraine. However, flunarizine had no effect on the duration or intensity of migraine attacks, whereas propranolol \n",
              "showed a decrease in migraine intensity. Similarly, the 4-month, open-label, active-controlled study by Hirfanoglu \n",
              "et al (1987) in children with migraine with or without aura showed a 71.5% reduction in migraine frequency with \n",
              "flunarizine 5 to 10 mg/day; corresponding reductions with amitriptyline 0.5 mg/kg/day, cyproheptadine 0.2 \n",
              "mg/kg/day, and propranolol 10 to 40 mg/day were 80.1%, 78.8%, and 68.2%, respectively. The 6-month non-randomized \n",
              "comparator study by Topcu et al (2014) reported significant decreases in PedMIDAS scores with flunarizine 5 to 10 \n",
              "mg/day, topiramate 1 to 2 mg/kg/day, and propranolol 20 to 40 mg/day, although reductions with topiramate and \n",
              "propranolol were significantly greater compared with flunarizine. Lastra Martinez et al (1990) found similar \n",
              "efficacy with flunarizine (10 mg/day) and dihydroergotamine (3 doses of 1.5 mg/day per week after Week 3) (79% and \n",
              "87% subjects with improvement, respectively) in migraine frequency, intensity, and duration in children with \n",
              "classic or common migraine. In a prospective, double-blind study in children with classic or uncomplicated \n",
              "migraine, there were no significant differences between flunarizine 5 to 10 mg/day and acetylsalicylic acid 100 to \n",
              "200 mg/day in reduction of migraine attack frequency or symptoms. An additional study compared the efficacy of \n",
              "flunarizine with flunarizine combined with behavioral therapy in 90 children with migraine.Flunarizine, at doses of\n",
              "0.2 mg/kg/day up to 10 mg/day, administered for 3 months was found to be more effective when combined with \n",
              "behavioral therapy versus monotherapy, as shown by significantly lower PedMIDAS scores.Four non-controlled \n",
              "open-label studies in 263 subjects are supportive for the efficacy of flunarizine for prevention of migraine in \n",
              "children. An open-label study of flunarizine 10 mg/day administered for 8 weeks to 200 children and adolescents \n",
              "with migraine found a significant decrease in migraine attack frequency and severity. Boccia et al (2006) reported \n",
              "significantly decreased migraine frequency at 1 and 2 months after daily administration of flunarizine 5 mg in \n",
              "children with migraine. Similarly, Guidetti reported in children with common or classic migraine a significant \n",
              "decrease in migraine frequency after 1 month of treatment with flunarizine 5 mg/day, which was maintained after 6 \n",
              "months of treatment. Visudtibhan et al (2004) found that 66.7% of children administered flunarizine 5 to 10 mg/day \n",
              "had a decrease in migraine frequency. Overall, the reviewed efficacy data from studies of flunarizine in adults and\n",
              "children with migraine support the authorized indication of flunarizine in Vietnam for the maintenance treatment of\n",
              "migraine, when other treatments are ineffective or poorly tolerated. The reviewed studies provide evidence \n",
              "supporting the safety of flunarizine in children with migraine. Adverse events reported with flunarizine in 2 \n",
              "placebo-controlled studies with children included drowsiness, weight gain, GI complaints, and fatigue; there were \n",
              "no SAEs reported. Flunarizine had no effect on routine laboratory assessments, blood pressure, or \n",
              "electroencephalogram measurements. Adverse events with flunarizine across the 6 active\u0002controlled studies included \n",
              "drowsiness, paresthesia, increased appetite, weight gain, increased fatigue, shortness of breath, concentration \n",
              "disorders, and stomach pain. No SAEs or cases of EPS were observed. No AEs were reported with flunarizine in \n",
              "non-controlled open-label studies.\n"
            ],
            "text/html": [
              "<pre style=\"white-space:pre;overflow-x:auto;line-height:normal;font-family:Menlo,'DejaVu Sans Mono',consolas,'Courier New',monospace\">  - input: The efficacy of flunarizine compared with placebo for migraine prophylaxis in children with classic or \n",
              "common migraine was evaluated in 2 placebo-controlled studies in 118 subjects. Flunarizine 5 mg/day for 12 weeks \n",
              "resulted in statistically significant decreases in migraine attack frequency from baseline. Additionally, \n",
              "comparison of migraine frequency at the end of study showed statistically significantly fewer migraines with \n",
              "flunarizine versus placebo. Treatment with flunarizine also produced significant reductions from baseline in the \n",
              "duration of migraine attacks. The efficacy of flunarizine for migraine prophylaxis in children was compared with \n",
              "topiramate, propranolol, dihydroergotamine, amitriptyline, cyproheptadine, and    acetylsalicylic acid across 5 \n",
              "active-controlled studies in 278 subjects.The randomized, double-blind study by Lütschg and Vassella (1990) showed \n",
              "that 4-month treatment with flunarizine 5 to 10 mg/day or propranolol 30 to 120 mg/day produced similar reductions \n",
              "in the frequency of migraine attacks (76.4% flunarizine vs 73.3% propranolol) in children with simple or classic \n",
              "migraine. However, flunarizine had no effect on the duration or intensity of migraine attacks, whereas propranolol \n",
              "showed a decrease in migraine intensity. Similarly, the 4-month, open-label, active-controlled study by Hirfanoglu \n",
              "et al (1987) in children with migraine with or without aura showed a 71.5% reduction in migraine frequency with \n",
              "flunarizine 5 to 10 mg/day; corresponding reductions with amitriptyline 0.5 mg/kg/day, cyproheptadine 0.2 \n",
              "mg/kg/day, and propranolol 10 to 40 mg/day were 80.1%, 78.8%, and 68.2%, respectively. The 6-month non-randomized \n",
              "comparator study by Topcu et al (2014) reported significant decreases in PedMIDAS scores with flunarizine 5 to 10 \n",
              "mg/day, topiramate 1 to 2 mg/kg/day, and propranolol 20 to 40 mg/day, although reductions with topiramate and \n",
              "propranolol were significantly greater compared with flunarizine. Lastra Martinez et al (1990) found similar \n",
              "efficacy with flunarizine (10 mg/day) and dihydroergotamine (3 doses of 1.5 mg/day per week after Week 3) (79% and \n",
              "87% subjects with improvement, respectively) in migraine frequency, intensity, and duration in children with \n",
              "classic or common migraine. In a prospective, double-blind study in children with classic or uncomplicated \n",
              "migraine, there were no significant differences between flunarizine 5 to 10 mg/day and acetylsalicylic acid 100 to \n",
              "200 mg/day in reduction of migraine attack frequency or symptoms. An additional study compared the efficacy of \n",
              "flunarizine with flunarizine combined with behavioral therapy in 90 children with migraine.Flunarizine, at doses of\n",
              "0.2 mg/kg/day up to 10 mg/day, administered for 3 months was found to be more effective when combined with \n",
              "behavioral therapy versus monotherapy, as shown by significantly lower PedMIDAS scores.Four non-controlled \n",
              "open-label studies in 263 subjects are supportive for the efficacy of flunarizine for prevention of migraine in \n",
              "children. An open-label study of flunarizine 10 mg/day administered for 8 weeks to 200 children and adolescents \n",
              "with migraine found a significant decrease in migraine attack frequency and severity. Boccia et al (2006) reported \n",
              "significantly decreased migraine frequency at 1 and 2 months after daily administration of flunarizine 5 mg in \n",
              "children with migraine. Similarly, Guidetti reported in children with common or classic migraine a significant \n",
              "decrease in migraine frequency after 1 month of treatment with flunarizine 5 mg/day, which was maintained after 6 \n",
              "months of treatment. Visudtibhan et al (2004) found that 66.7% of children administered flunarizine 5 to 10 mg/day \n",
              "had a decrease in migraine frequency. Overall, the reviewed efficacy data from studies of flunarizine in adults and\n",
              "children with migraine support the authorized indication of flunarizine in Vietnam for the maintenance treatment of\n",
              "migraine, when other treatments are ineffective or poorly tolerated. The reviewed studies provide evidence \n",
              "supporting the safety of flunarizine in children with migraine. Adverse events reported with flunarizine in 2 \n",
              "placebo-controlled studies with children included drowsiness, weight gain, GI complaints, and fatigue; there were \n",
              "no SAEs reported. Flunarizine had no effect on routine laboratory assessments, blood pressure, or \n",
              "electroencephalogram measurements. Adverse events with flunarizine across the 6 active\u0002controlled studies included \n",
              "drowsiness, paresthesia, increased appetite, weight gain, increased fatigue, shortness of breath, concentration \n",
              "disorders, and stomach pain. No SAEs or cases of EPS were observed. No AEs were reported with flunarizine in \n",
              "non-controlled open-label studies.\n",
              "</pre>\n"
            ]
          },
          "metadata": {}
        },
        {
          "output_type": "display_data",
          "data": {
            "text/plain": [
              "  - actual output: The following 10 clinical studies evaluate the effectiveness of various treatments, including \n",
              "flunarizine, propranolol, and acetylsalicylic acid, in managing migraine conditions in children and adolescents. \n",
              "Boccia et al (2006) conducted a randomized, placebo-controlled, double-blind study. Chen et al (2014) carried out a\n",
              "randomized controlled study, while Hirfanoglu et al (2009) performed a controlled clinical trial. Lutschg et al \n",
              "(1990) executed a randomized double-blind study. Both Martinez et al (1990) and Pothmann et al (1987) undertook \n",
              "double-blind studies. Prospective studies were conducted by Min et al (2012), Topcu et al (2014), and Visudtibhan \n",
              "et al (2004). The type of study conducted by Guidetti et al (1987) was not specified. Boccia et al (2006) in their \n",
              "randomized, placebo-controlled, double-blind study found that Flunarizine significantly decreased the \n",
              "gastrointestinal symptoms with no relevant side-effects reported in a population of 50 children with migraines, \n",
              "although the age range was not specified. Chen et al (2014) in a randomized controlled study involving 90 pediatric\n",
              "patients with migraines aged between 8-14 years, found that a combination of behavioral therapy and pharmacological\n",
              "treatment had better efficacy, however, the efficacy and safety were not specified. In a controlled clinical trial,\n",
              "Hirfanoglu et al (2009) found that all four drugs decreased the frequency, duration, and severity of headaches in \n",
              "77 children with migraines, aged 12.98 ± 3.11 years, but no drug was found to be superior in terms of reducing \n",
              "cytokine levels. Lutschg et al (1990) in a randomized double-blind study involving 33 children aged 3 to 15 years, \n",
              "found that both drugs reduced the number of migraine attacks, but temporary side effects occurred in some patients \n",
              "leading to the termination of treatment in two patients. In a double-blind study, Martinez et al (1990) and \n",
              "Pothmann et al (1987) found significant improvement in the frequency, intensity, and duration of crises in 80 \n",
              "children aged between 7 and 17 years, but side effects were reported in both groups, which were mild and temporary.\n",
              "In a prospective study, Min et al (2012), Topcu et al (2014), and Visudtibhan et al (2004) found that the frequency\n",
              "and degree of headaches were significantly decreased after therapy in 288 children and adolescents with migraines, \n",
              "aged between 6 and 17 years, and that Flunarizine for migraine prophylactic treatment is effective and safe, \n",
              "although some side effects such as dizziness, lack of attention, and palpitations were reported with topiramate \n",
              "treatment. Lastly, Guidetti et al (1987) in a study with unspecified design involving 13 children (4 girls and 9 \n",
              "boys) between the ages of 10 and 13 years with severe migraines, found a significant decrease in attack frequency \n",
              "and that Flunarizine has no serious side effects and is trouble-free for courses of 2 months. All studies concluded\n",
              "that flunarizine is effective in reducing the frequency and severity of migraines in children. It was also found to\n",
              "be safe with minimal side effects, most commonly increased fatigue. Some studies found flunarizine to be more \n",
              "effective when combined with other treatments, such as behavioral therapy or other prophylactic drugs. However, one\n",
              "study found that flunarizine was less effective than topiramate and propranolol in reducing the PedMIDAS scores, a \n",
              "measure of migraine severity. Another study found that flunarizine was less effective in children with vegetative \n",
              "lability. Despite these differences, the overall consensus is that flunarizine is a beneficial treatment for \n",
              "pediatric migraines.\n"
            ],
            "text/html": [
              "<pre style=\"white-space:pre;overflow-x:auto;line-height:normal;font-family:Menlo,'DejaVu Sans Mono',consolas,'Courier New',monospace\">  - actual output: The following 10 clinical studies evaluate the effectiveness of various treatments, including \n",
              "flunarizine, propranolol, and acetylsalicylic acid, in managing migraine conditions in children and adolescents. \n",
              "Boccia et al (2006) conducted a randomized, placebo-controlled, double-blind study. Chen et al (2014) carried out a\n",
              "randomized controlled study, while Hirfanoglu et al (2009) performed a controlled clinical trial. Lutschg et al \n",
              "(1990) executed a randomized double-blind study. Both Martinez et al (1990) and Pothmann et al (1987) undertook \n",
              "double-blind studies. Prospective studies were conducted by Min et al (2012), Topcu et al (2014), and Visudtibhan \n",
              "et al (2004). The type of study conducted by Guidetti et al (1987) was not specified. Boccia et al (2006) in their \n",
              "randomized, placebo-controlled, double-blind study found that Flunarizine significantly decreased the \n",
              "gastrointestinal symptoms with no relevant side-effects reported in a population of 50 children with migraines, \n",
              "although the age range was not specified. Chen et al (2014) in a randomized controlled study involving 90 pediatric\n",
              "patients with migraines aged between 8-14 years, found that a combination of behavioral therapy and pharmacological\n",
              "treatment had better efficacy, however, the efficacy and safety were not specified. In a controlled clinical trial,\n",
              "Hirfanoglu et al (2009) found that all four drugs decreased the frequency, duration, and severity of headaches in \n",
              "77 children with migraines, aged 12.98 ± 3.11 years, but no drug was found to be superior in terms of reducing \n",
              "cytokine levels. Lutschg et al (1990) in a randomized double-blind study involving 33 children aged 3 to 15 years, \n",
              "found that both drugs reduced the number of migraine attacks, but temporary side effects occurred in some patients \n",
              "leading to the termination of treatment in two patients. In a double-blind study, Martinez et al (1990) and \n",
              "Pothmann et al (1987) found significant improvement in the frequency, intensity, and duration of crises in 80 \n",
              "children aged between 7 and 17 years, but side effects were reported in both groups, which were mild and temporary.\n",
              "In a prospective study, Min et al (2012), Topcu et al (2014), and Visudtibhan et al (2004) found that the frequency\n",
              "and degree of headaches were significantly decreased after therapy in 288 children and adolescents with migraines, \n",
              "aged between 6 and 17 years, and that Flunarizine for migraine prophylactic treatment is effective and safe, \n",
              "although some side effects such as dizziness, lack of attention, and palpitations were reported with topiramate \n",
              "treatment. Lastly, Guidetti et al (1987) in a study with unspecified design involving 13 children (4 girls and 9 \n",
              "boys) between the ages of 10 and 13 years with severe migraines, found a significant decrease in attack frequency \n",
              "and that Flunarizine has no serious side effects and is trouble-free for courses of 2 months. All studies concluded\n",
              "that flunarizine is effective in reducing the frequency and severity of migraines in children. It was also found to\n",
              "be safe with minimal side effects, most commonly increased fatigue. Some studies found flunarizine to be more \n",
              "effective when combined with other treatments, such as behavioral therapy or other prophylactic drugs. However, one\n",
              "study found that flunarizine was less effective than topiramate and propranolol in reducing the PedMIDAS scores, a \n",
              "measure of migraine severity. Another study found that flunarizine was less effective in children with vegetative \n",
              "lability. Despite these differences, the overall consensus is that flunarizine is a beneficial treatment for \n",
              "pediatric migraines.\n",
              "</pre>\n"
            ]
          },
          "metadata": {}
        },
        {
          "output_type": "display_data",
          "data": {
            "text/plain": [
              "  - expected output: None\n"
            ],
            "text/html": [
              "<pre style=\"white-space:pre;overflow-x:auto;line-height:normal;font-family:Menlo,'DejaVu Sans Mono',consolas,'Courier New',monospace\">  - expected output: None\n",
              "</pre>\n"
            ]
          },
          "metadata": {}
        },
        {
          "output_type": "display_data",
          "data": {
            "text/plain": [
              "  - context: None\n"
            ],
            "text/html": [
              "<pre style=\"white-space:pre;overflow-x:auto;line-height:normal;font-family:Menlo,'DejaVu Sans Mono',consolas,'Courier New',monospace\">  - context: None\n",
              "</pre>\n"
            ]
          },
          "metadata": {}
        },
        {
          "output_type": "display_data",
          "data": {
            "text/plain": [
              "  - retrieval context: None\n"
            ],
            "text/html": [
              "<pre style=\"white-space:pre;overflow-x:auto;line-height:normal;font-family:Menlo,'DejaVu Sans Mono',consolas,'Courier New',monospace\">  - retrieval context: None\n",
              "</pre>\n"
            ]
          },
          "metadata": {}
        },
        {
          "output_type": "display_data",
          "data": {
            "text/plain": [
              "\n"
            ],
            "text/html": [
              "<pre style=\"white-space:pre;overflow-x:auto;line-height:normal;font-family:Menlo,'DejaVu Sans Mono',consolas,'Courier New',monospace\">\n",
              "</pre>\n"
            ]
          },
          "metadata": {}
        },
        {
          "output_type": "display_data",
          "data": {
            "text/plain": [
              "----------------------------------------------------------------------\n"
            ],
            "text/html": [
              "<pre style=\"white-space:pre;overflow-x:auto;line-height:normal;font-family:Menlo,'DejaVu Sans Mono',consolas,'Courier New',monospace\">----------------------------------------------------------------------\n",
              "</pre>\n"
            ]
          },
          "metadata": {}
        },
        {
          "output_type": "display_data",
          "data": {
            "text/plain": [
              "✅ Tests finished! Run \u001b[32m\"deepeval login\"\u001b[0m to view evaluation results on the web.\n"
            ],
            "text/html": [
              "<pre style=\"white-space:pre;overflow-x:auto;line-height:normal;font-family:Menlo,'DejaVu Sans Mono',consolas,'Courier New',monospace\">✅ Tests finished! Run <span style=\"color: #008000; text-decoration-color: #008000\">\"deepeval login\"</span> to view evaluation results on the web.\n",
              "</pre>\n"
            ]
          },
          "metadata": {}
        },
        {
          "output_type": "display_data",
          "data": {
            "text/plain": [],
            "text/html": [
              "<pre style=\"white-space:pre;overflow-x:auto;line-height:normal;font-family:Menlo,'DejaVu Sans Mono',consolas,'Courier New',monospace\"></pre>\n"
            ]
          },
          "metadata": {}
        },
        {
          "output_type": "display_data",
          "data": {
            "text/plain": [
              "\n"
            ],
            "text/html": [
              "<pre style=\"white-space:pre;overflow-x:auto;line-height:normal;font-family:Menlo,'DejaVu Sans Mono',consolas,'Courier New',monospace\">\n",
              "</pre>\n"
            ]
          },
          "metadata": {}
        },
        {
          "output_type": "stream",
          "name": "stdout",
          "text": [
            "eval: [TestResult(success=True, metrics=[<deepeval.metrics.summarization.SummarizationMetric object at 0x7c5bb97fc3a0>], input='The efficacy of flunarizine compared with placebo for migraine prophylaxis in children with classic or common migraine was evaluated in 2 placebo-controlled studies in 118 subjects. Flunarizine 5 mg/day for 12 weeks resulted in statistically significant decreases in migraine attack frequency from baseline. Additionally, comparison of migraine frequency at the end of study showed statistically significantly fewer migraines with flunarizine versus placebo. Treatment with flunarizine also produced significant reductions from baseline in the duration of migraine attacks. The efficacy of flunarizine for migraine prophylaxis in children was compared with topiramate, propranolol, dihydroergotamine, amitriptyline, cyproheptadine, and    acetylsalicylic acid across 5 active-controlled studies in 278 subjects.The randomized, double-blind study by Lütschg and Vassella (1990) showed that 4-month treatment with flunarizine 5 to 10 mg/day or propranolol 30 to 120 mg/day produced similar reductions in the frequency of migraine attacks (76.4% flunarizine vs 73.3% propranolol) in children with simple or classic migraine. However, flunarizine had no effect on the duration or intensity of migraine attacks, whereas propranolol showed a decrease in migraine intensity. Similarly, the 4-month, open-label, active-controlled study by Hirfanoglu et al (1987) in children with migraine with or without aura showed a 71.5% reduction in migraine frequency with flunarizine 5 to 10 mg/day; corresponding reductions with amitriptyline 0.5 mg/kg/day, cyproheptadine 0.2 mg/kg/day, and propranolol 10 to 40 mg/day were 80.1%, 78.8%, and 68.2%, respectively. The 6-month non-randomized comparator study by Topcu et al (2014) reported significant decreases in PedMIDAS scores with flunarizine 5 to 10 mg/day, topiramate 1 to 2 mg/kg/day, and propranolol 20 to 40 mg/day, although reductions with topiramate and propranolol were significantly greater compared with flunarizine. Lastra Martinez et al (1990) found similar efficacy with flunarizine (10 mg/day) and dihydroergotamine (3 doses of 1.5 mg/day per week after Week 3) (79% and 87% subjects with improvement, respectively) in migraine frequency, intensity, and duration in children with classic or common migraine. In a prospective, double-blind study in children with classic or uncomplicated migraine, there were no significant differences between flunarizine 5 to 10 mg/day and acetylsalicylic acid 100 to 200 mg/day in reduction of migraine attack frequency or symptoms. An additional study compared the efficacy of flunarizine with flunarizine combined with behavioral therapy in 90 children with migraine.Flunarizine, at doses of 0.2 mg/kg/day up to 10 mg/day, administered for 3 months was found to be more effective when combined with behavioral therapy versus monotherapy, as shown by significantly lower PedMIDAS scores.Four non-controlled open-label studies in 263 subjects are supportive for the efficacy of flunarizine for prevention of migraine in children. An open-label study of flunarizine 10 mg/day administered for 8 weeks to 200 children and adolescents with migraine found a significant decrease in migraine attack frequency and severity. Boccia et al (2006) reported significantly decreased migraine frequency at 1 and 2 months after daily administration of flunarizine 5 mg in children with migraine. Similarly, Guidetti reported in children with common or classic migraine a significant decrease in migraine frequency after 1 month of treatment with flunarizine 5 mg/day, which was maintained after 6 months of treatment. Visudtibhan et al (2004) found that 66.7% of children administered flunarizine 5 to 10 mg/day had a decrease in migraine frequency. Overall, the reviewed efficacy data from studies of flunarizine in adults and children with migraine support the authorized indication of flunarizine in Vietnam for the maintenance treatment of migraine, when other treatments are ineffective or poorly tolerated. The reviewed studies provide evidence supporting the safety of flunarizine in children with migraine. Adverse events reported with flunarizine in 2 placebo-controlled studies with children included drowsiness, weight gain, GI complaints, and fatigue; there were no SAEs reported. Flunarizine had no effect on routine laboratory assessments, blood pressure, or electroencephalogram measurements. Adverse events with flunarizine across the 6 active\\x02controlled studies included drowsiness, paresthesia, increased appetite, weight gain, increased fatigue, shortness of breath, concentration disorders, and stomach pain. No SAEs or cases of EPS were observed. No AEs were reported with flunarizine in non-controlled open-label studies.', actual_output='The following 10 clinical studies evaluate the effectiveness of various treatments, including flunarizine, propranolol, and acetylsalicylic acid, in managing migraine conditions in children and adolescents. Boccia et al (2006) conducted a randomized, placebo-controlled, double-blind study. Chen et al (2014) carried out a randomized controlled study, while Hirfanoglu et al (2009) performed a controlled clinical trial. Lutschg et al (1990) executed a randomized double-blind study. Both Martinez et al (1990) and Pothmann et al (1987) undertook double-blind studies. Prospective studies were conducted by Min et al (2012), Topcu et al (2014), and Visudtibhan et al (2004). The type of study conducted by Guidetti et al (1987) was not specified. Boccia et al (2006) in their randomized, placebo-controlled, double-blind study found that Flunarizine significantly decreased the gastrointestinal symptoms with no relevant side-effects reported in a population of 50 children with migraines, although the age range was not specified. Chen et al (2014) in a randomized controlled study involving 90 pediatric patients with migraines aged between 8-14 years, found that a combination of behavioral therapy and pharmacological treatment had better efficacy, however, the efficacy and safety were not specified. In a controlled clinical trial, Hirfanoglu et al (2009) found that all four drugs decreased the frequency, duration, and severity of headaches in 77 children with migraines, aged 12.98 ± 3.11 years, but no drug was found to be superior in terms of reducing cytokine levels. Lutschg et al (1990) in a randomized double-blind study involving 33 children aged 3 to 15 years, found that both drugs reduced the number of migraine attacks, but temporary side effects occurred in some patients leading to the termination of treatment in two patients. In a double-blind study, Martinez et al (1990) and Pothmann et al (1987) found significant improvement in the frequency, intensity, and duration of crises in 80 children aged between 7 and 17 years, but side effects were reported in both groups, which were mild and temporary. In a prospective study, Min et al (2012), Topcu et al (2014), and Visudtibhan et al (2004) found that the frequency and degree of headaches were significantly decreased after therapy in 288 children and adolescents with migraines, aged between 6 and 17 years, and that Flunarizine for migraine prophylactic treatment is effective and safe, although some side effects such as dizziness, lack of attention, and palpitations were reported with topiramate treatment. Lastly, Guidetti et al (1987) in a study with unspecified design involving 13 children (4 girls and 9 boys) between the ages of 10 and 13 years with severe migraines, found a significant decrease in attack frequency and that Flunarizine has no serious side effects and is trouble-free for courses of 2 months. All studies concluded that flunarizine is effective in reducing the frequency and severity of migraines in children. It was also found to be safe with minimal side effects, most commonly increased fatigue. Some studies found flunarizine to be more effective when combined with other treatments, such as behavioral therapy or other prophylactic drugs. However, one study found that flunarizine was less effective than topiramate and propranolol in reducing the PedMIDAS scores, a measure of migraine severity. Another study found that flunarizine was less effective in children with vegetative lability. Despite these differences, the overall consensus is that flunarizine is a beneficial treatment for pediatric migraines.', expected_output=None, context=None, retrieval_context=None)]\n"
          ]
        }
      ]
    },
    {
      "cell_type": "markdown",
      "source": [
        "## 2. G-Eval\n"
      ],
      "metadata": {
        "id": "ikdR3ISXPWMj"
      }
    },
    {
      "cell_type": "markdown",
      "source": [
        "## 2.1. Original - G-Eval"
      ],
      "metadata": {
        "id": "DFIG-4qDuHYp"
      }
    },
    {
      "cell_type": "markdown",
      "source": [
        "### *2.1.1. Missing Values*"
      ],
      "metadata": {
        "id": "nd4tJ0Q3uMfi"
      }
    },
    {
      "cell_type": "code",
      "source": [
        "from deepeval.metrics import GEval\n",
        "from deepeval.test_case import LLMTestCaseParams\n",
        "\n",
        "summarization_metric = GEval(\n",
        "    name=\"Summarization\",\n",
        "    # criteria=\"Summarization - determine if the actual output is an accurate and concise summarization of the input.\",\n",
        "    # NOTE: you can only provide either criteria or evaluation_steps, and not both\n",
        "    evaluation_steps=[\"Check whether the 'actual output' has omitted any detail from 'input'\"],\n",
        "    evaluation_params=[LLMTestCaseParams.INPUT, LLMTestCaseParams.ACTUAL_OUTPUT],\n",
        "    model=custom_azure_openai_model,\n",
        ")\n",
        "\n",
        "test_case = LLMTestCase(input=artc_in, actual_output=artact_out)\n",
        "\n",
        "result = summarization_metric.measure(test_case)\n",
        "print(f\"result: {result}\")\n",
        "print(f\"summarization_metric.score: {summarization_metric.score}\")\n",
        "reason = summarization_metric.reason\n",
        "print(f\"summarization_metric.reason: {reason}\")"
      ],
      "metadata": {
        "colab": {
          "base_uri": "https://localhost:8080/"
        },
        "id": "2_Ja4sza-zp8",
        "outputId": "033879e4-df16-4e2b-f4f9-37ad309a4bfd"
      },
      "execution_count": 24,
      "outputs": [
        {
          "output_type": "stream",
          "name": "stdout",
          "text": [
            "result: 0.0\n",
            "summarization_metric.score: 0.0\n",
            "summarization_metric.reason: The actual output completely omits significant details from the input text. The actual output contains names of researchers and studies that are not mentioned in the input text and does not provide a faithful summary or representation of the input text. It also does not mention the key results and findings from the studies mentioned in the input text, such as the efficacy of flunarizine and its comparison with other drugs like topiramate, propranolol, dihydroergotamine, amitriptyline, cyproheptadine, and acetylsalicylic acid, as well as the reported adverse events. Therefore, the actual output fails to meet the criteria.\n"
          ]
        }
      ]
    },
    {
      "cell_type": "markdown",
      "source": [
        "### *2.1.2. Mis-Placed*"
      ],
      "metadata": {
        "id": "uQje8ZF6vTin"
      }
    },
    {
      "cell_type": "code",
      "source": [
        "from deepeval.metrics import GEval\n",
        "from deepeval.test_case import LLMTestCaseParams\n",
        "\n",
        "summarization_metric = GEval(\n",
        "    name=\"Summarization\",\n",
        "    # criteria=\"Summarization - determine if the actual output is an accurate and concise summarization of the input.\",\n",
        "    # NOTE: you can only provide either criteria or evaluation_steps, and not both\n",
        "    evaluation_steps=[\"Check whether the 'actual output' has omitted any detail from 'input'\"],\n",
        "    evaluation_params=[LLMTestCaseParams.INPUT, LLMTestCaseParams.ACTUAL_OUTPUT],\n",
        "    model=custom_azure_openai_model,\n",
        ")\n",
        "\n",
        "test_case = LLMTestCase(input=artc_in, actual_output=artact_out)\n",
        "\n",
        "result = summarization_metric.measure(test_case)\n",
        "print(f\"result: {result}\")\n",
        "print(f\"summarization_metric.score: {summarization_metric.score}\")\n",
        "reason = summarization_metric.reason\n",
        "print(f\"summarization_metric.reason: {reason}\")"
      ],
      "metadata": {
        "colab": {
          "base_uri": "https://localhost:8080/"
        },
        "outputId": "e135b50a-9f3f-433c-cc4c-75573011e06c",
        "id": "cQXMlj-wvTit"
      },
      "execution_count": 25,
      "outputs": [
        {
          "output_type": "stream",
          "name": "stdout",
          "text": [
            "result: 0.0\n",
            "summarization_metric.score: 0.0\n",
            "summarization_metric.reason: The 'actual output' has completely omitted most details from the 'input'. It does not accurately reflect the information provided in the 'input' text, such as the comparison of flunarizine with other drugs, the percent reduction in migraine frequency, or the side effects of flunarizine. Instead, it introduces new information that was not present in the 'input'. Thus, it does not adhere to the evaluation steps.\n"
          ]
        }
      ]
    },
    {
      "cell_type": "markdown",
      "source": [
        "### *2.1.3. Incorrect*"
      ],
      "metadata": {
        "id": "1_jMDmzmvTit"
      }
    },
    {
      "cell_type": "code",
      "source": [
        "from deepeval.metrics import GEval\n",
        "from deepeval.test_case import LLMTestCaseParams\n",
        "\n",
        "summarization_metric = GEval(\n",
        "    name=\"Summarization\",\n",
        "    # criteria=\"Summarization - determine if the actual output is an accurate and concise summarization of the input.\",\n",
        "    # NOTE: you can only provide either criteria or evaluation_steps, and not both\n",
        "    evaluation_steps=[\"Check whether the 'actual output' has omitted any detail from 'input'\"],\n",
        "    evaluation_params=[LLMTestCaseParams.INPUT, LLMTestCaseParams.ACTUAL_OUTPUT],\n",
        "    model=custom_azure_openai_model,\n",
        ")\n",
        "\n",
        "test_case = LLMTestCase(input=artc_in, actual_output=artact_out)\n",
        "\n",
        "result = summarization_metric.measure(test_case)\n",
        "print(f\"result: {result}\")\n",
        "print(f\"summarization_metric.score: {summarization_metric.score}\")\n",
        "reason = summarization_metric.reason\n",
        "print(f\"summarization_metric.reason: {reason}\")"
      ],
      "metadata": {
        "colab": {
          "base_uri": "https://localhost:8080/"
        },
        "outputId": "e9948c17-791f-41c2-8200-97ada8db3169",
        "id": "_KnQS7bGvTit"
      },
      "execution_count": 26,
      "outputs": [
        {
          "output_type": "stream",
          "name": "stdout",
          "text": [
            "result: 0.3\n",
            "summarization_metric.score: 0.3\n",
            "summarization_metric.reason: The actual output significantly deviates from the input. It omits many crucial details such as the specific studies, the percentages of reduction in migraine frequency, the comparison of flunarizine with other drugs, and the side effects noted. It instead introduces new information not mentioned in the input. Also, the names of the studies and authors mentioned in the output do not match with those in the input.\n"
          ]
        }
      ]
    },
    {
      "cell_type": "markdown",
      "source": [
        "## 2.2. Customized - G-Eval"
      ],
      "metadata": {
        "id": "nhSKDmQsunPp"
      }
    },
    {
      "cell_type": "markdown",
      "source": [
        "### *2.2.1. Missing Values*"
      ],
      "metadata": {
        "id": "cXbdH6qe3Rmn"
      }
    },
    {
      "cell_type": "code",
      "source": [
        "from deepeval.metrics import GEval\n",
        "from deepeval.test_case import LLMTestCaseParams\n",
        "\n",
        "summarization_metric = GEval(\n",
        "    name=\"Summarization\",\n",
        "    # criteria=\"Summarization - determine if the actual output is an accurate and concise summarization of the input. and also determine the actual output missing the contents of the input\",\n",
        "    # NOTE: you can only provide either criteria or evaluation_steps, and not both\n",
        "    evaluation_steps=[\"Check whether the 'actual output' has omitted any detail from 'input'. If missing values is there the inform unlesss return no missing values. Find missing values: \"],\n",
        "    evaluation_params=[LLMTestCaseParams.INPUT, LLMTestCaseParams.ACTUAL_OUTPUT],\n",
        "    model=custom_azure_openai_model,\n",
        ")\n",
        "\n",
        "test_case = LLMTestCase(input=artc_in, actual_output=artact_out)\n",
        "\n",
        "result = summarization_metric.measure(test_case)\n",
        "print(f\"result: {result}\")\n",
        "print(f\"summarization_metric.score: {summarization_metric.score}\")\n",
        "reason = summarization_metric.reason\n",
        "print(f\"summarization_metric.reason: {reason}\")"
      ],
      "metadata": {
        "colab": {
          "base_uri": "https://localhost:8080/"
        },
        "id": "u01-y6RIHfjg",
        "outputId": "82ca699e-27fa-4554-b65b-14df38f5a533"
      },
      "execution_count": 31,
      "outputs": [
        {
          "output_type": "stream",
          "name": "stdout",
          "text": [
            "result: 0.0\n",
            "summarization_metric.score: 0.0\n",
            "summarization_metric.reason: The actual output does not reflect the information given in the input text. There is a discrepancy in the details of the studies mentioned, their results, and the researchers involved. The actual output also includes information not present in the input text.\n"
          ]
        }
      ]
    },
    {
      "cell_type": "markdown",
      "source": [
        "### *2.2.2. Mis-Placed*"
      ],
      "metadata": {
        "id": "ADnkUKrD3U0u"
      }
    },
    {
      "cell_type": "code",
      "source": [
        "from deepeval.metrics import GEval\n",
        "from deepeval.test_case import LLMTestCaseParams\n",
        "\n",
        "summarization_metric = GEval(\n",
        "    name=\"Summarization\",\n",
        "    # criteria=\"Summarization - determine if the actual output is an accurate and concise summarization of the input.\",\n",
        "    # NOTE: you can only provide either criteria or evaluation_steps, and not both\n",
        "    evaluation_steps=[\"Check whether the 'actual output' has omitted any detail from 'input'. If misplaced values is there the inform unlesss return no misplaced values. Find misplaced values: \"],\n",
        "    evaluation_params=[LLMTestCaseParams.INPUT, LLMTestCaseParams.ACTUAL_OUTPUT],\n",
        "    model=custom_azure_openai_model,\n",
        ")\n",
        "\n",
        "test_case = LLMTestCase(input=artc_in, actual_output=artact_out)\n",
        "\n",
        "result = summarization_metric.measure(test_case)\n",
        "print(f\"result: {result}\")\n",
        "print(f\"summarization_metric.score: {summarization_metric.score}\")\n",
        "reason = summarization_metric.reason\n",
        "print(f\"summarization_metric.reason: {reason}\")\n"
      ],
      "metadata": {
        "id": "PjWJx7MuPXjC",
        "colab": {
          "base_uri": "https://localhost:8080/"
        },
        "outputId": "a0588966-d59a-4eab-8611-409ea663adf6"
      },
      "execution_count": 32,
      "outputs": [
        {
          "output_type": "stream",
          "name": "stdout",
          "text": [
            "result: 0.0\n",
            "summarization_metric.score: 0.0\n",
            "summarization_metric.reason: The 'actual_output' has completely omitted the details from the 'input' text. No information about the studies mentioned in the 'input' has been included in the 'actual_output'. The actual_output has also introduced new studies that were not present in the 'input' text. Therefore, the actual_output does not follow the criteria at all.\n"
          ]
        }
      ]
    },
    {
      "cell_type": "markdown",
      "source": [
        "### *2.2.3. Incorrect*"
      ],
      "metadata": {
        "id": "6jm5rjvW3Y0G"
      }
    },
    {
      "cell_type": "code",
      "source": [
        "from deepeval.metrics import GEval\n",
        "from deepeval.test_case import LLMTestCaseParams\n",
        "\n",
        "summarization_metric = GEval(\n",
        "    name=\"Summarization\",\n",
        "    # criteria=\"Summarization - determine if the actual output is an accurate and concise summarization of the input.\",\n",
        "    # NOTE: you can only provide either criteria or evaluation_steps, and not both\n",
        "    evaluation_steps=[\"Check whether the 'actual output' has omitted any detail from 'input'. If incorrect values is there the inform unlesss return no incorrect values. Find incorrect values: \"],\n",
        "    evaluation_params=[LLMTestCaseParams.INPUT, LLMTestCaseParams.ACTUAL_OUTPUT],\n",
        "    model=custom_azure_openai_model,\n",
        ")\n",
        "\n",
        "test_case = LLMTestCase(input=artc_in, actual_output=artact_out)\n",
        "\n",
        "result = summarization_metric.measure(test_case)\n",
        "print(f\"result: {result}\")\n",
        "print(f\"summarization_metric.score: {summarization_metric.score}\")\n",
        "reason = summarization_metric.reason\n",
        "print(f\"summarization_metric.reason: {reason}\")\n",
        "# for i in reason.split('.'):\n",
        "#   print(i)"
      ],
      "metadata": {
        "colab": {
          "base_uri": "https://localhost:8080/"
        },
        "id": "egGLaaI93amQ",
        "outputId": "4090475e-00ba-4294-c9a5-7d37d5a7c8c3"
      },
      "execution_count": 38,
      "outputs": [
        {
          "output_type": "stream",
          "name": "stdout",
          "text": [
            "result: 0.0\n",
            "summarization_metric.score: 0.0\n",
            "summarization_metric.reason: The actual output doesn't correctly reflect the input text. It omits several important details, such as the comparison of flunarizine with other drugs, the specifics about the reduction in migraine attack frequency, the details about the placebo-controlled studies, the specifics about the active-controlled studies, and the adverse events reported with flunarizine. The actual output also incorrectly states the authors of the studies and their findings, which were not mentioned in the input text.\n"
          ]
        }
      ]
    },
    {
      "cell_type": "markdown",
      "source": [
        "# Excel File creation"
      ],
      "metadata": {
        "id": "xHkZy6tZzNwv"
      }
    },
    {
      "cell_type": "code",
      "source": [
        "import pandas as pd\n",
        "\n",
        "def create_and_save_excel(data, file_name='output.xlsx'):\n",
        "    # Create a DataFrame from the data\n",
        "    df = pd.DataFrame(data)\n",
        "\n",
        "    # Save the DataFrame to an Excel file\n",
        "    df.to_excel(file_name, index=False)\n",
        "\n",
        "# Example data (you can replace this with your own data)\n",
        "example_data = {\n",
        "    # 'Name': ['John', 'Alice', 'Bob'],\n",
        "    # 'Age': [25, 30, 28],\n",
        "    # 'City': ['New York', 'San Francisco', 'Los Angeles']\n",
        "\n",
        "    # Summerize\n",
        "    \"Methods\": ['Org-Summerize-incorrect-score', 'Org-Summerize-missing-score', 'Org-Summerize-misplaced-score',\n",
        "                'customised-Summerize-incorrect-score', 'customised-Summerize-missing-score', 'customised-Summerize-misplaced-score',\n",
        "                'Org-Eval-incorrect-score', 'Org-Eval-incorrect-reason',\n",
        "                'Org-Eval-missing-score', 'Org-Eval-missing-reason',\n",
        "                'Org-Eval-misplaced-score', 'Org-Eval-misplaced-reason',\n",
        "                'customised-Eval-incorrect-score', 'customised-Eval-incorrect-reason',\n",
        "                'customised-Eval-missing-score', 'customised-Eval-missing-reason',\n",
        "                'customised-Eval-misplaced-score', 'customised-Eval-misplaced-reason'\n",
        "    ],\n",
        "    \"Score and Reason\": scrandreasn,\n",
        "\n",
        "}\n",
        "\n",
        "# Specify the output file name\n",
        "output_file_name = 'output.xlsx'\n",
        "\n",
        "# Create and save the Excel file\n",
        "create_and_save_excel(example_data, output_file_name)\n",
        "\n",
        "print(f\"Excel file '{output_file_name}' created and saved.\")\n"
      ],
      "metadata": {
        "colab": {
          "base_uri": "https://localhost:8080/",
          "height": 245
        },
        "id": "i7D_gVnYzP0O",
        "outputId": "8a0eb943-b9aa-4e03-ebf0-85b18c46df16"
      },
      "execution_count": 16,
      "outputs": [
        {
          "output_type": "error",
          "ename": "NameError",
          "evalue": "name 'scrandreasn' is not defined",
          "traceback": [
            "\u001b[0;31m---------------------------------------------------------------------------\u001b[0m",
            "\u001b[0;31mNameError\u001b[0m                                 Traceback (most recent call last)",
            "\u001b[0;32m<ipython-input-16-4ee67ce1eb34>\u001b[0m in \u001b[0;36m<cell line: 17>\u001b[0;34m()\u001b[0m\n\u001b[1;32m     24\u001b[0m                 \u001b[0;34m'customised-Eval-misplaced-score'\u001b[0m\u001b[0;34m,\u001b[0m \u001b[0;34m'customised-Eval-misplaced-reason'\u001b[0m\u001b[0;34m\u001b[0m\u001b[0;34m\u001b[0m\u001b[0m\n\u001b[1;32m     25\u001b[0m     ],\n\u001b[0;32m---> 26\u001b[0;31m     \u001b[0;34m\"Score and Reason\"\u001b[0m\u001b[0;34m:\u001b[0m \u001b[0mscrandreasn\u001b[0m\u001b[0;34m,\u001b[0m\u001b[0;34m\u001b[0m\u001b[0;34m\u001b[0m\u001b[0m\n\u001b[0m\u001b[1;32m     27\u001b[0m \u001b[0;34m\u001b[0m\u001b[0m\n\u001b[1;32m     28\u001b[0m }\n",
            "\u001b[0;31mNameError\u001b[0m: name 'scrandreasn' is not defined"
          ]
        }
      ]
    },
    {
      "cell_type": "code",
      "source": [],
      "metadata": {
        "id": "quofECd0DLax"
      },
      "execution_count": null,
      "outputs": []
    }
  ]
}